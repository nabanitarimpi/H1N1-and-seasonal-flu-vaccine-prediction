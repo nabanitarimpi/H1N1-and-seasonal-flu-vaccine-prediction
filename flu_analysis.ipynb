{
 "cells": [
  {
   "cell_type": "code",
   "execution_count": 59,
   "metadata": {},
   "outputs": [],
   "source": [
    "import numpy as np\n",
    "import pandas as pd\n",
    "import matplotlib.pyplot as plt\n",
    "import seaborn as sns\n",
    "from sklearn.experimental import enable_iterative_imputer  \n",
    "from sklearn.impute import SimpleImputer, KNNImputer, IterativeImputer\n",
    "from sklearn.preprocessing import OneHotEncoder, MinMaxScaler\n",
    "from sklearn.base import BaseEstimator, TransformerMixin\n",
    "from sklearn.pipeline import Pipeline\n",
    "from sklearn.multiclass import OneVsRestClassifier\n",
    "from sklearn.model_selection import GridSearchCV, train_test_split\n",
    "from sklearn.linear_model import LogisticRegression, BayesianRidge\n",
    "from sklearn.neighbors import KNeighborsClassifier\n",
    "from sklearn.ensemble import RandomForestClassifier, AdaBoostClassifier, GradientBoostingClassifier, ExtraTreesRegressor\n",
    "from xgboost import XGBClassifier\n",
    "from sklearn.metrics import roc_auc_score, plot_confusion_matrix\n",
    "from imblearn.over_sampling import SMOTE\n",
    "\n",
    "import time\n",
    "import warnings\n",
    "warnings.filterwarnings(\"ignore\")"
   ]
  },
  {
   "cell_type": "code",
   "execution_count": 2,
   "metadata": {},
   "outputs": [],
   "source": [
    "feat_df = pd.read_csv(\"training_set_features.csv\")"
   ]
  },
  {
   "cell_type": "code",
   "execution_count": 3,
   "metadata": {},
   "outputs": [
    {
     "data": {
      "text/html": [
       "<div>\n",
       "<style scoped>\n",
       "    .dataframe tbody tr th:only-of-type {\n",
       "        vertical-align: middle;\n",
       "    }\n",
       "\n",
       "    .dataframe tbody tr th {\n",
       "        vertical-align: top;\n",
       "    }\n",
       "\n",
       "    .dataframe thead th {\n",
       "        text-align: right;\n",
       "    }\n",
       "</style>\n",
       "<table border=\"1\" class=\"dataframe\">\n",
       "  <thead>\n",
       "    <tr style=\"text-align: right;\">\n",
       "      <th></th>\n",
       "      <th>respondent_id</th>\n",
       "      <th>h1n1_concern</th>\n",
       "      <th>h1n1_knowledge</th>\n",
       "      <th>behavioral_antiviral_meds</th>\n",
       "      <th>behavioral_avoidance</th>\n",
       "      <th>behavioral_face_mask</th>\n",
       "      <th>behavioral_wash_hands</th>\n",
       "      <th>behavioral_large_gatherings</th>\n",
       "      <th>behavioral_outside_home</th>\n",
       "      <th>behavioral_touch_face</th>\n",
       "      <th>...</th>\n",
       "      <th>income_poverty</th>\n",
       "      <th>marital_status</th>\n",
       "      <th>rent_or_own</th>\n",
       "      <th>employment_status</th>\n",
       "      <th>hhs_geo_region</th>\n",
       "      <th>census_msa</th>\n",
       "      <th>household_adults</th>\n",
       "      <th>household_children</th>\n",
       "      <th>employment_industry</th>\n",
       "      <th>employment_occupation</th>\n",
       "    </tr>\n",
       "  </thead>\n",
       "  <tbody>\n",
       "    <tr>\n",
       "      <th>0</th>\n",
       "      <td>0</td>\n",
       "      <td>1.0</td>\n",
       "      <td>0.0</td>\n",
       "      <td>0.0</td>\n",
       "      <td>0.0</td>\n",
       "      <td>0.0</td>\n",
       "      <td>0.0</td>\n",
       "      <td>0.0</td>\n",
       "      <td>1.0</td>\n",
       "      <td>1.0</td>\n",
       "      <td>...</td>\n",
       "      <td>Below Poverty</td>\n",
       "      <td>Not Married</td>\n",
       "      <td>Own</td>\n",
       "      <td>Not in Labor Force</td>\n",
       "      <td>oxchjgsf</td>\n",
       "      <td>Non-MSA</td>\n",
       "      <td>0.0</td>\n",
       "      <td>0.0</td>\n",
       "      <td>NaN</td>\n",
       "      <td>NaN</td>\n",
       "    </tr>\n",
       "    <tr>\n",
       "      <th>1</th>\n",
       "      <td>1</td>\n",
       "      <td>3.0</td>\n",
       "      <td>2.0</td>\n",
       "      <td>0.0</td>\n",
       "      <td>1.0</td>\n",
       "      <td>0.0</td>\n",
       "      <td>1.0</td>\n",
       "      <td>0.0</td>\n",
       "      <td>1.0</td>\n",
       "      <td>1.0</td>\n",
       "      <td>...</td>\n",
       "      <td>Below Poverty</td>\n",
       "      <td>Not Married</td>\n",
       "      <td>Rent</td>\n",
       "      <td>Employed</td>\n",
       "      <td>bhuqouqj</td>\n",
       "      <td>MSA, Not Principle  City</td>\n",
       "      <td>0.0</td>\n",
       "      <td>0.0</td>\n",
       "      <td>pxcmvdjn</td>\n",
       "      <td>xgwztkwe</td>\n",
       "    </tr>\n",
       "    <tr>\n",
       "      <th>2</th>\n",
       "      <td>2</td>\n",
       "      <td>1.0</td>\n",
       "      <td>1.0</td>\n",
       "      <td>0.0</td>\n",
       "      <td>1.0</td>\n",
       "      <td>0.0</td>\n",
       "      <td>0.0</td>\n",
       "      <td>0.0</td>\n",
       "      <td>0.0</td>\n",
       "      <td>0.0</td>\n",
       "      <td>...</td>\n",
       "      <td>&lt;= $75,000, Above Poverty</td>\n",
       "      <td>Not Married</td>\n",
       "      <td>Own</td>\n",
       "      <td>Employed</td>\n",
       "      <td>qufhixun</td>\n",
       "      <td>MSA, Not Principle  City</td>\n",
       "      <td>2.0</td>\n",
       "      <td>0.0</td>\n",
       "      <td>rucpziij</td>\n",
       "      <td>xtkaffoo</td>\n",
       "    </tr>\n",
       "    <tr>\n",
       "      <th>3</th>\n",
       "      <td>3</td>\n",
       "      <td>1.0</td>\n",
       "      <td>1.0</td>\n",
       "      <td>0.0</td>\n",
       "      <td>1.0</td>\n",
       "      <td>0.0</td>\n",
       "      <td>1.0</td>\n",
       "      <td>1.0</td>\n",
       "      <td>0.0</td>\n",
       "      <td>0.0</td>\n",
       "      <td>...</td>\n",
       "      <td>Below Poverty</td>\n",
       "      <td>Not Married</td>\n",
       "      <td>Rent</td>\n",
       "      <td>Not in Labor Force</td>\n",
       "      <td>lrircsnp</td>\n",
       "      <td>MSA, Principle City</td>\n",
       "      <td>0.0</td>\n",
       "      <td>0.0</td>\n",
       "      <td>NaN</td>\n",
       "      <td>NaN</td>\n",
       "    </tr>\n",
       "    <tr>\n",
       "      <th>4</th>\n",
       "      <td>4</td>\n",
       "      <td>2.0</td>\n",
       "      <td>1.0</td>\n",
       "      <td>0.0</td>\n",
       "      <td>1.0</td>\n",
       "      <td>0.0</td>\n",
       "      <td>1.0</td>\n",
       "      <td>1.0</td>\n",
       "      <td>0.0</td>\n",
       "      <td>1.0</td>\n",
       "      <td>...</td>\n",
       "      <td>&lt;= $75,000, Above Poverty</td>\n",
       "      <td>Married</td>\n",
       "      <td>Own</td>\n",
       "      <td>Employed</td>\n",
       "      <td>qufhixun</td>\n",
       "      <td>MSA, Not Principle  City</td>\n",
       "      <td>1.0</td>\n",
       "      <td>0.0</td>\n",
       "      <td>wxleyezf</td>\n",
       "      <td>emcorrxb</td>\n",
       "    </tr>\n",
       "  </tbody>\n",
       "</table>\n",
       "<p>5 rows × 36 columns</p>\n",
       "</div>"
      ],
      "text/plain": [
       "   respondent_id  h1n1_concern  h1n1_knowledge  behavioral_antiviral_meds  \\\n",
       "0              0           1.0             0.0                        0.0   \n",
       "1              1           3.0             2.0                        0.0   \n",
       "2              2           1.0             1.0                        0.0   \n",
       "3              3           1.0             1.0                        0.0   \n",
       "4              4           2.0             1.0                        0.0   \n",
       "\n",
       "   behavioral_avoidance  behavioral_face_mask  behavioral_wash_hands  \\\n",
       "0                   0.0                   0.0                    0.0   \n",
       "1                   1.0                   0.0                    1.0   \n",
       "2                   1.0                   0.0                    0.0   \n",
       "3                   1.0                   0.0                    1.0   \n",
       "4                   1.0                   0.0                    1.0   \n",
       "\n",
       "   behavioral_large_gatherings  behavioral_outside_home  \\\n",
       "0                          0.0                      1.0   \n",
       "1                          0.0                      1.0   \n",
       "2                          0.0                      0.0   \n",
       "3                          1.0                      0.0   \n",
       "4                          1.0                      0.0   \n",
       "\n",
       "   behavioral_touch_face  ...             income_poverty  marital_status  \\\n",
       "0                    1.0  ...              Below Poverty     Not Married   \n",
       "1                    1.0  ...              Below Poverty     Not Married   \n",
       "2                    0.0  ...  <= $75,000, Above Poverty     Not Married   \n",
       "3                    0.0  ...              Below Poverty     Not Married   \n",
       "4                    1.0  ...  <= $75,000, Above Poverty         Married   \n",
       "\n",
       "   rent_or_own   employment_status  hhs_geo_region                census_msa  \\\n",
       "0          Own  Not in Labor Force        oxchjgsf                   Non-MSA   \n",
       "1         Rent            Employed        bhuqouqj  MSA, Not Principle  City   \n",
       "2          Own            Employed        qufhixun  MSA, Not Principle  City   \n",
       "3         Rent  Not in Labor Force        lrircsnp       MSA, Principle City   \n",
       "4          Own            Employed        qufhixun  MSA, Not Principle  City   \n",
       "\n",
       "   household_adults  household_children  employment_industry  \\\n",
       "0               0.0                 0.0                  NaN   \n",
       "1               0.0                 0.0             pxcmvdjn   \n",
       "2               2.0                 0.0             rucpziij   \n",
       "3               0.0                 0.0                  NaN   \n",
       "4               1.0                 0.0             wxleyezf   \n",
       "\n",
       "   employment_occupation  \n",
       "0                    NaN  \n",
       "1               xgwztkwe  \n",
       "2               xtkaffoo  \n",
       "3                    NaN  \n",
       "4               emcorrxb  \n",
       "\n",
       "[5 rows x 36 columns]"
      ]
     },
     "execution_count": 3,
     "metadata": {},
     "output_type": "execute_result"
    }
   ],
   "source": [
    "feat_df.head()"
   ]
  },
  {
   "cell_type": "code",
   "execution_count": 4,
   "metadata": {},
   "outputs": [
    {
     "data": {
      "text/html": [
       "<div>\n",
       "<style scoped>\n",
       "    .dataframe tbody tr th:only-of-type {\n",
       "        vertical-align: middle;\n",
       "    }\n",
       "\n",
       "    .dataframe tbody tr th {\n",
       "        vertical-align: top;\n",
       "    }\n",
       "\n",
       "    .dataframe thead th {\n",
       "        text-align: right;\n",
       "    }\n",
       "</style>\n",
       "<table border=\"1\" class=\"dataframe\">\n",
       "  <thead>\n",
       "    <tr style=\"text-align: right;\">\n",
       "      <th></th>\n",
       "      <th>respondent_id</th>\n",
       "      <th>h1n1_vaccine</th>\n",
       "      <th>seasonal_vaccine</th>\n",
       "    </tr>\n",
       "  </thead>\n",
       "  <tbody>\n",
       "    <tr>\n",
       "      <th>0</th>\n",
       "      <td>0</td>\n",
       "      <td>0</td>\n",
       "      <td>0</td>\n",
       "    </tr>\n",
       "    <tr>\n",
       "      <th>1</th>\n",
       "      <td>1</td>\n",
       "      <td>0</td>\n",
       "      <td>1</td>\n",
       "    </tr>\n",
       "    <tr>\n",
       "      <th>2</th>\n",
       "      <td>2</td>\n",
       "      <td>0</td>\n",
       "      <td>0</td>\n",
       "    </tr>\n",
       "    <tr>\n",
       "      <th>3</th>\n",
       "      <td>3</td>\n",
       "      <td>0</td>\n",
       "      <td>1</td>\n",
       "    </tr>\n",
       "    <tr>\n",
       "      <th>4</th>\n",
       "      <td>4</td>\n",
       "      <td>0</td>\n",
       "      <td>0</td>\n",
       "    </tr>\n",
       "  </tbody>\n",
       "</table>\n",
       "</div>"
      ],
      "text/plain": [
       "   respondent_id  h1n1_vaccine  seasonal_vaccine\n",
       "0              0             0                 0\n",
       "1              1             0                 1\n",
       "2              2             0                 0\n",
       "3              3             0                 1\n",
       "4              4             0                 0"
      ]
     },
     "execution_count": 4,
     "metadata": {},
     "output_type": "execute_result"
    }
   ],
   "source": [
    "label_df = pd.read_csv(\"training_set_labels.csv\")\n",
    "label_df.head()"
   ]
  },
  {
   "cell_type": "code",
   "execution_count": 5,
   "metadata": {},
   "outputs": [
    {
     "data": {
      "text/html": [
       "<div>\n",
       "<style scoped>\n",
       "    .dataframe tbody tr th:only-of-type {\n",
       "        vertical-align: middle;\n",
       "    }\n",
       "\n",
       "    .dataframe tbody tr th {\n",
       "        vertical-align: top;\n",
       "    }\n",
       "\n",
       "    .dataframe thead th {\n",
       "        text-align: right;\n",
       "    }\n",
       "</style>\n",
       "<table border=\"1\" class=\"dataframe\">\n",
       "  <thead>\n",
       "    <tr style=\"text-align: right;\">\n",
       "      <th></th>\n",
       "      <th>respondent_id</th>\n",
       "      <th>h1n1_concern</th>\n",
       "      <th>h1n1_knowledge</th>\n",
       "      <th>behavioral_antiviral_meds</th>\n",
       "      <th>behavioral_avoidance</th>\n",
       "      <th>behavioral_face_mask</th>\n",
       "      <th>behavioral_wash_hands</th>\n",
       "      <th>behavioral_large_gatherings</th>\n",
       "      <th>behavioral_outside_home</th>\n",
       "      <th>behavioral_touch_face</th>\n",
       "      <th>...</th>\n",
       "      <th>rent_or_own</th>\n",
       "      <th>employment_status</th>\n",
       "      <th>hhs_geo_region</th>\n",
       "      <th>census_msa</th>\n",
       "      <th>household_adults</th>\n",
       "      <th>household_children</th>\n",
       "      <th>employment_industry</th>\n",
       "      <th>employment_occupation</th>\n",
       "      <th>h1n1_vaccine</th>\n",
       "      <th>seasonal_vaccine</th>\n",
       "    </tr>\n",
       "  </thead>\n",
       "  <tbody>\n",
       "    <tr>\n",
       "      <th>0</th>\n",
       "      <td>0</td>\n",
       "      <td>1.0</td>\n",
       "      <td>0.0</td>\n",
       "      <td>0.0</td>\n",
       "      <td>0.0</td>\n",
       "      <td>0.0</td>\n",
       "      <td>0.0</td>\n",
       "      <td>0.0</td>\n",
       "      <td>1.0</td>\n",
       "      <td>1.0</td>\n",
       "      <td>...</td>\n",
       "      <td>Own</td>\n",
       "      <td>Not in Labor Force</td>\n",
       "      <td>oxchjgsf</td>\n",
       "      <td>Non-MSA</td>\n",
       "      <td>0.0</td>\n",
       "      <td>0.0</td>\n",
       "      <td>NaN</td>\n",
       "      <td>NaN</td>\n",
       "      <td>0</td>\n",
       "      <td>0</td>\n",
       "    </tr>\n",
       "    <tr>\n",
       "      <th>1</th>\n",
       "      <td>1</td>\n",
       "      <td>3.0</td>\n",
       "      <td>2.0</td>\n",
       "      <td>0.0</td>\n",
       "      <td>1.0</td>\n",
       "      <td>0.0</td>\n",
       "      <td>1.0</td>\n",
       "      <td>0.0</td>\n",
       "      <td>1.0</td>\n",
       "      <td>1.0</td>\n",
       "      <td>...</td>\n",
       "      <td>Rent</td>\n",
       "      <td>Employed</td>\n",
       "      <td>bhuqouqj</td>\n",
       "      <td>MSA, Not Principle  City</td>\n",
       "      <td>0.0</td>\n",
       "      <td>0.0</td>\n",
       "      <td>pxcmvdjn</td>\n",
       "      <td>xgwztkwe</td>\n",
       "      <td>0</td>\n",
       "      <td>1</td>\n",
       "    </tr>\n",
       "    <tr>\n",
       "      <th>2</th>\n",
       "      <td>2</td>\n",
       "      <td>1.0</td>\n",
       "      <td>1.0</td>\n",
       "      <td>0.0</td>\n",
       "      <td>1.0</td>\n",
       "      <td>0.0</td>\n",
       "      <td>0.0</td>\n",
       "      <td>0.0</td>\n",
       "      <td>0.0</td>\n",
       "      <td>0.0</td>\n",
       "      <td>...</td>\n",
       "      <td>Own</td>\n",
       "      <td>Employed</td>\n",
       "      <td>qufhixun</td>\n",
       "      <td>MSA, Not Principle  City</td>\n",
       "      <td>2.0</td>\n",
       "      <td>0.0</td>\n",
       "      <td>rucpziij</td>\n",
       "      <td>xtkaffoo</td>\n",
       "      <td>0</td>\n",
       "      <td>0</td>\n",
       "    </tr>\n",
       "    <tr>\n",
       "      <th>3</th>\n",
       "      <td>3</td>\n",
       "      <td>1.0</td>\n",
       "      <td>1.0</td>\n",
       "      <td>0.0</td>\n",
       "      <td>1.0</td>\n",
       "      <td>0.0</td>\n",
       "      <td>1.0</td>\n",
       "      <td>1.0</td>\n",
       "      <td>0.0</td>\n",
       "      <td>0.0</td>\n",
       "      <td>...</td>\n",
       "      <td>Rent</td>\n",
       "      <td>Not in Labor Force</td>\n",
       "      <td>lrircsnp</td>\n",
       "      <td>MSA, Principle City</td>\n",
       "      <td>0.0</td>\n",
       "      <td>0.0</td>\n",
       "      <td>NaN</td>\n",
       "      <td>NaN</td>\n",
       "      <td>0</td>\n",
       "      <td>1</td>\n",
       "    </tr>\n",
       "    <tr>\n",
       "      <th>4</th>\n",
       "      <td>4</td>\n",
       "      <td>2.0</td>\n",
       "      <td>1.0</td>\n",
       "      <td>0.0</td>\n",
       "      <td>1.0</td>\n",
       "      <td>0.0</td>\n",
       "      <td>1.0</td>\n",
       "      <td>1.0</td>\n",
       "      <td>0.0</td>\n",
       "      <td>1.0</td>\n",
       "      <td>...</td>\n",
       "      <td>Own</td>\n",
       "      <td>Employed</td>\n",
       "      <td>qufhixun</td>\n",
       "      <td>MSA, Not Principle  City</td>\n",
       "      <td>1.0</td>\n",
       "      <td>0.0</td>\n",
       "      <td>wxleyezf</td>\n",
       "      <td>emcorrxb</td>\n",
       "      <td>0</td>\n",
       "      <td>0</td>\n",
       "    </tr>\n",
       "  </tbody>\n",
       "</table>\n",
       "<p>5 rows × 38 columns</p>\n",
       "</div>"
      ],
      "text/plain": [
       "   respondent_id  h1n1_concern  h1n1_knowledge  behavioral_antiviral_meds  \\\n",
       "0              0           1.0             0.0                        0.0   \n",
       "1              1           3.0             2.0                        0.0   \n",
       "2              2           1.0             1.0                        0.0   \n",
       "3              3           1.0             1.0                        0.0   \n",
       "4              4           2.0             1.0                        0.0   \n",
       "\n",
       "   behavioral_avoidance  behavioral_face_mask  behavioral_wash_hands  \\\n",
       "0                   0.0                   0.0                    0.0   \n",
       "1                   1.0                   0.0                    1.0   \n",
       "2                   1.0                   0.0                    0.0   \n",
       "3                   1.0                   0.0                    1.0   \n",
       "4                   1.0                   0.0                    1.0   \n",
       "\n",
       "   behavioral_large_gatherings  behavioral_outside_home  \\\n",
       "0                          0.0                      1.0   \n",
       "1                          0.0                      1.0   \n",
       "2                          0.0                      0.0   \n",
       "3                          1.0                      0.0   \n",
       "4                          1.0                      0.0   \n",
       "\n",
       "   behavioral_touch_face  ...  rent_or_own   employment_status  \\\n",
       "0                    1.0  ...          Own  Not in Labor Force   \n",
       "1                    1.0  ...         Rent            Employed   \n",
       "2                    0.0  ...          Own            Employed   \n",
       "3                    0.0  ...         Rent  Not in Labor Force   \n",
       "4                    1.0  ...          Own            Employed   \n",
       "\n",
       "   hhs_geo_region                census_msa  household_adults  \\\n",
       "0        oxchjgsf                   Non-MSA               0.0   \n",
       "1        bhuqouqj  MSA, Not Principle  City               0.0   \n",
       "2        qufhixun  MSA, Not Principle  City               2.0   \n",
       "3        lrircsnp       MSA, Principle City               0.0   \n",
       "4        qufhixun  MSA, Not Principle  City               1.0   \n",
       "\n",
       "   household_children  employment_industry  employment_occupation  \\\n",
       "0                 0.0                  NaN                    NaN   \n",
       "1                 0.0             pxcmvdjn               xgwztkwe   \n",
       "2                 0.0             rucpziij               xtkaffoo   \n",
       "3                 0.0                  NaN                    NaN   \n",
       "4                 0.0             wxleyezf               emcorrxb   \n",
       "\n",
       "   h1n1_vaccine  seasonal_vaccine  \n",
       "0             0                 0  \n",
       "1             0                 1  \n",
       "2             0                 0  \n",
       "3             0                 1  \n",
       "4             0                 0  \n",
       "\n",
       "[5 rows x 38 columns]"
      ]
     },
     "execution_count": 5,
     "metadata": {},
     "output_type": "execute_result"
    }
   ],
   "source": [
    "df = pd.merge(feat_df, label_df, how='outer', on='respondent_id')\n",
    "df.head()"
   ]
  },
  {
   "cell_type": "code",
   "execution_count": 6,
   "metadata": {},
   "outputs": [
    {
     "data": {
      "text/plain": [
       "(26707, 38)"
      ]
     },
     "execution_count": 6,
     "metadata": {},
     "output_type": "execute_result"
    }
   ],
   "source": [
    "df.shape"
   ]
  },
  {
   "cell_type": "code",
   "execution_count": 31,
   "metadata": {},
   "outputs": [
    {
     "data": {
      "text/plain": [
       "<matplotlib.axes._subplots.AxesSubplot at 0x7f24f14f8a50>"
      ]
     },
     "execution_count": 31,
     "metadata": {},
     "output_type": "execute_result"
    },
    {
     "data": {
      "image/png": "[encoded data removed]",
      "text/plain": [
       "<Figure size 432x288 with 1 Axes>"
      ]
     },
     "metadata": {
      "needs_background": "light"
     },
     "output_type": "display_data"
    }
   ],
   "source": [
    "sns.countplot(x='h1n1_concern', hue='h1n1_vaccine', data=df)"
   ]
  },
  {
   "cell_type": "code",
   "execution_count": 7,
   "metadata": {},
   "outputs": [
    {
     "data": {
      "text/plain": [
       "0    0.787546\n",
       "1    0.212454\n",
       "Name: h1n1_vaccine, dtype: float64"
      ]
     },
     "execution_count": 7,
     "metadata": {},
     "output_type": "execute_result"
    }
   ],
   "source": [
    "df['h1n1_vaccine'].value_counts()/len(df)"
   ]
  },
  {
   "cell_type": "code",
   "execution_count": 8,
   "metadata": {},
   "outputs": [
    {
     "data": {
      "text/plain": [
       "0    0.534392\n",
       "1    0.465608\n",
       "Name: seasonal_vaccine, dtype: float64"
      ]
     },
     "execution_count": 8,
     "metadata": {},
     "output_type": "execute_result"
    }
   ],
   "source": [
    "df['seasonal_vaccine'].value_counts()/len(df)"
   ]
  },
  {
   "cell_type": "code",
   "execution_count": 34,
   "metadata": {},
   "outputs": [
    {
     "data": {
      "text/plain": [
       "Index(['respondent_id', 'h1n1_concern', 'h1n1_knowledge',\n",
       "       'behavioral_antiviral_meds', 'behavioral_avoidance',\n",
       "       'behavioral_face_mask', 'behavioral_wash_hands',\n",
       "       'behavioral_large_gatherings', 'behavioral_outside_home',\n",
       "       'behavioral_touch_face', 'doctor_recc_h1n1', 'doctor_recc_seasonal',\n",
       "       'chronic_med_condition', 'child_under_6_months', 'health_worker',\n",
       "       'health_insurance', 'opinion_h1n1_vacc_effective', 'opinion_h1n1_risk',\n",
       "       'opinion_h1n1_sick_from_vacc', 'opinion_seas_vacc_effective',\n",
       "       'opinion_seas_risk', 'opinion_seas_sick_from_vacc', 'age_group',\n",
       "       'education', 'race', 'sex', 'income_poverty', 'marital_status',\n",
       "       'rent_or_own', 'employment_status', 'hhs_geo_region', 'census_msa',\n",
       "       'household_adults', 'household_children', 'employment_industry',\n",
       "       'employment_occupation', 'h1n1_vaccine', 'seasonal_vaccine'],\n",
       "      dtype='object')"
      ]
     },
     "execution_count": 34,
     "metadata": {},
     "output_type": "execute_result"
    }
   ],
   "source": [
    "df.columns"
   ]
  },
  {
   "cell_type": "markdown",
   "metadata": {},
   "source": [
    "For all binary variables: 0 = No; 1 = Yes.\n",
    "\n",
    "h1n1_concern - Level of concern about the H1N1 flu.\n",
    "0 = Not at all concerned; 1 = Not very concerned; 2 = Somewhat concerned; 3 = Very concerned.\n",
    "\n",
    "h1n1_knowledge - Level of knowledge about H1N1 flu.\n",
    "0 = No knowledge; 1 = A little knowledge; 2 = A lot of knowledge.\n",
    "\n",
    "behavioral_antiviral_meds - Has taken antiviral medications. (binary)\n",
    "\n",
    "behavioral_avoidance - Has avoided close contact with others with flu-like symptoms. (binary)\n",
    "\n",
    "behavioral_face_mask - Has bought a face mask. (binary)\n",
    "\n",
    "behavioral_wash_hands - Has frequently washed hands or used hand sanitizer. (binary)\n",
    "\n",
    "behavioral_large_gatherings - Has reduced time at large gatherings. (binary)\n",
    "\n",
    "behavioral_outside_home - Has reduced contact with people outside of own household. (binary)\n",
    "\n",
    "behavioral_touch_face - Has avoided touching eyes, nose, or mouth. (binary)\n",
    "\n",
    "doctor_recc_h1n1 - H1N1 flu vaccine was recommended by doctor. (binary)\n",
    "\n",
    "doctor_recc_seasonal - Seasonal flu vaccine was recommended by doctor. (binary)\n",
    "\n",
    "chronic_med_condition - Has any of the following chronic medical conditions: asthma or an other lung condition, diabetes, a heart condition, a kidney condition, sickle cell anemia or other anemia, a neurological or neuromuscular condition, a liver condition, or a weakened immune system caused by a chronic illness or by medicines taken for a chronic illness. (binary)\n",
    "\n",
    "child_under_6_months - Has regular close contact with a child under the age of six months. (binary)\n",
    "\n",
    "health_worker - Is a healthcare worker. (binary)\n",
    "\n",
    "health_insurance - Has health insurance. (binary)\n",
    "\n",
    "opinion_h1n1_vacc_effective - Respondent's opinion about H1N1 vaccine effectiveness.\n",
    "\n",
    "1 = Not at all effective; 2 = Not very effective; 3 = Don't know; 4 = Somewhat effective; 5 = Very effective.\n",
    "\n",
    "opinion_h1n1_risk - Respondent's opinion about risk of getting sick with H1N1 flu without vaccine.\n",
    "1 = Very Low; 2 = Somewhat low; 3 = Don't know; 4 = Somewhat high; 5 = Very high.\n",
    "\n",
    "opinion_h1n1_sick_from_vacc - Respondent's worry of getting sick from taking H1N1 vaccine.\n",
    "1 = Not at all worried; 2 = Not very worried; 3 = Don't know; 4 = Somewhat worried; 5 = Very worried.\n",
    "\n",
    "opinion_seas_vacc_effective - Respondent's opinion about seasonal flu vaccine effectiveness.\n",
    "1 = Not at all effective; 2 = Not very effective; 3 = Don't know; 4 = Somewhat effective; 5 = Very effective.\n",
    "\n",
    "opinion_seas_risk - Respondent's opinion about risk of getting sick with seasonal flu without vaccine.\n",
    "1 = Very Low; 2 = Somewhat low; 3 = Don't know; 4 = Somewhat high; 5 = Very high.\n",
    "\n",
    "opinion_seas_sick_from_vacc - Respondent's worry of getting sick from taking seasonal flu vaccine.\n",
    "1 = Not at all worried; 2 = Not very worried; 3 = Don't know; 4 = Somewhat worried; 5 = Very worried.\n",
    "\n",
    "age_group - Age group of respondent.\n",
    "\n",
    "education - Self-reported education level.\n",
    "\n",
    "race - Race of respondent.\n",
    "\n",
    "sex - Sex of respondent.\n",
    "\n",
    "income_poverty - Household annual income of respondent with respect to 2008 Census poverty thresholds.\n",
    "\n",
    "marital_status - Marital status of respondent.\n",
    "\n",
    "rent_or_own - Housing situation of respondent.\n",
    "\n",
    "employment_status - Employment status of respondent.\n",
    "\n",
    "hhs_geo_region - Respondent's residence using a 10-region geographic classification defined by the U.S. Dept. of Health and Human Services. Values are represented as short random character strings.\n",
    "\n",
    "census_msa - Respondent's residence within metropolitan statistical areas (MSA) as defined by the U.S. Census.\n",
    "\n",
    "household_adults - Number of other adults in household, top-coded to 3.\n",
    "\n",
    "household_children - Number of children in household, top-coded to 3.\n",
    "\n",
    "employment_industry - Type of industry respondent is employed in. Values are represented as short random character strings.\n",
    "\n",
    "employment_occupation - Type of occupation of respondent. Values are represented as short random character strings."
   ]
  },
  {
   "cell_type": "code",
   "execution_count": 51,
   "metadata": {},
   "outputs": [
    {
     "data": {
      "text/plain": [
       "<matplotlib.axes._subplots.AxesSubplot at 0x7fda67b60ad0>"
      ]
     },
     "execution_count": 51,
     "metadata": {},
     "output_type": "execute_result"
    },
    {
     "data": {
      "image/png": "[encoded data removed]",
      "text/plain": [
       "<Figure size 432x288 with 1 Axes>"
      ]
     },
     "metadata": {
      "needs_background": "light"
     },
     "output_type": "display_data"
    }
   ],
   "source": [
    "sns.countplot(x='h1n1_concern', data=df)"
   ]
  },
  {
   "cell_type": "code",
   "execution_count": 52,
   "metadata": {},
   "outputs": [
    {
     "data": {
      "text/plain": [
       "<matplotlib.axes._subplots.AxesSubplot at 0x7fda679c1510>"
      ]
     },
     "execution_count": 52,
     "metadata": {},
     "output_type": "execute_result"
    },
    {
     "data": {
      "image/png": "[encoded data removed]",
      "text/plain": [
       "<Figure size 432x288 with 1 Axes>"
      ]
     },
     "metadata": {
      "needs_background": "light"
     },
     "output_type": "display_data"
    }
   ],
   "source": [
    "sns.countplot(x='h1n1_knowledge', hue='h1n1_knowledge', data=df)"
   ]
  },
  {
   "cell_type": "code",
   "execution_count": 9,
   "metadata": {},
   "outputs": [
    {
     "data": {
      "text/plain": [
       "<matplotlib.axes._subplots.AxesSubplot at 0x7fdac45ef050>"
      ]
     },
     "execution_count": 9,
     "metadata": {},
     "output_type": "execute_result"
    },
    {
     "data": {
      "image/png": "[encoded data removed]",
      "text/plain": [
       "<Figure size 432x288 with 1 Axes>"
      ]
     },
     "metadata": {
      "needs_background": "light"
     },
     "output_type": "display_data"
    }
   ],
   "source": [
    "sns.countplot(x='h1n1_concern', hue='h1n1_knowledge', data=df)"
   ]
  },
  {
   "cell_type": "code",
   "execution_count": 20,
   "metadata": {},
   "outputs": [
    {
     "data": {
      "image/png": "[encoded data removed]",
      "text/plain": [
       "<Figure size 1008x720 with 6 Axes>"
      ]
     },
     "metadata": {
      "needs_background": "light"
     },
     "output_type": "display_data"
    }
   ],
   "source": [
    "fig, ax = plt.subplots(3, 2, figsize=(14,10))\n",
    "\n",
    "sns.countplot(x='h1n1_concern', hue='behavioral_avoidance', data=df, ax=ax[0,0])\n",
    "sns.countplot(x='h1n1_concern', hue='behavioral_face_mask', data=df, ax=ax[0,1])\n",
    "sns.countplot(x='h1n1_concern', hue='behavioral_wash_hands', data=df, ax=ax[1,0])\n",
    "sns.countplot(x='h1n1_concern', hue='behavioral_large_gatherings', data=df, ax=ax[1,1])\n",
    "sns.countplot(x='h1n1_concern', hue='behavioral_outside_home', data=df, ax=ax[2,0])\n",
    "sns.countplot(x='h1n1_concern', hue='behavioral_touch_face', data=df, ax=ax[2,1])\n",
    "plt.tight_layout()"
   ]
  },
  {
   "cell_type": "code",
   "execution_count": 25,
   "metadata": {},
   "outputs": [
    {
     "data": {
      "text/plain": [
       "<matplotlib.axes._subplots.AxesSubplot at 0x7fda9790d7d0>"
      ]
     },
     "execution_count": 25,
     "metadata": {},
     "output_type": "execute_result"
    },
    {
     "data": {
      "image/png": "[encoded data removed]",
      "text/plain": [
       "<Figure size 864x576 with 2 Axes>"
      ]
     },
     "metadata": {
      "needs_background": "light"
     },
     "output_type": "display_data"
    }
   ],
   "source": [
    "fig, ax = plt.subplots(1, 2, figsize=(12,8))\n",
    "sns.countplot(x='chronic_med_condition', data=df, ax=ax[0])\n",
    "sns.countplot(x='chronic_med_condition', hue='h1n1_concern', data=df, ax=ax[1])"
   ]
  },
  {
   "cell_type": "code",
   "execution_count": 26,
   "metadata": {},
   "outputs": [
    {
     "data": {
      "text/plain": [
       "<matplotlib.axes._subplots.AxesSubplot at 0x7fda9786fd50>"
      ]
     },
     "execution_count": 26,
     "metadata": {},
     "output_type": "execute_result"
    },
    {
     "data": {
      "image/png": "[encoded data removed]",
      "text/plain": [
       "<Figure size 432x288 with 1 Axes>"
      ]
     },
     "metadata": {
      "needs_background": "light"
     },
     "output_type": "display_data"
    }
   ],
   "source": [
    "sns.countplot(x='child_under_6_months', hue='h1n1_concern', data=df)"
   ]
  },
  {
   "cell_type": "code",
   "execution_count": 27,
   "metadata": {},
   "outputs": [
    {
     "data": {
      "text/plain": [
       "<matplotlib.axes._subplots.AxesSubplot at 0x7fda974dac90>"
      ]
     },
     "execution_count": 27,
     "metadata": {},
     "output_type": "execute_result"
    },
    {
     "data": {
      "image/png": "[encoded data removed]",
      "text/plain": [
       "<Figure size 432x288 with 1 Axes>"
      ]
     },
     "metadata": {
      "needs_background": "light"
     },
     "output_type": "display_data"
    }
   ],
   "source": [
    "sns.countplot(x='child_under_6_months', data=df)"
   ]
  },
  {
   "cell_type": "code",
   "execution_count": 33,
   "metadata": {},
   "outputs": [
    {
     "data": {
      "text/plain": [
       "2.2317596566523603"
      ]
     },
     "execution_count": 33,
     "metadata": {},
     "output_type": "execute_result"
    }
   ],
   "source": [
    "len(df[(df['child_under_6_months']==1.0) & (df['h1n1_concern']==3.0)])/len(df[(df['child_under_6_months']==1.0) & (df['h1n1_concern']==0.0)])"
   ]
  },
  {
   "cell_type": "code",
   "execution_count": 34,
   "metadata": {},
   "outputs": [
    {
     "data": {
      "text/plain": [
       "1.3339058742700103"
      ]
     },
     "execution_count": 34,
     "metadata": {},
     "output_type": "execute_result"
    }
   ],
   "source": [
    "len(df[(df['child_under_6_months']==0.0) & (df['h1n1_concern']==3.0)])/len(df[(df['child_under_6_months']==0.0) & (df['h1n1_concern']==0.0)])"
   ]
  },
  {
   "cell_type": "code",
   "execution_count": 39,
   "metadata": {},
   "outputs": [
    {
     "data": {
      "text/plain": [
       "Index(['respondent_id', 'h1n1_concern', 'h1n1_knowledge',\n",
       "       'behavioral_antiviral_meds', 'behavioral_avoidance',\n",
       "       'behavioral_face_mask', 'behavioral_wash_hands',\n",
       "       'behavioral_large_gatherings', 'behavioral_outside_home',\n",
       "       'behavioral_touch_face', 'doctor_recc_h1n1', 'doctor_recc_seasonal',\n",
       "       'chronic_med_condition', 'child_under_6_months', 'health_worker',\n",
       "       'health_insurance', 'opinion_h1n1_vacc_effective', 'opinion_h1n1_risk',\n",
       "       'opinion_h1n1_sick_from_vacc', 'opinion_seas_vacc_effective',\n",
       "       'opinion_seas_risk', 'opinion_seas_sick_from_vacc', 'age_group',\n",
       "       'education', 'race', 'sex', 'income_poverty', 'marital_status',\n",
       "       'rent_or_own', 'employment_status', 'hhs_geo_region', 'census_msa',\n",
       "       'household_adults', 'household_children', 'employment_industry',\n",
       "       'employment_occupation', 'h1n1_vaccine', 'seasonal_vaccine'],\n",
       "      dtype='object')"
      ]
     },
     "execution_count": 39,
     "metadata": {},
     "output_type": "execute_result"
    }
   ],
   "source": [
    "df.columns"
   ]
  },
  {
   "cell_type": "code",
   "execution_count": 41,
   "metadata": {},
   "outputs": [
    {
     "data": {
      "image/png": "[encoded data removed]",
      "text/plain": [
       "<Figure size 1008x720 with 6 Axes>"
      ]
     },
     "metadata": {
      "needs_background": "light"
     },
     "output_type": "display_data"
    }
   ],
   "source": [
    "fig, ax = plt.subplots(2, 3, figsize=(14,10))\n",
    "\n",
    "sns.countplot(x='opinion_h1n1_vacc_effective',  data=df, ax=ax[0,0])\n",
    "sns.countplot(x='opinion_h1n1_risk', data=df, ax=ax[0,1])\n",
    "sns.countplot(x='opinion_h1n1_sick_from_vacc', data=df, ax=ax[0,2])\n",
    "sns.countplot(x='opinion_seas_vacc_effective', data=df, ax=ax[1,0])\n",
    "sns.countplot(x='opinion_seas_risk', data=df, ax=ax[1,1])\n",
    "sns.countplot(x='opinion_seas_sick_from_vacc', data=df, ax=ax[1,2])\n",
    "plt.tight_layout()"
   ]
  },
  {
   "cell_type": "code",
   "execution_count": 42,
   "metadata": {},
   "outputs": [
    {
     "data": {
      "text/plain": [
       "<matplotlib.axes._subplots.AxesSubplot at 0x7fda67e4e7d0>"
      ]
     },
     "execution_count": 42,
     "metadata": {},
     "output_type": "execute_result"
    },
    {
     "data": {
      "image/png": "[encoded data removed]",
      "text/plain": [
       "<Figure size 432x288 with 1 Axes>"
      ]
     },
     "metadata": {
      "needs_background": "light"
     },
     "output_type": "display_data"
    }
   ],
   "source": [
    "sns.countplot(x='health_worker', data=df)"
   ]
  },
  {
   "cell_type": "code",
   "execution_count": 44,
   "metadata": {},
   "outputs": [
    {
     "data": {
      "text/plain": [
       "<matplotlib.axes._subplots.AxesSubplot at 0x7fda780d4cd0>"
      ]
     },
     "execution_count": 44,
     "metadata": {},
     "output_type": "execute_result"
    },
    {
     "data": {
      "image/png": "[encoded data removed]",
      "text/plain": [
       "<Figure size 432x288 with 1 Axes>"
      ]
     },
     "metadata": {
      "needs_background": "light"
     },
     "output_type": "display_data"
    }
   ],
   "source": [
    "sns.countplot(x='age_group', hue='h1n1_concern', data=df)"
   ]
  },
  {
   "cell_type": "code",
   "execution_count": 46,
   "metadata": {},
   "outputs": [
    {
     "data": {
      "text/plain": [
       "array(['Below Poverty', '<= $75,000, Above Poverty', '> $75,000', nan],\n",
       "      dtype=object)"
      ]
     },
     "execution_count": 46,
     "metadata": {},
     "output_type": "execute_result"
    }
   ],
   "source": [
    "df['income_poverty'].unique()"
   ]
  },
  {
   "cell_type": "code",
   "execution_count": 47,
   "metadata": {},
   "outputs": [
    {
     "data": {
      "text/plain": [
       "<matplotlib.axes._subplots.AxesSubplot at 0x7fda67985b50>"
      ]
     },
     "execution_count": 47,
     "metadata": {},
     "output_type": "execute_result"
    },
    {
     "data": {
      "image/png": "[encoded data removed]",
      "text/plain": [
       "<Figure size 432x288 with 1 Axes>"
      ]
     },
     "metadata": {
      "needs_background": "light"
     },
     "output_type": "display_data"
    }
   ],
   "source": [
    "sns.countplot(x='income_poverty', hue='h1n1_concern', data=df)"
   ]
  },
  {
   "cell_type": "code",
   "execution_count": 48,
   "metadata": {},
   "outputs": [
    {
     "data": {
      "text/plain": [
       "<matplotlib.axes._subplots.AxesSubplot at 0x7fda67354a90>"
      ]
     },
     "execution_count": 48,
     "metadata": {},
     "output_type": "execute_result"
    },
    {
     "data": {
      "image/png": "[encoded data removed]",
      "text/plain": [
       "<Figure size 432x288 with 1 Axes>"
      ]
     },
     "metadata": {
      "needs_background": "light"
     },
     "output_type": "display_data"
    }
   ],
   "source": [
    "sns.countplot(x='income_poverty', hue='h1n1_vaccine', data=df)"
   ]
  },
  {
   "cell_type": "code",
   "execution_count": 49,
   "metadata": {},
   "outputs": [
    {
     "data": {
      "text/plain": [
       "<matplotlib.axes._subplots.AxesSubplot at 0x7fda67670e10>"
      ]
     },
     "execution_count": 49,
     "metadata": {},
     "output_type": "execute_result"
    },
    {
     "data": {
      "image/png": "[encoded data removed]",
      "text/plain": [
       "<Figure size 432x288 with 1 Axes>"
      ]
     },
     "metadata": {
      "needs_background": "light"
     },
     "output_type": "display_data"
    }
   ],
   "source": [
    "sns.countplot(x='income_poverty', hue='seasonal_vaccine', data=df)"
   ]
  },
  {
   "cell_type": "code",
   "execution_count": 50,
   "metadata": {},
   "outputs": [
    {
     "data": {
      "text/plain": [
       "<matplotlib.axes._subplots.AxesSubplot at 0x7fda67dda990>"
      ]
     },
     "execution_count": 50,
     "metadata": {},
     "output_type": "execute_result"
    },
    {
     "data": {
      "image/png": "[encoded data removed]",
      "text/plain": [
       "<Figure size 432x288 with 1 Axes>"
      ]
     },
     "metadata": {
      "needs_background": "light"
     },
     "output_type": "display_data"
    }
   ],
   "source": [
    "sns.countplot(x='hhs_geo_region', hue='h1n1_vaccine', data=df)"
   ]
  },
  {
   "cell_type": "code",
   "execution_count": 53,
   "metadata": {},
   "outputs": [
    {
     "data": {
      "text/plain": [
       "Index(['respondent_id', 'h1n1_concern', 'h1n1_knowledge',\n",
       "       'behavioral_antiviral_meds', 'behavioral_avoidance',\n",
       "       'behavioral_face_mask', 'behavioral_wash_hands',\n",
       "       'behavioral_large_gatherings', 'behavioral_outside_home',\n",
       "       'behavioral_touch_face', 'doctor_recc_h1n1', 'doctor_recc_seasonal',\n",
       "       'chronic_med_condition', 'child_under_6_months', 'health_worker',\n",
       "       'health_insurance', 'opinion_h1n1_vacc_effective', 'opinion_h1n1_risk',\n",
       "       'opinion_h1n1_sick_from_vacc', 'opinion_seas_vacc_effective',\n",
       "       'opinion_seas_risk', 'opinion_seas_sick_from_vacc', 'age_group',\n",
       "       'education', 'race', 'sex', 'income_poverty', 'marital_status',\n",
       "       'rent_or_own', 'employment_status', 'hhs_geo_region', 'census_msa',\n",
       "       'household_adults', 'household_children', 'employment_industry',\n",
       "       'employment_occupation', 'h1n1_vaccine', 'seasonal_vaccine'],\n",
       "      dtype='object')"
      ]
     },
     "execution_count": 53,
     "metadata": {},
     "output_type": "execute_result"
    }
   ],
   "source": [
    "df.columns"
   ]
  },
  {
   "cell_type": "code",
   "execution_count": 54,
   "metadata": {},
   "outputs": [
    {
     "data": {
      "text/plain": [
       "<matplotlib.axes._subplots.AxesSubplot at 0x7fda6781ce50>"
      ]
     },
     "execution_count": 54,
     "metadata": {},
     "output_type": "execute_result"
    },
    {
     "data": {
      "image/png": "[encoded data removed]",
      "text/plain": [
       "<Figure size 432x288 with 1 Axes>"
      ]
     },
     "metadata": {
      "needs_background": "light"
     },
     "output_type": "display_data"
    }
   ],
   "source": [
    "sns.countplot('doctor_recc_h1n1', data=df)"
   ]
  },
  {
   "cell_type": "code",
   "execution_count": 55,
   "metadata": {},
   "outputs": [
    {
     "data": {
      "text/plain": [
       "<matplotlib.axes._subplots.AxesSubplot at 0x7fda676aeed0>"
      ]
     },
     "execution_count": 55,
     "metadata": {},
     "output_type": "execute_result"
    },
    {
     "data": {
      "image/png": "[encoded data removed]",
      "text/plain": [
       "<Figure size 432x288 with 1 Axes>"
      ]
     },
     "metadata": {
      "needs_background": "light"
     },
     "output_type": "display_data"
    }
   ],
   "source": [
    "sns.countplot('doctor_recc_h1n1', hue='chronic_med_condition', data=df)"
   ]
  },
  {
   "cell_type": "code",
   "execution_count": 56,
   "metadata": {},
   "outputs": [
    {
     "data": {
      "text/plain": [
       "Index(['respondent_id', 'h1n1_concern', 'h1n1_knowledge',\n",
       "       'behavioral_antiviral_meds', 'behavioral_avoidance',\n",
       "       'behavioral_face_mask', 'behavioral_wash_hands',\n",
       "       'behavioral_large_gatherings', 'behavioral_outside_home',\n",
       "       'behavioral_touch_face', 'doctor_recc_h1n1', 'doctor_recc_seasonal',\n",
       "       'chronic_med_condition', 'child_under_6_months', 'health_worker',\n",
       "       'health_insurance', 'opinion_h1n1_vacc_effective', 'opinion_h1n1_risk',\n",
       "       'opinion_h1n1_sick_from_vacc', 'opinion_seas_vacc_effective',\n",
       "       'opinion_seas_risk', 'opinion_seas_sick_from_vacc', 'age_group',\n",
       "       'education', 'race', 'sex', 'income_poverty', 'marital_status',\n",
       "       'rent_or_own', 'employment_status', 'hhs_geo_region', 'census_msa',\n",
       "       'household_adults', 'household_children', 'employment_industry',\n",
       "       'employment_occupation', 'h1n1_vaccine', 'seasonal_vaccine'],\n",
       "      dtype='object')"
      ]
     },
     "execution_count": 56,
     "metadata": {},
     "output_type": "execute_result"
    }
   ],
   "source": [
    "df.columns"
   ]
  },
  {
   "cell_type": "code",
   "execution_count": 57,
   "metadata": {},
   "outputs": [
    {
     "data": {
      "text/plain": [
       "respondent_id                    int64\n",
       "h1n1_concern                   float64\n",
       "h1n1_knowledge                 float64\n",
       "behavioral_antiviral_meds      float64\n",
       "behavioral_avoidance           float64\n",
       "behavioral_face_mask           float64\n",
       "behavioral_wash_hands          float64\n",
       "behavioral_large_gatherings    float64\n",
       "behavioral_outside_home        float64\n",
       "behavioral_touch_face          float64\n",
       "doctor_recc_h1n1               float64\n",
       "doctor_recc_seasonal           float64\n",
       "chronic_med_condition          float64\n",
       "child_under_6_months           float64\n",
       "health_worker                  float64\n",
       "health_insurance               float64\n",
       "opinion_h1n1_vacc_effective    float64\n",
       "opinion_h1n1_risk              float64\n",
       "opinion_h1n1_sick_from_vacc    float64\n",
       "opinion_seas_vacc_effective    float64\n",
       "opinion_seas_risk              float64\n",
       "opinion_seas_sick_from_vacc    float64\n",
       "age_group                       object\n",
       "education                       object\n",
       "race                            object\n",
       "sex                             object\n",
       "income_poverty                  object\n",
       "marital_status                  object\n",
       "rent_or_own                     object\n",
       "employment_status               object\n",
       "hhs_geo_region                  object\n",
       "census_msa                      object\n",
       "household_adults               float64\n",
       "household_children             float64\n",
       "employment_industry             object\n",
       "employment_occupation           object\n",
       "h1n1_vaccine                     int64\n",
       "seasonal_vaccine                 int64\n",
       "dtype: object"
      ]
     },
     "execution_count": 57,
     "metadata": {},
     "output_type": "execute_result"
    }
   ],
   "source": [
    "df.dtypes"
   ]
  },
  {
   "cell_type": "code",
   "execution_count": 89,
   "metadata": {},
   "outputs": [
    {
     "data": {
      "text/plain": [
       "<matplotlib.axes._subplots.AxesSubplot at 0x7fda60f427d0>"
      ]
     },
     "execution_count": 89,
     "metadata": {},
     "output_type": "execute_result"
    },
    {
     "data": {
      "image/png": "[encoded data removed]",
      "text/plain": [
       "<Figure size 432x288 with 1 Axes>"
      ]
     },
     "metadata": {
      "needs_background": "light"
     },
     "output_type": "display_data"
    }
   ],
   "source": [
    "sns.countplot('employment_occupation', hue='h1n1_vaccine', data=df)"
   ]
  },
  {
   "cell_type": "code",
   "execution_count": 90,
   "metadata": {},
   "outputs": [
    {
     "data": {
      "text/plain": [
       "<matplotlib.axes._subplots.AxesSubplot at 0x7fda60e71490>"
      ]
     },
     "execution_count": 90,
     "metadata": {},
     "output_type": "execute_result"
    },
    {
     "data": {
      "image/png": "[encoded data removed]",
      "text/plain": [
       "<Figure size 432x288 with 1 Axes>"
      ]
     },
     "metadata": {
      "needs_background": "light"
     },
     "output_type": "display_data"
    }
   ],
   "source": [
    "sns.countplot('employment_industry', hue='h1n1_vaccine', data=df)"
   ]
  },
  {
   "cell_type": "code",
   "execution_count": 6,
   "metadata": {},
   "outputs": [],
   "source": [
    "df.drop([\"respondent_id\", \"employment_occupation\", \"employment_industry\"], axis=1, inplace=True)"
   ]
  },
  {
   "cell_type": "code",
   "execution_count": 7,
   "metadata": {},
   "outputs": [],
   "source": [
    "X = df.drop(['h1n1_vaccine', 'seasonal_vaccine'], axis=1)"
   ]
  },
  {
   "cell_type": "code",
   "execution_count": 8,
   "metadata": {},
   "outputs": [],
   "source": [
    "y = df[['h1n1_vaccine', 'seasonal_vaccine']]"
   ]
  },
  {
   "cell_type": "code",
   "execution_count": 9,
   "metadata": {},
   "outputs": [],
   "source": [
    "cat_cols = X.select_dtypes(include='object').columns.tolist()\n",
    "num_cols = X.select_dtypes(exclude='object').columns.tolist()"
   ]
  },
  {
   "cell_type": "code",
   "execution_count": 18,
   "metadata": {},
   "outputs": [],
   "source": [
    "#X.loc[:, cat_cols]"
   ]
  },
  {
   "cell_type": "code",
   "execution_count": 10,
   "metadata": {},
   "outputs": [],
   "source": [
    "class Imputer(BaseEstimator, TransformerMixin):\n",
    "    \n",
    "    \"\"\"\n",
    "    \n",
    "    \n",
    "    \"\"\"\n",
    "    \n",
    "    def __init__(self, imputer_cat, imputer_num, cat_cols, num_cols):\n",
    "        \n",
    "        \"\"\"\n",
    "        \n",
    "        \"\"\"\n",
    "        \n",
    "        self.imputer_cat = imputer_cat\n",
    "        self.imputer_num = imputer_num\n",
    "        self.cat_cols = cat_cols\n",
    "        self.num_cols = num_cols\n",
    "    \n",
    "    def fit(self, X, y=None):\n",
    "        \n",
    "        \"\"\"\n",
    "        \n",
    "        \"\"\"\n",
    "        \n",
    "        self.imputer_cat.fit(X.loc[:, cat_cols])\n",
    "        self.imputer_num.fit(X.loc[:, num_cols])\n",
    "       \n",
    "        return self\n",
    "        \n",
    "    def transform(self, X):\n",
    "        \n",
    "        \"\"\"\n",
    "        \n",
    "        \n",
    "        \"\"\"\n",
    "        \n",
    "        X_cat_imputed = pd.DataFrame(self.imputer_cat.transform(X.loc[:, cat_cols]), columns=cat_cols)\n",
    "        X_num_imputed = pd.DataFrame(self.imputer_num.transform(X.loc[:, num_cols]), columns=num_cols)\n",
    "            \n",
    "        df_imputed = pd.concat([X_cat_imputed, X_num_imputed], axis=1)\n",
    "        \n",
    "        return df_imputed"
   ]
  },
  {
   "cell_type": "code",
   "execution_count": 11,
   "metadata": {},
   "outputs": [],
   "source": [
    "class CreateDummies(BaseEstimator, TransformerMixin):\n",
    "    \n",
    "    \"\"\"\n",
    "    \n",
    "    \"\"\"\n",
    "\n",
    "    def fit(self, X, y=None):\n",
    "        \"\"\"\n",
    "        \n",
    "        \"\"\"\n",
    "        return self\n",
    "    \n",
    "    def transform(self, X):\n",
    "        \"\"\"\n",
    "        \n",
    "        \"\"\"\n",
    "        \n",
    "        X_encoded = pd.get_dummies(X, drop_first=True)\n",
    "        return X_encoded"
   ]
  },
  {
   "cell_type": "code",
   "execution_count": 12,
   "metadata": {},
   "outputs": [],
   "source": [
    "def create_pipeline(imputer_cat, imputer_num, clf, cat_cols, num_cols):\n",
    "    \n",
    "    \"\"\"\n",
    "    \n",
    "    \"\"\"\n",
    "    pipeline = Pipeline([\n",
    "                       ('imputer', Imputer(imputer_cat, imputer_num, cat_cols, num_cols)),\n",
    "                       ('encoder', CreateDummies()),\n",
    "                       ('normalizer', MinMaxScaler(copy=False)),\n",
    "                       ('classifier', OneVsRestClassifier(clf))\n",
    "                        ])\n",
    "    return pipeline"
   ]
  },
  {
   "cell_type": "code",
   "execution_count": 23,
   "metadata": {},
   "outputs": [],
   "source": [
    "def build_model(pipeline, param_grid, X_train, y_train):\n",
    "    \n",
    "    \"\"\"\n",
    "    \n",
    "    \"\"\"\n",
    "\n",
    "    grid_cv = GridSearchCV(pipeline, param_grid=param_grid, cv=3, verbose=1)\n",
    "    grid_cv.fit(X_train, y_train)\n",
    "    \n",
    "    return grid_cv"
   ]
  },
  {
   "cell_type": "code",
   "execution_count": 24,
   "metadata": {},
   "outputs": [],
   "source": [
    "def model_eval(model, X_test, y_test):\n",
    "    \n",
    "    \"\"\"\n",
    "    \n",
    "    \n",
    "    \"\"\"\n",
    "    \n",
    "    model_pred = model.predict_proba(X_test)\n",
    "    \n",
    "    model_score = roc_auc_score(y_true=y_test, y_score=model_pred, average='weighted')\n",
    "    \n",
    "    return model_score"
   ]
  },
  {
   "cell_type": "code",
   "execution_count": 14,
   "metadata": {},
   "outputs": [],
   "source": [
    "imputer_algos = [SimpleImputer(copy=False), KNNImputer(copy=False), IterativeImputer()]\n",
    "\n",
    "clf_algos = [LogisticRegression(class_weight='balanced'), KNeighborsClassifier(), \n",
    "             RandomForestClassifier(class_weight='balanced'), AdaBoostClassifier(), \n",
    "             GradientBoostingClassifier(), XGBClassifier()]\n",
    "\n",
    "lr_simple_param_grid = {\n",
    "                 'imputer__imputer_num__strategy': ['median', 'most_frequent'],\n",
    "                 'classifier__estimator__C': [0.05, 0.1, 0.5]}\n",
    "\n",
    "lr_knn_param_grid = {\n",
    "                 'imputer__imputer_num__n_neighbors': [5, 10, 15, 20],\n",
    "                 'classifier__estimator__C': [0.05, 0.1, 0.5]}\n",
    "\n",
    "lr_iter_param_grid = {\n",
    "                 'imputer__imputer_num__estimator': [BayesianRidge(), ExtraTreesRegressor()],\n",
    "                 'classifier__estimator__C': [0.05, 0.1, 0.5]}\n",
    "\n",
    "knn_simple_param_grid = {\n",
    "                 'imputer__imputer_num__strategy': ['median', 'most_frequent'],\n",
    "                 'classifier__estimator__n_neighbors': [10, 30, 50, 70]}\n",
    "\n",
    "knn_knn_param_grid = {\n",
    "                 'imputer__imputer_num__n_neighbors': [5, 10, 15, 20],\n",
    "                 'classifier__estimator__n_neighbors': [10, 30, 50, 70]}\n",
    "\n",
    "knn_iter_param_grid = {\n",
    "                 'imputer__imputer_num__estimator': [BayesianRidge(), ExtraTreesRegressor()],\n",
    "                 'classifier__estimator__n_neighbors': [10, 30, 50, 70]}\n",
    "\n",
    "\n",
    "rf_simple_param_grid = {\n",
    "                 'imputer__imputer_num__strategy': ['median', 'most_frequent'],\n",
    "                 'classifier__estimator__n_estimators': [50, 80, 110, 150],\n",
    "                 'classifier__estimator__criterion': ['gini', 'entropy']}\n",
    "\n",
    "rf_knn_param_grid = {\n",
    "                 'imputer__imputer_num__n_neighbors': [5, 10, 15, 20],\n",
    "                 'classifier__estimator__n_estimators': [50, 80, 110, 150],\n",
    "                 'classifier__estimator__criterion': ['gini', 'entropy']}\n",
    "\n",
    "rf_iter_param_grid = {\n",
    "                 'imputer__imputer_num__estimator': [BayesianRidge(), ExtraTreesRegressor()],\n",
    "                 'classifier__estimator__n_estimators': [50, 80, 110, 150],\n",
    "                 'classifier__estimator__criterion': ['gini', 'entropy']}\n",
    "\n",
    "ada_simple_param_grid = {\n",
    "                 'imputer__imputer_num__strategy': ['median', 'most_frequent'],\n",
    "                 'classifier__estimator__n_estimators': [50, 80, 110, 150],\n",
    "                 'classifier__estimator__learning_rate': [0.001, 0.01, 0.05, 0.1]}\n",
    "\n",
    "ada_knn_param_grid = {\n",
    "                 'imputer__imputer_num__n_neighbors': [5, 10, 15, 20],\n",
    "                 'classifier__estimator__n_estimators': [50, 80, 110, 150],\n",
    "                 'classifier__estimator__learning_rate': [0.001, 0.01, 0.05, 0.1]}\n",
    "\n",
    "ada_iter_param_grid = {\n",
    "                 'imputer__imputer_num__estimator': [BayesianRidge(), ExtraTreesRegressor()],\n",
    "                 'classifier__estimator__n_estimators': [50, 80, 110, 150],\n",
    "                 'classifier__estimator__learning_rate': [0.001, 0.01, 0.05, 0.1]}\n",
    "\n",
    "\n",
    "grad_simple_param_grid = {\n",
    "                 'imputer__imputer_num__strategy': ['median', 'most_frequent'],\n",
    "                 'classifier__estimator__n_estimators': [100, 120, 140, 160],\n",
    "                 'classifier__estimator__learning_rate': [0.001, 0.01, 0.05, 0.1]}\n",
    "\n",
    "grad_knn_param_grid = {\n",
    "                 'imputer__imputer_num__n_neighbors': [5, 10, 15, 20],\n",
    "                 'classifier__estimator__n_estimators': [100, 120, 140, 160],\n",
    "                 'classifier__estimator__learning_rate': [0.001, 0.01, 0.05, 0.1]}\n",
    "\n",
    "grad_iter_param_grid = {\n",
    "                 'imputer__imputer_num__estimator': [BayesianRidge(), ExtraTreesRegressor()],\n",
    "                 'classifier__estimator__n_estimators': [100, 120, 140, 160],\n",
    "                 'classifier__estimator__learning_rate': [0.001, 0.01, 0.05, 0.1]}\n",
    "\n",
    "xgb_simple_param_grid = {\n",
    "                 'imputer__imputer_num__strategy': ['median', 'most_frequent'],\n",
    "                 'classifier__estimator__learning_rate': [0.001, 0.01, 0.05, 0.1]}\n",
    "\n",
    "xgb_knn_param_grid = {\n",
    "                 'imputer__imputer_num__n_neighbors': [5, 10, 15, 20],\n",
    "                 'classifier__estimator__learning_rate': [0.001, 0.01, 0.05, 0.1]}\n",
    "\n",
    "xgb_iter_param_grid = {\n",
    "                 'imputer__imputer_num__estimator': [BayesianRidge(), ExtraTreesRegressor()],\n",
    "                 'classifier__estimator__learning_rate': [0.001, 0.01, 0.05, 0.1]}\n",
    "\n",
    "lr_param_grid = [lr_simple_param_grid, lr_knn_param_grid, lr_iter_param_grid]\n",
    "knn_param_grid = [knn_simple_param_grid, knn_knn_param_grid, knn_iter_param_grid]\n",
    "rf_param_grid = [rf_simple_param_grid, rf_knn_param_grid, rf_iter_param_grid]\n",
    "ada_param_grid = [ada_simple_param_grid, ada_knn_param_grid, ada_iter_param_grid]\n",
    "grad_param_grid = [grad_simple_param_grid, grad_knn_param_grid, grad_iter_param_grid]\n",
    "xgb_param_grid = [xgb_simple_param_grid, xgb_knn_param_grid, xgb_iter_param_grid]\n",
    "\n",
    "#param_grid_list = [lr_param_grid, knn_param_grid, rf_param_grid, ada_param_grid, grad_param_grid, xgb_param_grid]\n",
    "param_grid_list = [lr_simple_param_grid, knn_simple_param_grid, rf_simple_param_grid, ada_simple_param_grid, \n",
    "                   grad_simple_param_grid, xgb_simple_param_grid]"
   ]
  },
  {
   "cell_type": "code",
   "execution_count": 15,
   "metadata": {},
   "outputs": [],
   "source": [
    "X_train, X_test, y_train, y_test = train_test_split(X, y, test_size=0.2)"
   ]
  },
  {
   "cell_type": "code",
   "execution_count": 16,
   "metadata": {},
   "outputs": [
    {
     "data": {
      "text/plain": [
       "((21365, 33), (5342, 33), (21365, 2))"
      ]
     },
     "execution_count": 16,
     "metadata": {},
     "output_type": "execute_result"
    }
   ],
   "source": [
    "X_train.shape, X_test.shape, y_train.shape"
   ]
  },
  {
   "cell_type": "code",
   "execution_count": 77,
   "metadata": {},
   "outputs": [
    {
     "data": {
      "text/html": [
       "<div>\n",
       "<style scoped>\n",
       "    .dataframe tbody tr th:only-of-type {\n",
       "        vertical-align: middle;\n",
       "    }\n",
       "\n",
       "    .dataframe tbody tr th {\n",
       "        vertical-align: top;\n",
       "    }\n",
       "\n",
       "    .dataframe thead th {\n",
       "        text-align: right;\n",
       "    }\n",
       "</style>\n",
       "<table border=\"1\" class=\"dataframe\">\n",
       "  <thead>\n",
       "    <tr style=\"text-align: right;\">\n",
       "      <th></th>\n",
       "      <th>h1n1_vaccine</th>\n",
       "      <th>seasonal_vaccine</th>\n",
       "    </tr>\n",
       "  </thead>\n",
       "  <tbody>\n",
       "    <tr>\n",
       "      <th>11020</th>\n",
       "      <td>0</td>\n",
       "      <td>1</td>\n",
       "    </tr>\n",
       "    <tr>\n",
       "      <th>21390</th>\n",
       "      <td>0</td>\n",
       "      <td>0</td>\n",
       "    </tr>\n",
       "    <tr>\n",
       "      <th>7986</th>\n",
       "      <td>0</td>\n",
       "      <td>1</td>\n",
       "    </tr>\n",
       "    <tr>\n",
       "      <th>2280</th>\n",
       "      <td>0</td>\n",
       "      <td>0</td>\n",
       "    </tr>\n",
       "    <tr>\n",
       "      <th>9025</th>\n",
       "      <td>0</td>\n",
       "      <td>0</td>\n",
       "    </tr>\n",
       "  </tbody>\n",
       "</table>\n",
       "</div>"
      ],
      "text/plain": [
       "       h1n1_vaccine  seasonal_vaccine\n",
       "11020             0                 1\n",
       "21390             0                 0\n",
       "7986              0                 1\n",
       "2280              0                 0\n",
       "9025              0                 0"
      ]
     },
     "execution_count": 77,
     "metadata": {},
     "output_type": "execute_result"
    }
   ],
   "source": [
    "y_train.head()"
   ]
  },
  {
   "cell_type": "code",
   "execution_count": 78,
   "metadata": {},
   "outputs": [
    {
     "data": {
      "text/html": [
       "<div>\n",
       "<style scoped>\n",
       "    .dataframe tbody tr th:only-of-type {\n",
       "        vertical-align: middle;\n",
       "    }\n",
       "\n",
       "    .dataframe tbody tr th {\n",
       "        vertical-align: top;\n",
       "    }\n",
       "\n",
       "    .dataframe thead th {\n",
       "        text-align: right;\n",
       "    }\n",
       "</style>\n",
       "<table border=\"1\" class=\"dataframe\">\n",
       "  <thead>\n",
       "    <tr style=\"text-align: right;\">\n",
       "      <th></th>\n",
       "      <th>h1n1_concern</th>\n",
       "      <th>h1n1_knowledge</th>\n",
       "      <th>behavioral_antiviral_meds</th>\n",
       "      <th>behavioral_avoidance</th>\n",
       "      <th>behavioral_face_mask</th>\n",
       "      <th>behavioral_wash_hands</th>\n",
       "      <th>behavioral_large_gatherings</th>\n",
       "      <th>behavioral_outside_home</th>\n",
       "      <th>behavioral_touch_face</th>\n",
       "      <th>doctor_recc_h1n1</th>\n",
       "      <th>...</th>\n",
       "      <th>race</th>\n",
       "      <th>sex</th>\n",
       "      <th>income_poverty</th>\n",
       "      <th>marital_status</th>\n",
       "      <th>rent_or_own</th>\n",
       "      <th>employment_status</th>\n",
       "      <th>hhs_geo_region</th>\n",
       "      <th>census_msa</th>\n",
       "      <th>household_adults</th>\n",
       "      <th>household_children</th>\n",
       "    </tr>\n",
       "  </thead>\n",
       "  <tbody>\n",
       "    <tr>\n",
       "      <th>11020</th>\n",
       "      <td>1.0</td>\n",
       "      <td>1.0</td>\n",
       "      <td>0.0</td>\n",
       "      <td>1.0</td>\n",
       "      <td>0.0</td>\n",
       "      <td>1.0</td>\n",
       "      <td>0.0</td>\n",
       "      <td>0.0</td>\n",
       "      <td>1.0</td>\n",
       "      <td>0.0</td>\n",
       "      <td>...</td>\n",
       "      <td>White</td>\n",
       "      <td>Male</td>\n",
       "      <td>&gt; $75,000</td>\n",
       "      <td>Married</td>\n",
       "      <td>Own</td>\n",
       "      <td>Employed</td>\n",
       "      <td>oxchjgsf</td>\n",
       "      <td>MSA, Principle City</td>\n",
       "      <td>1.0</td>\n",
       "      <td>0.0</td>\n",
       "    </tr>\n",
       "    <tr>\n",
       "      <th>21390</th>\n",
       "      <td>0.0</td>\n",
       "      <td>1.0</td>\n",
       "      <td>0.0</td>\n",
       "      <td>0.0</td>\n",
       "      <td>0.0</td>\n",
       "      <td>0.0</td>\n",
       "      <td>0.0</td>\n",
       "      <td>0.0</td>\n",
       "      <td>0.0</td>\n",
       "      <td>0.0</td>\n",
       "      <td>...</td>\n",
       "      <td>White</td>\n",
       "      <td>Male</td>\n",
       "      <td>&lt;= $75,000, Above Poverty</td>\n",
       "      <td>Married</td>\n",
       "      <td>Rent</td>\n",
       "      <td>Not in Labor Force</td>\n",
       "      <td>lzgpxyit</td>\n",
       "      <td>MSA, Not Principle  City</td>\n",
       "      <td>1.0</td>\n",
       "      <td>0.0</td>\n",
       "    </tr>\n",
       "    <tr>\n",
       "      <th>7986</th>\n",
       "      <td>2.0</td>\n",
       "      <td>1.0</td>\n",
       "      <td>0.0</td>\n",
       "      <td>1.0</td>\n",
       "      <td>0.0</td>\n",
       "      <td>1.0</td>\n",
       "      <td>1.0</td>\n",
       "      <td>1.0</td>\n",
       "      <td>1.0</td>\n",
       "      <td>0.0</td>\n",
       "      <td>...</td>\n",
       "      <td>White</td>\n",
       "      <td>Female</td>\n",
       "      <td>&lt;= $75,000, Above Poverty</td>\n",
       "      <td>Married</td>\n",
       "      <td>Own</td>\n",
       "      <td>Not in Labor Force</td>\n",
       "      <td>lzgpxyit</td>\n",
       "      <td>MSA, Not Principle  City</td>\n",
       "      <td>1.0</td>\n",
       "      <td>0.0</td>\n",
       "    </tr>\n",
       "    <tr>\n",
       "      <th>2280</th>\n",
       "      <td>2.0</td>\n",
       "      <td>1.0</td>\n",
       "      <td>0.0</td>\n",
       "      <td>1.0</td>\n",
       "      <td>0.0</td>\n",
       "      <td>1.0</td>\n",
       "      <td>0.0</td>\n",
       "      <td>0.0</td>\n",
       "      <td>0.0</td>\n",
       "      <td>NaN</td>\n",
       "      <td>...</td>\n",
       "      <td>Hispanic</td>\n",
       "      <td>Female</td>\n",
       "      <td>&lt;= $75,000, Above Poverty</td>\n",
       "      <td>Married</td>\n",
       "      <td>Own</td>\n",
       "      <td>Not in Labor Force</td>\n",
       "      <td>kbazzjca</td>\n",
       "      <td>Non-MSA</td>\n",
       "      <td>1.0</td>\n",
       "      <td>1.0</td>\n",
       "    </tr>\n",
       "    <tr>\n",
       "      <th>9025</th>\n",
       "      <td>1.0</td>\n",
       "      <td>1.0</td>\n",
       "      <td>0.0</td>\n",
       "      <td>0.0</td>\n",
       "      <td>0.0</td>\n",
       "      <td>0.0</td>\n",
       "      <td>0.0</td>\n",
       "      <td>0.0</td>\n",
       "      <td>0.0</td>\n",
       "      <td>0.0</td>\n",
       "      <td>...</td>\n",
       "      <td>Other or Multiple</td>\n",
       "      <td>Female</td>\n",
       "      <td>&lt;= $75,000, Above Poverty</td>\n",
       "      <td>Not Married</td>\n",
       "      <td>Own</td>\n",
       "      <td>Employed</td>\n",
       "      <td>kbazzjca</td>\n",
       "      <td>MSA, Not Principle  City</td>\n",
       "      <td>0.0</td>\n",
       "      <td>0.0</td>\n",
       "    </tr>\n",
       "  </tbody>\n",
       "</table>\n",
       "<p>5 rows × 33 columns</p>\n",
       "</div>"
      ],
      "text/plain": [
       "       h1n1_concern  h1n1_knowledge  behavioral_antiviral_meds  \\\n",
       "11020           1.0             1.0                        0.0   \n",
       "21390           0.0             1.0                        0.0   \n",
       "7986            2.0             1.0                        0.0   \n",
       "2280            2.0             1.0                        0.0   \n",
       "9025            1.0             1.0                        0.0   \n",
       "\n",
       "       behavioral_avoidance  behavioral_face_mask  behavioral_wash_hands  \\\n",
       "11020                   1.0                   0.0                    1.0   \n",
       "21390                   0.0                   0.0                    0.0   \n",
       "7986                    1.0                   0.0                    1.0   \n",
       "2280                    1.0                   0.0                    1.0   \n",
       "9025                    0.0                   0.0                    0.0   \n",
       "\n",
       "       behavioral_large_gatherings  behavioral_outside_home  \\\n",
       "11020                          0.0                      0.0   \n",
       "21390                          0.0                      0.0   \n",
       "7986                           1.0                      1.0   \n",
       "2280                           0.0                      0.0   \n",
       "9025                           0.0                      0.0   \n",
       "\n",
       "       behavioral_touch_face  doctor_recc_h1n1  ...               race  \\\n",
       "11020                    1.0               0.0  ...              White   \n",
       "21390                    0.0               0.0  ...              White   \n",
       "7986                     1.0               0.0  ...              White   \n",
       "2280                     0.0               NaN  ...           Hispanic   \n",
       "9025                     0.0               0.0  ...  Other or Multiple   \n",
       "\n",
       "          sex             income_poverty  marital_status  rent_or_own  \\\n",
       "11020    Male                  > $75,000         Married          Own   \n",
       "21390    Male  <= $75,000, Above Poverty         Married         Rent   \n",
       "7986   Female  <= $75,000, Above Poverty         Married          Own   \n",
       "2280   Female  <= $75,000, Above Poverty         Married          Own   \n",
       "9025   Female  <= $75,000, Above Poverty     Not Married          Own   \n",
       "\n",
       "        employment_status  hhs_geo_region                census_msa  \\\n",
       "11020            Employed        oxchjgsf       MSA, Principle City   \n",
       "21390  Not in Labor Force        lzgpxyit  MSA, Not Principle  City   \n",
       "7986   Not in Labor Force        lzgpxyit  MSA, Not Principle  City   \n",
       "2280   Not in Labor Force        kbazzjca                   Non-MSA   \n",
       "9025             Employed        kbazzjca  MSA, Not Principle  City   \n",
       "\n",
       "       household_adults  household_children  \n",
       "11020               1.0                 0.0  \n",
       "21390               1.0                 0.0  \n",
       "7986                1.0                 0.0  \n",
       "2280                1.0                 1.0  \n",
       "9025                0.0                 0.0  \n",
       "\n",
       "[5 rows x 33 columns]"
      ]
     },
     "execution_count": 78,
     "metadata": {},
     "output_type": "execute_result"
    }
   ],
   "source": [
    "X_train.head()"
   ]
  },
  {
   "cell_type": "code",
   "execution_count": 25,
   "metadata": {},
   "outputs": [
    {
     "data": {
      "text/plain": [
       "0    78.792418\n",
       "1    21.207582\n",
       "Name: h1n1_vaccine, dtype: float64"
      ]
     },
     "execution_count": 25,
     "metadata": {},
     "output_type": "execute_result"
    }
   ],
   "source": [
    "y_train['h1n1_vaccine'].value_counts()/len(y_train) *100"
   ]
  },
  {
   "cell_type": "code",
   "execution_count": 19,
   "metadata": {},
   "outputs": [
    {
     "data": {
      "text/plain": [
       "0    78.509921\n",
       "1    21.490079\n",
       "Name: h1n1_vaccine, dtype: float64"
      ]
     },
     "execution_count": 19,
     "metadata": {},
     "output_type": "execute_result"
    }
   ],
   "source": [
    "y_test['h1n1_vaccine'].value_counts()/len(y_test) *100"
   ]
  },
  {
   "cell_type": "code",
   "execution_count": 21,
   "metadata": {},
   "outputs": [
    {
     "name": "stdout",
     "output_type": "stream",
     "text": [
      "fitting the model LogisticRegression(C=1.0, class_weight='balanced', dual=False,\n",
      "                   fit_intercept=True, intercept_scaling=1, l1_ratio=None,\n",
      "                   max_iter=100, multi_class='auto', n_jobs=None, penalty='l2',\n",
      "                   random_state=None, solver='lbfgs', tol=0.0001, verbose=0,\n",
      "                   warm_start=False)\n",
      "Fitting 3 folds for each of 6 candidates, totalling 18 fits\n",
      "[CV] classifier__estimator__C=0.05, imputer__imputer_num__strategy=median \n"
     ]
    },
    {
     "name": "stderr",
     "output_type": "stream",
     "text": [
      "[Parallel(n_jobs=1)]: Using backend SequentialBackend with 1 concurrent workers.\n"
     ]
    },
    {
     "name": "stdout",
     "output_type": "stream",
     "text": [
      "[CV]  classifier__estimator__C=0.05, imputer__imputer_num__strategy=median, total=   0.9s\n",
      "[CV] classifier__estimator__C=0.05, imputer__imputer_num__strategy=median \n"
     ]
    },
    {
     "name": "stderr",
     "output_type": "stream",
     "text": [
      "[Parallel(n_jobs=1)]: Done   1 out of   1 | elapsed:    0.9s remaining:    0.0s\n"
     ]
    },
    {
     "name": "stdout",
     "output_type": "stream",
     "text": [
      "[CV]  classifier__estimator__C=0.05, imputer__imputer_num__strategy=median, total=   0.7s\n",
      "[CV] classifier__estimator__C=0.05, imputer__imputer_num__strategy=median \n",
      "[CV]  classifier__estimator__C=0.05, imputer__imputer_num__strategy=median, total=   0.7s\n",
      "[CV] classifier__estimator__C=0.05, imputer__imputer_num__strategy=most_frequent \n",
      "[CV]  classifier__estimator__C=0.05, imputer__imputer_num__strategy=most_frequent, total=   0.7s\n",
      "[CV] classifier__estimator__C=0.05, imputer__imputer_num__strategy=most_frequent \n",
      "[CV]  classifier__estimator__C=0.05, imputer__imputer_num__strategy=most_frequent, total=   0.7s\n",
      "[CV] classifier__estimator__C=0.05, imputer__imputer_num__strategy=most_frequent \n",
      "[CV]  classifier__estimator__C=0.05, imputer__imputer_num__strategy=most_frequent, total=   0.7s\n",
      "[CV] classifier__estimator__C=0.1, imputer__imputer_num__strategy=median \n",
      "[CV]  classifier__estimator__C=0.1, imputer__imputer_num__strategy=median, total=   0.7s\n",
      "[CV] classifier__estimator__C=0.1, imputer__imputer_num__strategy=median \n",
      "[CV]  classifier__estimator__C=0.1, imputer__imputer_num__strategy=median, total=   0.7s\n",
      "[CV] classifier__estimator__C=0.1, imputer__imputer_num__strategy=median \n",
      "[CV]  classifier__estimator__C=0.1, imputer__imputer_num__strategy=median, total=   0.8s\n",
      "[CV] classifier__estimator__C=0.1, imputer__imputer_num__strategy=most_frequent \n",
      "[CV]  classifier__estimator__C=0.1, imputer__imputer_num__strategy=most_frequent, total=   0.7s\n",
      "[CV] classifier__estimator__C=0.1, imputer__imputer_num__strategy=most_frequent \n",
      "[CV]  classifier__estimator__C=0.1, imputer__imputer_num__strategy=most_frequent, total=   0.7s\n",
      "[CV] classifier__estimator__C=0.1, imputer__imputer_num__strategy=most_frequent \n",
      "[CV]  classifier__estimator__C=0.1, imputer__imputer_num__strategy=most_frequent, total=   0.7s\n",
      "[CV] classifier__estimator__C=0.5, imputer__imputer_num__strategy=median \n",
      "[CV]  classifier__estimator__C=0.5, imputer__imputer_num__strategy=median, total=   0.7s\n",
      "[CV] classifier__estimator__C=0.5, imputer__imputer_num__strategy=median \n",
      "[CV]  classifier__estimator__C=0.5, imputer__imputer_num__strategy=median, total=   0.7s\n",
      "[CV] classifier__estimator__C=0.5, imputer__imputer_num__strategy=median \n",
      "[CV]  classifier__estimator__C=0.5, imputer__imputer_num__strategy=median, total=   0.7s\n",
      "[CV] classifier__estimator__C=0.5, imputer__imputer_num__strategy=most_frequent \n",
      "[CV]  classifier__estimator__C=0.5, imputer__imputer_num__strategy=most_frequent, total=   0.7s\n",
      "[CV] classifier__estimator__C=0.5, imputer__imputer_num__strategy=most_frequent \n",
      "[CV]  classifier__estimator__C=0.5, imputer__imputer_num__strategy=most_frequent, total=   0.7s\n",
      "[CV] classifier__estimator__C=0.5, imputer__imputer_num__strategy=most_frequent \n",
      "[CV]  classifier__estimator__C=0.5, imputer__imputer_num__strategy=most_frequent, total=   0.7s\n"
     ]
    },
    {
     "name": "stderr",
     "output_type": "stream",
     "text": [
      "[Parallel(n_jobs=1)]: Done  18 out of  18 | elapsed:   13.1s finished\n"
     ]
    },
    {
     "name": "stdout",
     "output_type": "stream",
     "text": [
      "fitting done in 14.34826946258545 sec!\n",
      "the best parameter set is : {'classifier__estimator__C': 0.1, 'imputer__imputer_num__strategy': 'most_frequent'}\n",
      "evaluating the model\n",
      "the train set score is 0.8443637178613069\n",
      "the test set score is 0.8476077548155719\n",
      "\n",
      "fitting the model KNeighborsClassifier(algorithm='auto', leaf_size=30, metric='minkowski',\n",
      "                     metric_params=None, n_jobs=None, n_neighbors=5, p=2,\n",
      "                     weights='uniform')\n",
      "Fitting 3 folds for each of 8 candidates, totalling 24 fits\n",
      "[CV] classifier__estimator__n_neighbors=10, imputer__imputer_num__strategy=median \n"
     ]
    },
    {
     "name": "stderr",
     "output_type": "stream",
     "text": [
      "[Parallel(n_jobs=1)]: Using backend SequentialBackend with 1 concurrent workers.\n"
     ]
    },
    {
     "name": "stdout",
     "output_type": "stream",
     "text": [
      "[CV]  classifier__estimator__n_neighbors=10, imputer__imputer_num__strategy=median, total=  17.3s\n",
      "[CV] classifier__estimator__n_neighbors=10, imputer__imputer_num__strategy=median \n"
     ]
    },
    {
     "name": "stderr",
     "output_type": "stream",
     "text": [
      "[Parallel(n_jobs=1)]: Done   1 out of   1 | elapsed:   17.3s remaining:    0.0s\n"
     ]
    },
    {
     "name": "stdout",
     "output_type": "stream",
     "text": [
      "[CV]  classifier__estimator__n_neighbors=10, imputer__imputer_num__strategy=median, total=  16.6s\n",
      "[CV] classifier__estimator__n_neighbors=10, imputer__imputer_num__strategy=median \n",
      "[CV]  classifier__estimator__n_neighbors=10, imputer__imputer_num__strategy=median, total=  16.3s\n",
      "[CV] classifier__estimator__n_neighbors=10, imputer__imputer_num__strategy=most_frequent \n",
      "[CV]  classifier__estimator__n_neighbors=10, imputer__imputer_num__strategy=most_frequent, total=  16.2s\n",
      "[CV] classifier__estimator__n_neighbors=10, imputer__imputer_num__strategy=most_frequent \n",
      "[CV]  classifier__estimator__n_neighbors=10, imputer__imputer_num__strategy=most_frequent, total=  16.2s\n",
      "[CV] classifier__estimator__n_neighbors=10, imputer__imputer_num__strategy=most_frequent \n",
      "[CV]  classifier__estimator__n_neighbors=10, imputer__imputer_num__strategy=most_frequent, total=  15.8s\n",
      "[CV] classifier__estimator__n_neighbors=30, imputer__imputer_num__strategy=median \n",
      "[CV]  classifier__estimator__n_neighbors=30, imputer__imputer_num__strategy=median, total=  16.4s\n",
      "[CV] classifier__estimator__n_neighbors=30, imputer__imputer_num__strategy=median \n",
      "[CV]  classifier__estimator__n_neighbors=30, imputer__imputer_num__strategy=median, total=  16.4s\n",
      "[CV] classifier__estimator__n_neighbors=30, imputer__imputer_num__strategy=median \n",
      "[CV]  classifier__estimator__n_neighbors=30, imputer__imputer_num__strategy=median, total=  16.9s\n",
      "[CV] classifier__estimator__n_neighbors=30, imputer__imputer_num__strategy=most_frequent \n",
      "[CV]  classifier__estimator__n_neighbors=30, imputer__imputer_num__strategy=most_frequent, total=  16.8s\n",
      "[CV] classifier__estimator__n_neighbors=30, imputer__imputer_num__strategy=most_frequent \n",
      "[CV]  classifier__estimator__n_neighbors=30, imputer__imputer_num__strategy=most_frequent, total=  16.6s\n",
      "[CV] classifier__estimator__n_neighbors=30, imputer__imputer_num__strategy=most_frequent \n",
      "[CV]  classifier__estimator__n_neighbors=30, imputer__imputer_num__strategy=most_frequent, total=  15.8s\n",
      "[CV] classifier__estimator__n_neighbors=50, imputer__imputer_num__strategy=median \n",
      "[CV]  classifier__estimator__n_neighbors=50, imputer__imputer_num__strategy=median, total=  16.0s\n",
      "[CV] classifier__estimator__n_neighbors=50, imputer__imputer_num__strategy=median \n",
      "[CV]  classifier__estimator__n_neighbors=50, imputer__imputer_num__strategy=median, total=  16.7s\n",
      "[CV] classifier__estimator__n_neighbors=50, imputer__imputer_num__strategy=median \n",
      "[CV]  classifier__estimator__n_neighbors=50, imputer__imputer_num__strategy=median, total=  16.4s\n",
      "[CV] classifier__estimator__n_neighbors=50, imputer__imputer_num__strategy=most_frequent \n",
      "[CV]  classifier__estimator__n_neighbors=50, imputer__imputer_num__strategy=most_frequent, total=  16.2s\n",
      "[CV] classifier__estimator__n_neighbors=50, imputer__imputer_num__strategy=most_frequent \n",
      "[CV]  classifier__estimator__n_neighbors=50, imputer__imputer_num__strategy=most_frequent, total=  16.0s\n",
      "[CV] classifier__estimator__n_neighbors=50, imputer__imputer_num__strategy=most_frequent \n",
      "[CV]  classifier__estimator__n_neighbors=50, imputer__imputer_num__strategy=most_frequent, total=  16.3s\n",
      "[CV] classifier__estimator__n_neighbors=70, imputer__imputer_num__strategy=median \n",
      "[CV]  classifier__estimator__n_neighbors=70, imputer__imputer_num__strategy=median, total=  17.8s\n",
      "[CV] classifier__estimator__n_neighbors=70, imputer__imputer_num__strategy=median \n",
      "[CV]  classifier__estimator__n_neighbors=70, imputer__imputer_num__strategy=median, total=  17.0s\n",
      "[CV] classifier__estimator__n_neighbors=70, imputer__imputer_num__strategy=median \n",
      "[CV]  classifier__estimator__n_neighbors=70, imputer__imputer_num__strategy=median, total=  17.0s\n",
      "[CV] classifier__estimator__n_neighbors=70, imputer__imputer_num__strategy=most_frequent \n",
      "[CV]  classifier__estimator__n_neighbors=70, imputer__imputer_num__strategy=most_frequent, total=  16.8s\n",
      "[CV] classifier__estimator__n_neighbors=70, imputer__imputer_num__strategy=most_frequent \n",
      "[CV]  classifier__estimator__n_neighbors=70, imputer__imputer_num__strategy=most_frequent, total=  17.3s\n",
      "[CV] classifier__estimator__n_neighbors=70, imputer__imputer_num__strategy=most_frequent \n",
      "[CV]  classifier__estimator__n_neighbors=70, imputer__imputer_num__strategy=most_frequent, total=  17.0s\n"
     ]
    },
    {
     "name": "stderr",
     "output_type": "stream",
     "text": [
      "[Parallel(n_jobs=1)]: Done  24 out of  24 | elapsed:  6.6min finished\n"
     ]
    },
    {
     "name": "stdout",
     "output_type": "stream",
     "text": [
      "fitting done in 399.6303687095642 sec!\n",
      "the best parameter set is : {'classifier__estimator__n_neighbors': 30, 'imputer__imputer_num__strategy': 'most_frequent'}\n",
      "evaluating the model\n",
      "the train set score is 0.8280002651105431\n",
      "the test set score is 0.7966860422769263\n",
      "\n",
      "fitting the model RandomForestClassifier(bootstrap=True, ccp_alpha=0.0, class_weight='balanced',\n",
      "                       criterion='gini', max_depth=None, max_features='auto',\n",
      "                       max_leaf_nodes=None, max_samples=None,\n",
      "                       min_impurity_decrease=0.0, min_impurity_split=None,\n",
      "                       min_samples_leaf=1, min_samples_split=2,\n",
      "                       min_weight_fraction_leaf=0.0, n_estimators=100,\n",
      "                       n_jobs=None, oob_score=False, random_state=None,\n",
      "                       verbose=0, warm_start=False)\n",
      "Fitting 3 folds for each of 16 candidates, totalling 48 fits\n",
      "[CV] classifier__estimator__criterion=gini, classifier__estimator__n_estimators=50, imputer__imputer_num__strategy=median \n"
     ]
    },
    {
     "name": "stderr",
     "output_type": "stream",
     "text": [
      "[Parallel(n_jobs=1)]: Using backend SequentialBackend with 1 concurrent workers.\n"
     ]
    },
    {
     "name": "stdout",
     "output_type": "stream",
     "text": [
      "[CV]  classifier__estimator__criterion=gini, classifier__estimator__n_estimators=50, imputer__imputer_num__strategy=median, total=   1.8s\n",
      "[CV] classifier__estimator__criterion=gini, classifier__estimator__n_estimators=50, imputer__imputer_num__strategy=median \n"
     ]
    },
    {
     "name": "stderr",
     "output_type": "stream",
     "text": [
      "[Parallel(n_jobs=1)]: Done   1 out of   1 | elapsed:    1.8s remaining:    0.0s\n"
     ]
    },
    {
     "name": "stdout",
     "output_type": "stream",
     "text": [
      "[CV]  classifier__estimator__criterion=gini, classifier__estimator__n_estimators=50, imputer__imputer_num__strategy=median, total=   1.8s\n",
      "[CV] classifier__estimator__criterion=gini, classifier__estimator__n_estimators=50, imputer__imputer_num__strategy=median \n",
      "[CV]  classifier__estimator__criterion=gini, classifier__estimator__n_estimators=50, imputer__imputer_num__strategy=median, total=   1.8s\n",
      "[CV] classifier__estimator__criterion=gini, classifier__estimator__n_estimators=50, imputer__imputer_num__strategy=most_frequent \n",
      "[CV]  classifier__estimator__criterion=gini, classifier__estimator__n_estimators=50, imputer__imputer_num__strategy=most_frequent, total=   1.8s\n",
      "[CV] classifier__estimator__criterion=gini, classifier__estimator__n_estimators=50, imputer__imputer_num__strategy=most_frequent \n",
      "[CV]  classifier__estimator__criterion=gini, classifier__estimator__n_estimators=50, imputer__imputer_num__strategy=most_frequent, total=   1.8s\n",
      "[CV] classifier__estimator__criterion=gini, classifier__estimator__n_estimators=50, imputer__imputer_num__strategy=most_frequent \n",
      "[CV]  classifier__estimator__criterion=gini, classifier__estimator__n_estimators=50, imputer__imputer_num__strategy=most_frequent, total=   1.8s\n",
      "[CV] classifier__estimator__criterion=gini, classifier__estimator__n_estimators=80, imputer__imputer_num__strategy=median \n",
      "[CV]  classifier__estimator__criterion=gini, classifier__estimator__n_estimators=80, imputer__imputer_num__strategy=median, total=   2.6s\n",
      "[CV] classifier__estimator__criterion=gini, classifier__estimator__n_estimators=80, imputer__imputer_num__strategy=median \n",
      "[CV]  classifier__estimator__criterion=gini, classifier__estimator__n_estimators=80, imputer__imputer_num__strategy=median, total=   2.6s\n",
      "[CV] classifier__estimator__criterion=gini, classifier__estimator__n_estimators=80, imputer__imputer_num__strategy=median \n",
      "[CV]  classifier__estimator__criterion=gini, classifier__estimator__n_estimators=80, imputer__imputer_num__strategy=median, total=   2.6s\n",
      "[CV] classifier__estimator__criterion=gini, classifier__estimator__n_estimators=80, imputer__imputer_num__strategy=most_frequent \n",
      "[CV]  classifier__estimator__criterion=gini, classifier__estimator__n_estimators=80, imputer__imputer_num__strategy=most_frequent, total=   2.5s\n",
      "[CV] classifier__estimator__criterion=gini, classifier__estimator__n_estimators=80, imputer__imputer_num__strategy=most_frequent \n",
      "[CV]  classifier__estimator__criterion=gini, classifier__estimator__n_estimators=80, imputer__imputer_num__strategy=most_frequent, total=   2.6s\n",
      "[CV] classifier__estimator__criterion=gini, classifier__estimator__n_estimators=80, imputer__imputer_num__strategy=most_frequent \n",
      "[CV]  classifier__estimator__criterion=gini, classifier__estimator__n_estimators=80, imputer__imputer_num__strategy=most_frequent, total=   2.6s\n",
      "[CV] classifier__estimator__criterion=gini, classifier__estimator__n_estimators=110, imputer__imputer_num__strategy=median \n",
      "[CV]  classifier__estimator__criterion=gini, classifier__estimator__n_estimators=110, imputer__imputer_num__strategy=median, total=   3.3s\n",
      "[CV] classifier__estimator__criterion=gini, classifier__estimator__n_estimators=110, imputer__imputer_num__strategy=median \n",
      "[CV]  classifier__estimator__criterion=gini, classifier__estimator__n_estimators=110, imputer__imputer_num__strategy=median, total=   3.3s\n",
      "[CV] classifier__estimator__criterion=gini, classifier__estimator__n_estimators=110, imputer__imputer_num__strategy=median \n",
      "[CV]  classifier__estimator__criterion=gini, classifier__estimator__n_estimators=110, imputer__imputer_num__strategy=median, total=   3.3s\n",
      "[CV] classifier__estimator__criterion=gini, classifier__estimator__n_estimators=110, imputer__imputer_num__strategy=most_frequent \n",
      "[CV]  classifier__estimator__criterion=gini, classifier__estimator__n_estimators=110, imputer__imputer_num__strategy=most_frequent, total=   3.3s\n",
      "[CV] classifier__estimator__criterion=gini, classifier__estimator__n_estimators=110, imputer__imputer_num__strategy=most_frequent \n",
      "[CV]  classifier__estimator__criterion=gini, classifier__estimator__n_estimators=110, imputer__imputer_num__strategy=most_frequent, total=   3.3s\n",
      "[CV] classifier__estimator__criterion=gini, classifier__estimator__n_estimators=110, imputer__imputer_num__strategy=most_frequent \n",
      "[CV]  classifier__estimator__criterion=gini, classifier__estimator__n_estimators=110, imputer__imputer_num__strategy=most_frequent, total=   3.3s\n",
      "[CV] classifier__estimator__criterion=gini, classifier__estimator__n_estimators=150, imputer__imputer_num__strategy=median \n",
      "[CV]  classifier__estimator__criterion=gini, classifier__estimator__n_estimators=150, imputer__imputer_num__strategy=median, total=   4.4s\n",
      "[CV] classifier__estimator__criterion=gini, classifier__estimator__n_estimators=150, imputer__imputer_num__strategy=median \n",
      "[CV]  classifier__estimator__criterion=gini, classifier__estimator__n_estimators=150, imputer__imputer_num__strategy=median, total=   4.3s\n",
      "[CV] classifier__estimator__criterion=gini, classifier__estimator__n_estimators=150, imputer__imputer_num__strategy=median \n",
      "[CV]  classifier__estimator__criterion=gini, classifier__estimator__n_estimators=150, imputer__imputer_num__strategy=median, total=   4.4s\n",
      "[CV] classifier__estimator__criterion=gini, classifier__estimator__n_estimators=150, imputer__imputer_num__strategy=most_frequent \n",
      "[CV]  classifier__estimator__criterion=gini, classifier__estimator__n_estimators=150, imputer__imputer_num__strategy=most_frequent, total=   4.4s\n",
      "[CV] classifier__estimator__criterion=gini, classifier__estimator__n_estimators=150, imputer__imputer_num__strategy=most_frequent \n",
      "[CV]  classifier__estimator__criterion=gini, classifier__estimator__n_estimators=150, imputer__imputer_num__strategy=most_frequent, total=   4.4s\n",
      "[CV] classifier__estimator__criterion=gini, classifier__estimator__n_estimators=150, imputer__imputer_num__strategy=most_frequent \n",
      "[CV]  classifier__estimator__criterion=gini, classifier__estimator__n_estimators=150, imputer__imputer_num__strategy=most_frequent, total=   4.4s\n",
      "[CV] classifier__estimator__criterion=entropy, classifier__estimator__n_estimators=50, imputer__imputer_num__strategy=median \n",
      "[CV]  classifier__estimator__criterion=entropy, classifier__estimator__n_estimators=50, imputer__imputer_num__strategy=median, total=   2.6s\n",
      "[CV] classifier__estimator__criterion=entropy, classifier__estimator__n_estimators=50, imputer__imputer_num__strategy=median \n",
      "[CV]  classifier__estimator__criterion=entropy, classifier__estimator__n_estimators=50, imputer__imputer_num__strategy=median, total=   2.2s\n",
      "[CV] classifier__estimator__criterion=entropy, classifier__estimator__n_estimators=50, imputer__imputer_num__strategy=median \n",
      "[CV]  classifier__estimator__criterion=entropy, classifier__estimator__n_estimators=50, imputer__imputer_num__strategy=median, total=   2.0s\n",
      "[CV] classifier__estimator__criterion=entropy, classifier__estimator__n_estimators=50, imputer__imputer_num__strategy=most_frequent \n",
      "[CV]  classifier__estimator__criterion=entropy, classifier__estimator__n_estimators=50, imputer__imputer_num__strategy=most_frequent, total=   2.5s\n",
      "[CV] classifier__estimator__criterion=entropy, classifier__estimator__n_estimators=50, imputer__imputer_num__strategy=most_frequent \n",
      "[CV]  classifier__estimator__criterion=entropy, classifier__estimator__n_estimators=50, imputer__imputer_num__strategy=most_frequent, total=   2.3s\n",
      "[CV] classifier__estimator__criterion=entropy, classifier__estimator__n_estimators=50, imputer__imputer_num__strategy=most_frequent \n",
      "[CV]  classifier__estimator__criterion=entropy, classifier__estimator__n_estimators=50, imputer__imputer_num__strategy=most_frequent, total=   2.0s\n",
      "[CV] classifier__estimator__criterion=entropy, classifier__estimator__n_estimators=80, imputer__imputer_num__strategy=median \n",
      "[CV]  classifier__estimator__criterion=entropy, classifier__estimator__n_estimators=80, imputer__imputer_num__strategy=median, total=   3.8s\n",
      "[CV] classifier__estimator__criterion=entropy, classifier__estimator__n_estimators=80, imputer__imputer_num__strategy=median \n",
      "[CV]  classifier__estimator__criterion=entropy, classifier__estimator__n_estimators=80, imputer__imputer_num__strategy=median, total=   3.3s\n",
      "[CV] classifier__estimator__criterion=entropy, classifier__estimator__n_estimators=80, imputer__imputer_num__strategy=median \n"
     ]
    },
    {
     "name": "stdout",
     "output_type": "stream",
     "text": [
      "[CV]  classifier__estimator__criterion=entropy, classifier__estimator__n_estimators=80, imputer__imputer_num__strategy=median, total=   2.9s\n",
      "[CV] classifier__estimator__criterion=entropy, classifier__estimator__n_estimators=80, imputer__imputer_num__strategy=most_frequent \n",
      "[CV]  classifier__estimator__criterion=entropy, classifier__estimator__n_estimators=80, imputer__imputer_num__strategy=most_frequent, total=   3.8s\n",
      "[CV] classifier__estimator__criterion=entropy, classifier__estimator__n_estimators=80, imputer__imputer_num__strategy=most_frequent \n",
      "[CV]  classifier__estimator__criterion=entropy, classifier__estimator__n_estimators=80, imputer__imputer_num__strategy=most_frequent, total=   3.3s\n",
      "[CV] classifier__estimator__criterion=entropy, classifier__estimator__n_estimators=80, imputer__imputer_num__strategy=most_frequent \n",
      "[CV]  classifier__estimator__criterion=entropy, classifier__estimator__n_estimators=80, imputer__imputer_num__strategy=most_frequent, total=   2.9s\n",
      "[CV] classifier__estimator__criterion=entropy, classifier__estimator__n_estimators=110, imputer__imputer_num__strategy=median \n",
      "[CV]  classifier__estimator__criterion=entropy, classifier__estimator__n_estimators=110, imputer__imputer_num__strategy=median, total=   5.0s\n",
      "[CV] classifier__estimator__criterion=entropy, classifier__estimator__n_estimators=110, imputer__imputer_num__strategy=median \n",
      "[CV]  classifier__estimator__criterion=entropy, classifier__estimator__n_estimators=110, imputer__imputer_num__strategy=median, total=   4.3s\n",
      "[CV] classifier__estimator__criterion=entropy, classifier__estimator__n_estimators=110, imputer__imputer_num__strategy=median \n",
      "[CV]  classifier__estimator__criterion=entropy, classifier__estimator__n_estimators=110, imputer__imputer_num__strategy=median, total=   3.8s\n",
      "[CV] classifier__estimator__criterion=entropy, classifier__estimator__n_estimators=110, imputer__imputer_num__strategy=most_frequent \n",
      "[CV]  classifier__estimator__criterion=entropy, classifier__estimator__n_estimators=110, imputer__imputer_num__strategy=most_frequent, total=   5.0s\n",
      "[CV] classifier__estimator__criterion=entropy, classifier__estimator__n_estimators=110, imputer__imputer_num__strategy=most_frequent \n",
      "[CV]  classifier__estimator__criterion=entropy, classifier__estimator__n_estimators=110, imputer__imputer_num__strategy=most_frequent, total=   4.4s\n",
      "[CV] classifier__estimator__criterion=entropy, classifier__estimator__n_estimators=110, imputer__imputer_num__strategy=most_frequent \n",
      "[CV]  classifier__estimator__criterion=entropy, classifier__estimator__n_estimators=110, imputer__imputer_num__strategy=most_frequent, total=   3.8s\n",
      "[CV] classifier__estimator__criterion=entropy, classifier__estimator__n_estimators=150, imputer__imputer_num__strategy=median \n",
      "[CV]  classifier__estimator__criterion=entropy, classifier__estimator__n_estimators=150, imputer__imputer_num__strategy=median, total=   6.6s\n",
      "[CV] classifier__estimator__criterion=entropy, classifier__estimator__n_estimators=150, imputer__imputer_num__strategy=median \n",
      "[CV]  classifier__estimator__criterion=entropy, classifier__estimator__n_estimators=150, imputer__imputer_num__strategy=median, total=   5.8s\n",
      "[CV] classifier__estimator__criterion=entropy, classifier__estimator__n_estimators=150, imputer__imputer_num__strategy=median \n",
      "[CV]  classifier__estimator__criterion=entropy, classifier__estimator__n_estimators=150, imputer__imputer_num__strategy=median, total=   5.0s\n",
      "[CV] classifier__estimator__criterion=entropy, classifier__estimator__n_estimators=150, imputer__imputer_num__strategy=most_frequent \n",
      "[CV]  classifier__estimator__criterion=entropy, classifier__estimator__n_estimators=150, imputer__imputer_num__strategy=most_frequent, total=   6.6s\n",
      "[CV] classifier__estimator__criterion=entropy, classifier__estimator__n_estimators=150, imputer__imputer_num__strategy=most_frequent \n",
      "[CV]  classifier__estimator__criterion=entropy, classifier__estimator__n_estimators=150, imputer__imputer_num__strategy=most_frequent, total=   5.8s\n",
      "[CV] classifier__estimator__criterion=entropy, classifier__estimator__n_estimators=150, imputer__imputer_num__strategy=most_frequent \n",
      "[CV]  classifier__estimator__criterion=entropy, classifier__estimator__n_estimators=150, imputer__imputer_num__strategy=most_frequent, total=   5.0s\n"
     ]
    },
    {
     "name": "stderr",
     "output_type": "stream",
     "text": [
      "[Parallel(n_jobs=1)]: Done  48 out of  48 | elapsed:  2.8min finished\n"
     ]
    },
    {
     "name": "stdout",
     "output_type": "stream",
     "text": [
      "fitting done in 174.06631994247437 sec!\n",
      "the best parameter set is : {'classifier__estimator__criterion': 'entropy', 'classifier__estimator__n_estimators': 110, 'imputer__imputer_num__strategy': 'median'}\n",
      "evaluating the model\n",
      "the train set score is 1.0\n",
      "the test set score is 0.8456335913759109\n",
      "\n",
      "fitting the model AdaBoostClassifier(algorithm='SAMME.R', base_estimator=None, learning_rate=1.0,\n",
      "                   n_estimators=50, random_state=None)\n",
      "Fitting 3 folds for each of 32 candidates, totalling 96 fits\n",
      "[CV] classifier__estimator__learning_rate=0.001, classifier__estimator__n_estimators=50, imputer__imputer_num__strategy=median \n"
     ]
    },
    {
     "name": "stderr",
     "output_type": "stream",
     "text": [
      "[Parallel(n_jobs=1)]: Using backend SequentialBackend with 1 concurrent workers.\n"
     ]
    },
    {
     "name": "stdout",
     "output_type": "stream",
     "text": [
      "[CV]  classifier__estimator__learning_rate=0.001, classifier__estimator__n_estimators=50, imputer__imputer_num__strategy=median, total=   1.8s\n",
      "[CV] classifier__estimator__learning_rate=0.001, classifier__estimator__n_estimators=50, imputer__imputer_num__strategy=median \n"
     ]
    },
    {
     "name": "stderr",
     "output_type": "stream",
     "text": [
      "[Parallel(n_jobs=1)]: Done   1 out of   1 | elapsed:    1.8s remaining:    0.0s\n"
     ]
    },
    {
     "name": "stdout",
     "output_type": "stream",
     "text": [
      "[CV]  classifier__estimator__learning_rate=0.001, classifier__estimator__n_estimators=50, imputer__imputer_num__strategy=median, total=   1.6s\n",
      "[CV] classifier__estimator__learning_rate=0.001, classifier__estimator__n_estimators=50, imputer__imputer_num__strategy=median \n",
      "[CV]  classifier__estimator__learning_rate=0.001, classifier__estimator__n_estimators=50, imputer__imputer_num__strategy=median, total=   1.6s\n",
      "[CV] classifier__estimator__learning_rate=0.001, classifier__estimator__n_estimators=50, imputer__imputer_num__strategy=most_frequent \n",
      "[CV]  classifier__estimator__learning_rate=0.001, classifier__estimator__n_estimators=50, imputer__imputer_num__strategy=most_frequent, total=   1.6s\n",
      "[CV] classifier__estimator__learning_rate=0.001, classifier__estimator__n_estimators=50, imputer__imputer_num__strategy=most_frequent \n",
      "[CV]  classifier__estimator__learning_rate=0.001, classifier__estimator__n_estimators=50, imputer__imputer_num__strategy=most_frequent, total=   1.6s\n",
      "[CV] classifier__estimator__learning_rate=0.001, classifier__estimator__n_estimators=50, imputer__imputer_num__strategy=most_frequent \n",
      "[CV]  classifier__estimator__learning_rate=0.001, classifier__estimator__n_estimators=50, imputer__imputer_num__strategy=most_frequent, total=   1.6s\n",
      "[CV] classifier__estimator__learning_rate=0.001, classifier__estimator__n_estimators=80, imputer__imputer_num__strategy=median \n",
      "[CV]  classifier__estimator__learning_rate=0.001, classifier__estimator__n_estimators=80, imputer__imputer_num__strategy=median, total=   2.3s\n",
      "[CV] classifier__estimator__learning_rate=0.001, classifier__estimator__n_estimators=80, imputer__imputer_num__strategy=median \n",
      "[CV]  classifier__estimator__learning_rate=0.001, classifier__estimator__n_estimators=80, imputer__imputer_num__strategy=median, total=   2.3s\n",
      "[CV] classifier__estimator__learning_rate=0.001, classifier__estimator__n_estimators=80, imputer__imputer_num__strategy=median \n",
      "[CV]  classifier__estimator__learning_rate=0.001, classifier__estimator__n_estimators=80, imputer__imputer_num__strategy=median, total=   2.3s\n",
      "[CV] classifier__estimator__learning_rate=0.001, classifier__estimator__n_estimators=80, imputer__imputer_num__strategy=most_frequent \n",
      "[CV]  classifier__estimator__learning_rate=0.001, classifier__estimator__n_estimators=80, imputer__imputer_num__strategy=most_frequent, total=   2.3s\n",
      "[CV] classifier__estimator__learning_rate=0.001, classifier__estimator__n_estimators=80, imputer__imputer_num__strategy=most_frequent \n",
      "[CV]  classifier__estimator__learning_rate=0.001, classifier__estimator__n_estimators=80, imputer__imputer_num__strategy=most_frequent, total=   2.3s\n",
      "[CV] classifier__estimator__learning_rate=0.001, classifier__estimator__n_estimators=80, imputer__imputer_num__strategy=most_frequent \n",
      "[CV]  classifier__estimator__learning_rate=0.001, classifier__estimator__n_estimators=80, imputer__imputer_num__strategy=most_frequent, total=   2.3s\n",
      "[CV] classifier__estimator__learning_rate=0.001, classifier__estimator__n_estimators=110, imputer__imputer_num__strategy=median \n",
      "[CV]  classifier__estimator__learning_rate=0.001, classifier__estimator__n_estimators=110, imputer__imputer_num__strategy=median, total=   3.0s\n",
      "[CV] classifier__estimator__learning_rate=0.001, classifier__estimator__n_estimators=110, imputer__imputer_num__strategy=median \n",
      "[CV]  classifier__estimator__learning_rate=0.001, classifier__estimator__n_estimators=110, imputer__imputer_num__strategy=median, total=   3.0s\n",
      "[CV] classifier__estimator__learning_rate=0.001, classifier__estimator__n_estimators=110, imputer__imputer_num__strategy=median \n",
      "[CV]  classifier__estimator__learning_rate=0.001, classifier__estimator__n_estimators=110, imputer__imputer_num__strategy=median, total=   3.0s\n",
      "[CV] classifier__estimator__learning_rate=0.001, classifier__estimator__n_estimators=110, imputer__imputer_num__strategy=most_frequent \n",
      "[CV]  classifier__estimator__learning_rate=0.001, classifier__estimator__n_estimators=110, imputer__imputer_num__strategy=most_frequent, total=   3.0s\n",
      "[CV] classifier__estimator__learning_rate=0.001, classifier__estimator__n_estimators=110, imputer__imputer_num__strategy=most_frequent \n",
      "[CV]  classifier__estimator__learning_rate=0.001, classifier__estimator__n_estimators=110, imputer__imputer_num__strategy=most_frequent, total=   3.0s\n",
      "[CV] classifier__estimator__learning_rate=0.001, classifier__estimator__n_estimators=110, imputer__imputer_num__strategy=most_frequent \n",
      "[CV]  classifier__estimator__learning_rate=0.001, classifier__estimator__n_estimators=110, imputer__imputer_num__strategy=most_frequent, total=   3.0s\n",
      "[CV] classifier__estimator__learning_rate=0.001, classifier__estimator__n_estimators=150, imputer__imputer_num__strategy=median \n",
      "[CV]  classifier__estimator__learning_rate=0.001, classifier__estimator__n_estimators=150, imputer__imputer_num__strategy=median, total=   3.9s\n",
      "[CV] classifier__estimator__learning_rate=0.001, classifier__estimator__n_estimators=150, imputer__imputer_num__strategy=median \n",
      "[CV]  classifier__estimator__learning_rate=0.001, classifier__estimator__n_estimators=150, imputer__imputer_num__strategy=median, total=   3.8s\n",
      "[CV] classifier__estimator__learning_rate=0.001, classifier__estimator__n_estimators=150, imputer__imputer_num__strategy=median \n",
      "[CV]  classifier__estimator__learning_rate=0.001, classifier__estimator__n_estimators=150, imputer__imputer_num__strategy=median, total=   3.9s\n",
      "[CV] classifier__estimator__learning_rate=0.001, classifier__estimator__n_estimators=150, imputer__imputer_num__strategy=most_frequent \n",
      "[CV]  classifier__estimator__learning_rate=0.001, classifier__estimator__n_estimators=150, imputer__imputer_num__strategy=most_frequent, total=   3.9s\n",
      "[CV] classifier__estimator__learning_rate=0.001, classifier__estimator__n_estimators=150, imputer__imputer_num__strategy=most_frequent \n",
      "[CV]  classifier__estimator__learning_rate=0.001, classifier__estimator__n_estimators=150, imputer__imputer_num__strategy=most_frequent, total=   3.8s\n",
      "[CV] classifier__estimator__learning_rate=0.001, classifier__estimator__n_estimators=150, imputer__imputer_num__strategy=most_frequent \n",
      "[CV]  classifier__estimator__learning_rate=0.001, classifier__estimator__n_estimators=150, imputer__imputer_num__strategy=most_frequent, total=   3.9s\n",
      "[CV] classifier__estimator__learning_rate=0.01, classifier__estimator__n_estimators=50, imputer__imputer_num__strategy=median \n",
      "[CV]  classifier__estimator__learning_rate=0.01, classifier__estimator__n_estimators=50, imputer__imputer_num__strategy=median, total=   1.6s\n",
      "[CV] classifier__estimator__learning_rate=0.01, classifier__estimator__n_estimators=50, imputer__imputer_num__strategy=median \n",
      "[CV]  classifier__estimator__learning_rate=0.01, classifier__estimator__n_estimators=50, imputer__imputer_num__strategy=median, total=   1.6s\n",
      "[CV] classifier__estimator__learning_rate=0.01, classifier__estimator__n_estimators=50, imputer__imputer_num__strategy=median \n",
      "[CV]  classifier__estimator__learning_rate=0.01, classifier__estimator__n_estimators=50, imputer__imputer_num__strategy=median, total=   1.6s\n",
      "[CV] classifier__estimator__learning_rate=0.01, classifier__estimator__n_estimators=50, imputer__imputer_num__strategy=most_frequent \n",
      "[CV]  classifier__estimator__learning_rate=0.01, classifier__estimator__n_estimators=50, imputer__imputer_num__strategy=most_frequent, total=   1.6s\n",
      "[CV] classifier__estimator__learning_rate=0.01, classifier__estimator__n_estimators=50, imputer__imputer_num__strategy=most_frequent \n",
      "[CV]  classifier__estimator__learning_rate=0.01, classifier__estimator__n_estimators=50, imputer__imputer_num__strategy=most_frequent, total=   1.6s\n",
      "[CV] classifier__estimator__learning_rate=0.01, classifier__estimator__n_estimators=50, imputer__imputer_num__strategy=most_frequent \n",
      "[CV]  classifier__estimator__learning_rate=0.01, classifier__estimator__n_estimators=50, imputer__imputer_num__strategy=most_frequent, total=   1.6s\n",
      "[CV] classifier__estimator__learning_rate=0.01, classifier__estimator__n_estimators=80, imputer__imputer_num__strategy=median \n",
      "[CV]  classifier__estimator__learning_rate=0.01, classifier__estimator__n_estimators=80, imputer__imputer_num__strategy=median, total=   2.3s\n",
      "[CV] classifier__estimator__learning_rate=0.01, classifier__estimator__n_estimators=80, imputer__imputer_num__strategy=median \n"
     ]
    },
    {
     "name": "stdout",
     "output_type": "stream",
     "text": [
      "[CV]  classifier__estimator__learning_rate=0.01, classifier__estimator__n_estimators=80, imputer__imputer_num__strategy=median, total=   2.3s\n",
      "[CV] classifier__estimator__learning_rate=0.01, classifier__estimator__n_estimators=80, imputer__imputer_num__strategy=median \n",
      "[CV]  classifier__estimator__learning_rate=0.01, classifier__estimator__n_estimators=80, imputer__imputer_num__strategy=median, total=   2.3s\n",
      "[CV] classifier__estimator__learning_rate=0.01, classifier__estimator__n_estimators=80, imputer__imputer_num__strategy=most_frequent \n",
      "[CV]  classifier__estimator__learning_rate=0.01, classifier__estimator__n_estimators=80, imputer__imputer_num__strategy=most_frequent, total=   2.3s\n",
      "[CV] classifier__estimator__learning_rate=0.01, classifier__estimator__n_estimators=80, imputer__imputer_num__strategy=most_frequent \n",
      "[CV]  classifier__estimator__learning_rate=0.01, classifier__estimator__n_estimators=80, imputer__imputer_num__strategy=most_frequent, total=   2.3s\n",
      "[CV] classifier__estimator__learning_rate=0.01, classifier__estimator__n_estimators=80, imputer__imputer_num__strategy=most_frequent \n",
      "[CV]  classifier__estimator__learning_rate=0.01, classifier__estimator__n_estimators=80, imputer__imputer_num__strategy=most_frequent, total=   2.3s\n",
      "[CV] classifier__estimator__learning_rate=0.01, classifier__estimator__n_estimators=110, imputer__imputer_num__strategy=median \n",
      "[CV]  classifier__estimator__learning_rate=0.01, classifier__estimator__n_estimators=110, imputer__imputer_num__strategy=median, total=   3.0s\n",
      "[CV] classifier__estimator__learning_rate=0.01, classifier__estimator__n_estimators=110, imputer__imputer_num__strategy=median \n",
      "[CV]  classifier__estimator__learning_rate=0.01, classifier__estimator__n_estimators=110, imputer__imputer_num__strategy=median, total=   3.0s\n",
      "[CV] classifier__estimator__learning_rate=0.01, classifier__estimator__n_estimators=110, imputer__imputer_num__strategy=median \n",
      "[CV]  classifier__estimator__learning_rate=0.01, classifier__estimator__n_estimators=110, imputer__imputer_num__strategy=median, total=   3.0s\n",
      "[CV] classifier__estimator__learning_rate=0.01, classifier__estimator__n_estimators=110, imputer__imputer_num__strategy=most_frequent \n",
      "[CV]  classifier__estimator__learning_rate=0.01, classifier__estimator__n_estimators=110, imputer__imputer_num__strategy=most_frequent, total=   3.0s\n",
      "[CV] classifier__estimator__learning_rate=0.01, classifier__estimator__n_estimators=110, imputer__imputer_num__strategy=most_frequent \n",
      "[CV]  classifier__estimator__learning_rate=0.01, classifier__estimator__n_estimators=110, imputer__imputer_num__strategy=most_frequent, total=   3.0s\n",
      "[CV] classifier__estimator__learning_rate=0.01, classifier__estimator__n_estimators=110, imputer__imputer_num__strategy=most_frequent \n",
      "[CV]  classifier__estimator__learning_rate=0.01, classifier__estimator__n_estimators=110, imputer__imputer_num__strategy=most_frequent, total=   3.0s\n",
      "[CV] classifier__estimator__learning_rate=0.01, classifier__estimator__n_estimators=150, imputer__imputer_num__strategy=median \n",
      "[CV]  classifier__estimator__learning_rate=0.01, classifier__estimator__n_estimators=150, imputer__imputer_num__strategy=median, total=   4.0s\n",
      "[CV] classifier__estimator__learning_rate=0.01, classifier__estimator__n_estimators=150, imputer__imputer_num__strategy=median \n",
      "[CV]  classifier__estimator__learning_rate=0.01, classifier__estimator__n_estimators=150, imputer__imputer_num__strategy=median, total=   4.0s\n",
      "[CV] classifier__estimator__learning_rate=0.01, classifier__estimator__n_estimators=150, imputer__imputer_num__strategy=median \n",
      "[CV]  classifier__estimator__learning_rate=0.01, classifier__estimator__n_estimators=150, imputer__imputer_num__strategy=median, total=   4.1s\n",
      "[CV] classifier__estimator__learning_rate=0.01, classifier__estimator__n_estimators=150, imputer__imputer_num__strategy=most_frequent \n",
      "[CV]  classifier__estimator__learning_rate=0.01, classifier__estimator__n_estimators=150, imputer__imputer_num__strategy=most_frequent, total=   3.9s\n",
      "[CV] classifier__estimator__learning_rate=0.01, classifier__estimator__n_estimators=150, imputer__imputer_num__strategy=most_frequent \n",
      "[CV]  classifier__estimator__learning_rate=0.01, classifier__estimator__n_estimators=150, imputer__imputer_num__strategy=most_frequent, total=   4.0s\n",
      "[CV] classifier__estimator__learning_rate=0.01, classifier__estimator__n_estimators=150, imputer__imputer_num__strategy=most_frequent \n",
      "[CV]  classifier__estimator__learning_rate=0.01, classifier__estimator__n_estimators=150, imputer__imputer_num__strategy=most_frequent, total=   4.3s\n",
      "[CV] classifier__estimator__learning_rate=0.05, classifier__estimator__n_estimators=50, imputer__imputer_num__strategy=median \n",
      "[CV]  classifier__estimator__learning_rate=0.05, classifier__estimator__n_estimators=50, imputer__imputer_num__strategy=median, total=   2.0s\n",
      "[CV] classifier__estimator__learning_rate=0.05, classifier__estimator__n_estimators=50, imputer__imputer_num__strategy=median \n",
      "[CV]  classifier__estimator__learning_rate=0.05, classifier__estimator__n_estimators=50, imputer__imputer_num__strategy=median, total=   1.9s\n",
      "[CV] classifier__estimator__learning_rate=0.05, classifier__estimator__n_estimators=50, imputer__imputer_num__strategy=median \n",
      "[CV]  classifier__estimator__learning_rate=0.05, classifier__estimator__n_estimators=50, imputer__imputer_num__strategy=median, total=   1.7s\n",
      "[CV] classifier__estimator__learning_rate=0.05, classifier__estimator__n_estimators=50, imputer__imputer_num__strategy=most_frequent \n",
      "[CV]  classifier__estimator__learning_rate=0.05, classifier__estimator__n_estimators=50, imputer__imputer_num__strategy=most_frequent, total=   1.8s\n",
      "[CV] classifier__estimator__learning_rate=0.05, classifier__estimator__n_estimators=50, imputer__imputer_num__strategy=most_frequent \n",
      "[CV]  classifier__estimator__learning_rate=0.05, classifier__estimator__n_estimators=50, imputer__imputer_num__strategy=most_frequent, total=   2.0s\n",
      "[CV] classifier__estimator__learning_rate=0.05, classifier__estimator__n_estimators=50, imputer__imputer_num__strategy=most_frequent \n",
      "[CV]  classifier__estimator__learning_rate=0.05, classifier__estimator__n_estimators=50, imputer__imputer_num__strategy=most_frequent, total=   1.7s\n",
      "[CV] classifier__estimator__learning_rate=0.05, classifier__estimator__n_estimators=80, imputer__imputer_num__strategy=median \n",
      "[CV]  classifier__estimator__learning_rate=0.05, classifier__estimator__n_estimators=80, imputer__imputer_num__strategy=median, total=   2.6s\n",
      "[CV] classifier__estimator__learning_rate=0.05, classifier__estimator__n_estimators=80, imputer__imputer_num__strategy=median \n",
      "[CV]  classifier__estimator__learning_rate=0.05, classifier__estimator__n_estimators=80, imputer__imputer_num__strategy=median, total=   2.8s\n",
      "[CV] classifier__estimator__learning_rate=0.05, classifier__estimator__n_estimators=80, imputer__imputer_num__strategy=median \n",
      "[CV]  classifier__estimator__learning_rate=0.05, classifier__estimator__n_estimators=80, imputer__imputer_num__strategy=median, total=   2.8s\n",
      "[CV] classifier__estimator__learning_rate=0.05, classifier__estimator__n_estimators=80, imputer__imputer_num__strategy=most_frequent \n",
      "[CV]  classifier__estimator__learning_rate=0.05, classifier__estimator__n_estimators=80, imputer__imputer_num__strategy=most_frequent, total=   2.3s\n",
      "[CV] classifier__estimator__learning_rate=0.05, classifier__estimator__n_estimators=80, imputer__imputer_num__strategy=most_frequent \n",
      "[CV]  classifier__estimator__learning_rate=0.05, classifier__estimator__n_estimators=80, imputer__imputer_num__strategy=most_frequent, total=   2.3s\n",
      "[CV] classifier__estimator__learning_rate=0.05, classifier__estimator__n_estimators=80, imputer__imputer_num__strategy=most_frequent \n",
      "[CV]  classifier__estimator__learning_rate=0.05, classifier__estimator__n_estimators=80, imputer__imputer_num__strategy=most_frequent, total=   2.3s\n",
      "[CV] classifier__estimator__learning_rate=0.05, classifier__estimator__n_estimators=110, imputer__imputer_num__strategy=median \n",
      "[CV]  classifier__estimator__learning_rate=0.05, classifier__estimator__n_estimators=110, imputer__imputer_num__strategy=median, total=   3.0s\n",
      "[CV] classifier__estimator__learning_rate=0.05, classifier__estimator__n_estimators=110, imputer__imputer_num__strategy=median \n"
     ]
    },
    {
     "name": "stdout",
     "output_type": "stream",
     "text": [
      "[CV]  classifier__estimator__learning_rate=0.05, classifier__estimator__n_estimators=110, imputer__imputer_num__strategy=median, total=   3.9s\n",
      "[CV] classifier__estimator__learning_rate=0.05, classifier__estimator__n_estimators=110, imputer__imputer_num__strategy=median \n",
      "[CV]  classifier__estimator__learning_rate=0.05, classifier__estimator__n_estimators=110, imputer__imputer_num__strategy=median, total=   3.0s\n",
      "[CV] classifier__estimator__learning_rate=0.05, classifier__estimator__n_estimators=110, imputer__imputer_num__strategy=most_frequent \n",
      "[CV]  classifier__estimator__learning_rate=0.05, classifier__estimator__n_estimators=110, imputer__imputer_num__strategy=most_frequent, total=   3.0s\n",
      "[CV] classifier__estimator__learning_rate=0.05, classifier__estimator__n_estimators=110, imputer__imputer_num__strategy=most_frequent \n",
      "[CV]  classifier__estimator__learning_rate=0.05, classifier__estimator__n_estimators=110, imputer__imputer_num__strategy=most_frequent, total=   3.0s\n",
      "[CV] classifier__estimator__learning_rate=0.05, classifier__estimator__n_estimators=110, imputer__imputer_num__strategy=most_frequent \n",
      "[CV]  classifier__estimator__learning_rate=0.05, classifier__estimator__n_estimators=110, imputer__imputer_num__strategy=most_frequent, total=   3.2s\n",
      "[CV] classifier__estimator__learning_rate=0.05, classifier__estimator__n_estimators=150, imputer__imputer_num__strategy=median \n",
      "[CV]  classifier__estimator__learning_rate=0.05, classifier__estimator__n_estimators=150, imputer__imputer_num__strategy=median, total=   3.8s\n",
      "[CV] classifier__estimator__learning_rate=0.05, classifier__estimator__n_estimators=150, imputer__imputer_num__strategy=median \n",
      "[CV]  classifier__estimator__learning_rate=0.05, classifier__estimator__n_estimators=150, imputer__imputer_num__strategy=median, total=   3.9s\n",
      "[CV] classifier__estimator__learning_rate=0.05, classifier__estimator__n_estimators=150, imputer__imputer_num__strategy=median \n",
      "[CV]  classifier__estimator__learning_rate=0.05, classifier__estimator__n_estimators=150, imputer__imputer_num__strategy=median, total=   3.9s\n",
      "[CV] classifier__estimator__learning_rate=0.05, classifier__estimator__n_estimators=150, imputer__imputer_num__strategy=most_frequent \n",
      "[CV]  classifier__estimator__learning_rate=0.05, classifier__estimator__n_estimators=150, imputer__imputer_num__strategy=most_frequent, total=   3.9s\n",
      "[CV] classifier__estimator__learning_rate=0.05, classifier__estimator__n_estimators=150, imputer__imputer_num__strategy=most_frequent \n",
      "[CV]  classifier__estimator__learning_rate=0.05, classifier__estimator__n_estimators=150, imputer__imputer_num__strategy=most_frequent, total=   4.2s\n",
      "[CV] classifier__estimator__learning_rate=0.05, classifier__estimator__n_estimators=150, imputer__imputer_num__strategy=most_frequent \n",
      "[CV]  classifier__estimator__learning_rate=0.05, classifier__estimator__n_estimators=150, imputer__imputer_num__strategy=most_frequent, total=   3.9s\n",
      "[CV] classifier__estimator__learning_rate=0.1, classifier__estimator__n_estimators=50, imputer__imputer_num__strategy=median \n",
      "[CV]  classifier__estimator__learning_rate=0.1, classifier__estimator__n_estimators=50, imputer__imputer_num__strategy=median, total=   1.6s\n",
      "[CV] classifier__estimator__learning_rate=0.1, classifier__estimator__n_estimators=50, imputer__imputer_num__strategy=median \n",
      "[CV]  classifier__estimator__learning_rate=0.1, classifier__estimator__n_estimators=50, imputer__imputer_num__strategy=median, total=   1.6s\n",
      "[CV] classifier__estimator__learning_rate=0.1, classifier__estimator__n_estimators=50, imputer__imputer_num__strategy=median \n",
      "[CV]  classifier__estimator__learning_rate=0.1, classifier__estimator__n_estimators=50, imputer__imputer_num__strategy=median, total=   1.6s\n",
      "[CV] classifier__estimator__learning_rate=0.1, classifier__estimator__n_estimators=50, imputer__imputer_num__strategy=most_frequent \n",
      "[CV]  classifier__estimator__learning_rate=0.1, classifier__estimator__n_estimators=50, imputer__imputer_num__strategy=most_frequent, total=   1.6s\n",
      "[CV] classifier__estimator__learning_rate=0.1, classifier__estimator__n_estimators=50, imputer__imputer_num__strategy=most_frequent \n",
      "[CV]  classifier__estimator__learning_rate=0.1, classifier__estimator__n_estimators=50, imputer__imputer_num__strategy=most_frequent, total=   1.6s\n",
      "[CV] classifier__estimator__learning_rate=0.1, classifier__estimator__n_estimators=50, imputer__imputer_num__strategy=most_frequent \n",
      "[CV]  classifier__estimator__learning_rate=0.1, classifier__estimator__n_estimators=50, imputer__imputer_num__strategy=most_frequent, total=   1.6s\n",
      "[CV] classifier__estimator__learning_rate=0.1, classifier__estimator__n_estimators=80, imputer__imputer_num__strategy=median \n",
      "[CV]  classifier__estimator__learning_rate=0.1, classifier__estimator__n_estimators=80, imputer__imputer_num__strategy=median, total=   2.3s\n",
      "[CV] classifier__estimator__learning_rate=0.1, classifier__estimator__n_estimators=80, imputer__imputer_num__strategy=median \n",
      "[CV]  classifier__estimator__learning_rate=0.1, classifier__estimator__n_estimators=80, imputer__imputer_num__strategy=median, total=   2.3s\n",
      "[CV] classifier__estimator__learning_rate=0.1, classifier__estimator__n_estimators=80, imputer__imputer_num__strategy=median \n",
      "[CV]  classifier__estimator__learning_rate=0.1, classifier__estimator__n_estimators=80, imputer__imputer_num__strategy=median, total=   2.3s\n",
      "[CV] classifier__estimator__learning_rate=0.1, classifier__estimator__n_estimators=80, imputer__imputer_num__strategy=most_frequent \n",
      "[CV]  classifier__estimator__learning_rate=0.1, classifier__estimator__n_estimators=80, imputer__imputer_num__strategy=most_frequent, total=   2.3s\n",
      "[CV] classifier__estimator__learning_rate=0.1, classifier__estimator__n_estimators=80, imputer__imputer_num__strategy=most_frequent \n",
      "[CV]  classifier__estimator__learning_rate=0.1, classifier__estimator__n_estimators=80, imputer__imputer_num__strategy=most_frequent, total=   2.3s\n",
      "[CV] classifier__estimator__learning_rate=0.1, classifier__estimator__n_estimators=80, imputer__imputer_num__strategy=most_frequent \n",
      "[CV]  classifier__estimator__learning_rate=0.1, classifier__estimator__n_estimators=80, imputer__imputer_num__strategy=most_frequent, total=   2.3s\n",
      "[CV] classifier__estimator__learning_rate=0.1, classifier__estimator__n_estimators=110, imputer__imputer_num__strategy=median \n",
      "[CV]  classifier__estimator__learning_rate=0.1, classifier__estimator__n_estimators=110, imputer__imputer_num__strategy=median, total=   3.0s\n",
      "[CV] classifier__estimator__learning_rate=0.1, classifier__estimator__n_estimators=110, imputer__imputer_num__strategy=median \n",
      "[CV]  classifier__estimator__learning_rate=0.1, classifier__estimator__n_estimators=110, imputer__imputer_num__strategy=median, total=   3.0s\n",
      "[CV] classifier__estimator__learning_rate=0.1, classifier__estimator__n_estimators=110, imputer__imputer_num__strategy=median \n",
      "[CV]  classifier__estimator__learning_rate=0.1, classifier__estimator__n_estimators=110, imputer__imputer_num__strategy=median, total=   3.0s\n",
      "[CV] classifier__estimator__learning_rate=0.1, classifier__estimator__n_estimators=110, imputer__imputer_num__strategy=most_frequent \n",
      "[CV]  classifier__estimator__learning_rate=0.1, classifier__estimator__n_estimators=110, imputer__imputer_num__strategy=most_frequent, total=   3.0s\n",
      "[CV] classifier__estimator__learning_rate=0.1, classifier__estimator__n_estimators=110, imputer__imputer_num__strategy=most_frequent \n",
      "[CV]  classifier__estimator__learning_rate=0.1, classifier__estimator__n_estimators=110, imputer__imputer_num__strategy=most_frequent, total=   3.0s\n",
      "[CV] classifier__estimator__learning_rate=0.1, classifier__estimator__n_estimators=110, imputer__imputer_num__strategy=most_frequent \n",
      "[CV]  classifier__estimator__learning_rate=0.1, classifier__estimator__n_estimators=110, imputer__imputer_num__strategy=most_frequent, total=   3.0s\n",
      "[CV] classifier__estimator__learning_rate=0.1, classifier__estimator__n_estimators=150, imputer__imputer_num__strategy=median \n",
      "[CV]  classifier__estimator__learning_rate=0.1, classifier__estimator__n_estimators=150, imputer__imputer_num__strategy=median, total=   3.8s\n",
      "[CV] classifier__estimator__learning_rate=0.1, classifier__estimator__n_estimators=150, imputer__imputer_num__strategy=median \n"
     ]
    },
    {
     "name": "stdout",
     "output_type": "stream",
     "text": [
      "[CV]  classifier__estimator__learning_rate=0.1, classifier__estimator__n_estimators=150, imputer__imputer_num__strategy=median, total=   3.9s\n",
      "[CV] classifier__estimator__learning_rate=0.1, classifier__estimator__n_estimators=150, imputer__imputer_num__strategy=median \n",
      "[CV]  classifier__estimator__learning_rate=0.1, classifier__estimator__n_estimators=150, imputer__imputer_num__strategy=median, total=   3.9s\n",
      "[CV] classifier__estimator__learning_rate=0.1, classifier__estimator__n_estimators=150, imputer__imputer_num__strategy=most_frequent \n",
      "[CV]  classifier__estimator__learning_rate=0.1, classifier__estimator__n_estimators=150, imputer__imputer_num__strategy=most_frequent, total=   3.9s\n",
      "[CV] classifier__estimator__learning_rate=0.1, classifier__estimator__n_estimators=150, imputer__imputer_num__strategy=most_frequent \n",
      "[CV]  classifier__estimator__learning_rate=0.1, classifier__estimator__n_estimators=150, imputer__imputer_num__strategy=most_frequent, total=   3.9s\n",
      "[CV] classifier__estimator__learning_rate=0.1, classifier__estimator__n_estimators=150, imputer__imputer_num__strategy=most_frequent \n",
      "[CV]  classifier__estimator__learning_rate=0.1, classifier__estimator__n_estimators=150, imputer__imputer_num__strategy=most_frequent, total=   3.9s\n"
     ]
    },
    {
     "name": "stderr",
     "output_type": "stream",
     "text": [
      "[Parallel(n_jobs=1)]: Done  96 out of  96 | elapsed:  4.4min finished\n"
     ]
    },
    {
     "name": "stdout",
     "output_type": "stream",
     "text": [
      "fitting done in 268.9996621608734 sec!\n",
      "the best parameter set is : {'classifier__estimator__learning_rate': 0.1, 'classifier__estimator__n_estimators': 150, 'imputer__imputer_num__strategy': 'most_frequent'}\n",
      "evaluating the model\n",
      "the train set score is 0.8415628336095095\n",
      "the test set score is 0.8454502479786262\n",
      "\n",
      "fitting the model GradientBoostingClassifier(ccp_alpha=0.0, criterion='friedman_mse', init=None,\n",
      "                           learning_rate=0.1, loss='deviance', max_depth=3,\n",
      "                           max_features=None, max_leaf_nodes=None,\n",
      "                           min_impurity_decrease=0.0, min_impurity_split=None,\n",
      "                           min_samples_leaf=1, min_samples_split=2,\n",
      "                           min_weight_fraction_leaf=0.0, n_estimators=100,\n",
      "                           n_iter_no_change=None, presort='deprecated',\n",
      "                           random_state=None, subsample=1.0, tol=0.0001,\n",
      "                           validation_fraction=0.1, verbose=0,\n",
      "                           warm_start=False)\n",
      "Fitting 3 folds for each of 32 candidates, totalling 96 fits\n",
      "[CV] classifier__estimator__learning_rate=0.001, classifier__estimator__n_estimators=100, imputer__imputer_num__strategy=median \n"
     ]
    },
    {
     "name": "stderr",
     "output_type": "stream",
     "text": [
      "[Parallel(n_jobs=1)]: Using backend SequentialBackend with 1 concurrent workers.\n"
     ]
    },
    {
     "name": "stdout",
     "output_type": "stream",
     "text": [
      "[CV]  classifier__estimator__learning_rate=0.001, classifier__estimator__n_estimators=100, imputer__imputer_num__strategy=median, total=   3.9s\n",
      "[CV] classifier__estimator__learning_rate=0.001, classifier__estimator__n_estimators=100, imputer__imputer_num__strategy=median \n"
     ]
    },
    {
     "name": "stderr",
     "output_type": "stream",
     "text": [
      "[Parallel(n_jobs=1)]: Done   1 out of   1 | elapsed:    3.9s remaining:    0.0s\n"
     ]
    },
    {
     "name": "stdout",
     "output_type": "stream",
     "text": [
      "[CV]  classifier__estimator__learning_rate=0.001, classifier__estimator__n_estimators=100, imputer__imputer_num__strategy=median, total=   3.9s\n",
      "[CV] classifier__estimator__learning_rate=0.001, classifier__estimator__n_estimators=100, imputer__imputer_num__strategy=median \n",
      "[CV]  classifier__estimator__learning_rate=0.001, classifier__estimator__n_estimators=100, imputer__imputer_num__strategy=median, total=   3.9s\n",
      "[CV] classifier__estimator__learning_rate=0.001, classifier__estimator__n_estimators=100, imputer__imputer_num__strategy=most_frequent \n",
      "[CV]  classifier__estimator__learning_rate=0.001, classifier__estimator__n_estimators=100, imputer__imputer_num__strategy=most_frequent, total=   3.9s\n",
      "[CV] classifier__estimator__learning_rate=0.001, classifier__estimator__n_estimators=100, imputer__imputer_num__strategy=most_frequent \n",
      "[CV]  classifier__estimator__learning_rate=0.001, classifier__estimator__n_estimators=100, imputer__imputer_num__strategy=most_frequent, total=   3.9s\n",
      "[CV] classifier__estimator__learning_rate=0.001, classifier__estimator__n_estimators=100, imputer__imputer_num__strategy=most_frequent \n",
      "[CV]  classifier__estimator__learning_rate=0.001, classifier__estimator__n_estimators=100, imputer__imputer_num__strategy=most_frequent, total=   3.9s\n",
      "[CV] classifier__estimator__learning_rate=0.001, classifier__estimator__n_estimators=120, imputer__imputer_num__strategy=median \n",
      "[CV]  classifier__estimator__learning_rate=0.001, classifier__estimator__n_estimators=120, imputer__imputer_num__strategy=median, total=   4.6s\n",
      "[CV] classifier__estimator__learning_rate=0.001, classifier__estimator__n_estimators=120, imputer__imputer_num__strategy=median \n",
      "[CV]  classifier__estimator__learning_rate=0.001, classifier__estimator__n_estimators=120, imputer__imputer_num__strategy=median, total=   4.5s\n",
      "[CV] classifier__estimator__learning_rate=0.001, classifier__estimator__n_estimators=120, imputer__imputer_num__strategy=median \n",
      "[CV]  classifier__estimator__learning_rate=0.001, classifier__estimator__n_estimators=120, imputer__imputer_num__strategy=median, total=   4.5s\n",
      "[CV] classifier__estimator__learning_rate=0.001, classifier__estimator__n_estimators=120, imputer__imputer_num__strategy=most_frequent \n",
      "[CV]  classifier__estimator__learning_rate=0.001, classifier__estimator__n_estimators=120, imputer__imputer_num__strategy=most_frequent, total=   4.5s\n",
      "[CV] classifier__estimator__learning_rate=0.001, classifier__estimator__n_estimators=120, imputer__imputer_num__strategy=most_frequent \n",
      "[CV]  classifier__estimator__learning_rate=0.001, classifier__estimator__n_estimators=120, imputer__imputer_num__strategy=most_frequent, total=   4.5s\n",
      "[CV] classifier__estimator__learning_rate=0.001, classifier__estimator__n_estimators=120, imputer__imputer_num__strategy=most_frequent \n",
      "[CV]  classifier__estimator__learning_rate=0.001, classifier__estimator__n_estimators=120, imputer__imputer_num__strategy=most_frequent, total=   4.6s\n",
      "[CV] classifier__estimator__learning_rate=0.001, classifier__estimator__n_estimators=140, imputer__imputer_num__strategy=median \n",
      "[CV]  classifier__estimator__learning_rate=0.001, classifier__estimator__n_estimators=140, imputer__imputer_num__strategy=median, total=   5.2s\n",
      "[CV] classifier__estimator__learning_rate=0.001, classifier__estimator__n_estimators=140, imputer__imputer_num__strategy=median \n",
      "[CV]  classifier__estimator__learning_rate=0.001, classifier__estimator__n_estimators=140, imputer__imputer_num__strategy=median, total=   5.2s\n",
      "[CV] classifier__estimator__learning_rate=0.001, classifier__estimator__n_estimators=140, imputer__imputer_num__strategy=median \n",
      "[CV]  classifier__estimator__learning_rate=0.001, classifier__estimator__n_estimators=140, imputer__imputer_num__strategy=median, total=   5.2s\n",
      "[CV] classifier__estimator__learning_rate=0.001, classifier__estimator__n_estimators=140, imputer__imputer_num__strategy=most_frequent \n",
      "[CV]  classifier__estimator__learning_rate=0.001, classifier__estimator__n_estimators=140, imputer__imputer_num__strategy=most_frequent, total=   5.2s\n",
      "[CV] classifier__estimator__learning_rate=0.001, classifier__estimator__n_estimators=140, imputer__imputer_num__strategy=most_frequent \n",
      "[CV]  classifier__estimator__learning_rate=0.001, classifier__estimator__n_estimators=140, imputer__imputer_num__strategy=most_frequent, total=   5.2s\n",
      "[CV] classifier__estimator__learning_rate=0.001, classifier__estimator__n_estimators=140, imputer__imputer_num__strategy=most_frequent \n",
      "[CV]  classifier__estimator__learning_rate=0.001, classifier__estimator__n_estimators=140, imputer__imputer_num__strategy=most_frequent, total=   5.2s\n",
      "[CV] classifier__estimator__learning_rate=0.001, classifier__estimator__n_estimators=160, imputer__imputer_num__strategy=median \n",
      "[CV]  classifier__estimator__learning_rate=0.001, classifier__estimator__n_estimators=160, imputer__imputer_num__strategy=median, total=   5.9s\n",
      "[CV] classifier__estimator__learning_rate=0.001, classifier__estimator__n_estimators=160, imputer__imputer_num__strategy=median \n",
      "[CV]  classifier__estimator__learning_rate=0.001, classifier__estimator__n_estimators=160, imputer__imputer_num__strategy=median, total=   5.9s\n",
      "[CV] classifier__estimator__learning_rate=0.001, classifier__estimator__n_estimators=160, imputer__imputer_num__strategy=median \n",
      "[CV]  classifier__estimator__learning_rate=0.001, classifier__estimator__n_estimators=160, imputer__imputer_num__strategy=median, total=   5.9s\n",
      "[CV] classifier__estimator__learning_rate=0.001, classifier__estimator__n_estimators=160, imputer__imputer_num__strategy=most_frequent \n",
      "[CV]  classifier__estimator__learning_rate=0.001, classifier__estimator__n_estimators=160, imputer__imputer_num__strategy=most_frequent, total=   5.9s\n",
      "[CV] classifier__estimator__learning_rate=0.001, classifier__estimator__n_estimators=160, imputer__imputer_num__strategy=most_frequent \n",
      "[CV]  classifier__estimator__learning_rate=0.001, classifier__estimator__n_estimators=160, imputer__imputer_num__strategy=most_frequent, total=   5.9s\n",
      "[CV] classifier__estimator__learning_rate=0.001, classifier__estimator__n_estimators=160, imputer__imputer_num__strategy=most_frequent \n",
      "[CV]  classifier__estimator__learning_rate=0.001, classifier__estimator__n_estimators=160, imputer__imputer_num__strategy=most_frequent, total=   5.9s\n",
      "[CV] classifier__estimator__learning_rate=0.01, classifier__estimator__n_estimators=100, imputer__imputer_num__strategy=median \n",
      "[CV]  classifier__estimator__learning_rate=0.01, classifier__estimator__n_estimators=100, imputer__imputer_num__strategy=median, total=   3.9s\n",
      "[CV] classifier__estimator__learning_rate=0.01, classifier__estimator__n_estimators=100, imputer__imputer_num__strategy=median \n",
      "[CV]  classifier__estimator__learning_rate=0.01, classifier__estimator__n_estimators=100, imputer__imputer_num__strategy=median, total=   3.9s\n",
      "[CV] classifier__estimator__learning_rate=0.01, classifier__estimator__n_estimators=100, imputer__imputer_num__strategy=median \n",
      "[CV]  classifier__estimator__learning_rate=0.01, classifier__estimator__n_estimators=100, imputer__imputer_num__strategy=median, total=   3.9s\n",
      "[CV] classifier__estimator__learning_rate=0.01, classifier__estimator__n_estimators=100, imputer__imputer_num__strategy=most_frequent \n",
      "[CV]  classifier__estimator__learning_rate=0.01, classifier__estimator__n_estimators=100, imputer__imputer_num__strategy=most_frequent, total=   3.9s\n",
      "[CV] classifier__estimator__learning_rate=0.01, classifier__estimator__n_estimators=100, imputer__imputer_num__strategy=most_frequent \n",
      "[CV]  classifier__estimator__learning_rate=0.01, classifier__estimator__n_estimators=100, imputer__imputer_num__strategy=most_frequent, total=   3.9s\n",
      "[CV] classifier__estimator__learning_rate=0.01, classifier__estimator__n_estimators=100, imputer__imputer_num__strategy=most_frequent \n",
      "[CV]  classifier__estimator__learning_rate=0.01, classifier__estimator__n_estimators=100, imputer__imputer_num__strategy=most_frequent, total=   3.9s\n",
      "[CV] classifier__estimator__learning_rate=0.01, classifier__estimator__n_estimators=120, imputer__imputer_num__strategy=median \n",
      "[CV]  classifier__estimator__learning_rate=0.01, classifier__estimator__n_estimators=120, imputer__imputer_num__strategy=median, total=   4.5s\n",
      "[CV] classifier__estimator__learning_rate=0.01, classifier__estimator__n_estimators=120, imputer__imputer_num__strategy=median \n"
     ]
    },
    {
     "name": "stdout",
     "output_type": "stream",
     "text": [
      "[CV]  classifier__estimator__learning_rate=0.01, classifier__estimator__n_estimators=120, imputer__imputer_num__strategy=median, total=   4.6s\n",
      "[CV] classifier__estimator__learning_rate=0.01, classifier__estimator__n_estimators=120, imputer__imputer_num__strategy=median \n",
      "[CV]  classifier__estimator__learning_rate=0.01, classifier__estimator__n_estimators=120, imputer__imputer_num__strategy=median, total=   4.6s\n",
      "[CV] classifier__estimator__learning_rate=0.01, classifier__estimator__n_estimators=120, imputer__imputer_num__strategy=most_frequent \n",
      "[CV]  classifier__estimator__learning_rate=0.01, classifier__estimator__n_estimators=120, imputer__imputer_num__strategy=most_frequent, total=   4.6s\n",
      "[CV] classifier__estimator__learning_rate=0.01, classifier__estimator__n_estimators=120, imputer__imputer_num__strategy=most_frequent \n",
      "[CV]  classifier__estimator__learning_rate=0.01, classifier__estimator__n_estimators=120, imputer__imputer_num__strategy=most_frequent, total=   4.6s\n",
      "[CV] classifier__estimator__learning_rate=0.01, classifier__estimator__n_estimators=120, imputer__imputer_num__strategy=most_frequent \n",
      "[CV]  classifier__estimator__learning_rate=0.01, classifier__estimator__n_estimators=120, imputer__imputer_num__strategy=most_frequent, total=   4.6s\n",
      "[CV] classifier__estimator__learning_rate=0.01, classifier__estimator__n_estimators=140, imputer__imputer_num__strategy=median \n",
      "[CV]  classifier__estimator__learning_rate=0.01, classifier__estimator__n_estimators=140, imputer__imputer_num__strategy=median, total=   5.2s\n",
      "[CV] classifier__estimator__learning_rate=0.01, classifier__estimator__n_estimators=140, imputer__imputer_num__strategy=median \n",
      "[CV]  classifier__estimator__learning_rate=0.01, classifier__estimator__n_estimators=140, imputer__imputer_num__strategy=median, total=   5.2s\n",
      "[CV] classifier__estimator__learning_rate=0.01, classifier__estimator__n_estimators=140, imputer__imputer_num__strategy=median \n",
      "[CV]  classifier__estimator__learning_rate=0.01, classifier__estimator__n_estimators=140, imputer__imputer_num__strategy=median, total=   5.2s\n",
      "[CV] classifier__estimator__learning_rate=0.01, classifier__estimator__n_estimators=140, imputer__imputer_num__strategy=most_frequent \n",
      "[CV]  classifier__estimator__learning_rate=0.01, classifier__estimator__n_estimators=140, imputer__imputer_num__strategy=most_frequent, total=   5.2s\n",
      "[CV] classifier__estimator__learning_rate=0.01, classifier__estimator__n_estimators=140, imputer__imputer_num__strategy=most_frequent \n",
      "[CV]  classifier__estimator__learning_rate=0.01, classifier__estimator__n_estimators=140, imputer__imputer_num__strategy=most_frequent, total=   5.2s\n",
      "[CV] classifier__estimator__learning_rate=0.01, classifier__estimator__n_estimators=140, imputer__imputer_num__strategy=most_frequent \n",
      "[CV]  classifier__estimator__learning_rate=0.01, classifier__estimator__n_estimators=140, imputer__imputer_num__strategy=most_frequent, total=   5.2s\n",
      "[CV] classifier__estimator__learning_rate=0.01, classifier__estimator__n_estimators=160, imputer__imputer_num__strategy=median \n",
      "[CV]  classifier__estimator__learning_rate=0.01, classifier__estimator__n_estimators=160, imputer__imputer_num__strategy=median, total=   5.9s\n",
      "[CV] classifier__estimator__learning_rate=0.01, classifier__estimator__n_estimators=160, imputer__imputer_num__strategy=median \n",
      "[CV]  classifier__estimator__learning_rate=0.01, classifier__estimator__n_estimators=160, imputer__imputer_num__strategy=median, total=   5.9s\n",
      "[CV] classifier__estimator__learning_rate=0.01, classifier__estimator__n_estimators=160, imputer__imputer_num__strategy=median \n",
      "[CV]  classifier__estimator__learning_rate=0.01, classifier__estimator__n_estimators=160, imputer__imputer_num__strategy=median, total=   5.9s\n",
      "[CV] classifier__estimator__learning_rate=0.01, classifier__estimator__n_estimators=160, imputer__imputer_num__strategy=most_frequent \n",
      "[CV]  classifier__estimator__learning_rate=0.01, classifier__estimator__n_estimators=160, imputer__imputer_num__strategy=most_frequent, total=   5.9s\n",
      "[CV] classifier__estimator__learning_rate=0.01, classifier__estimator__n_estimators=160, imputer__imputer_num__strategy=most_frequent \n",
      "[CV]  classifier__estimator__learning_rate=0.01, classifier__estimator__n_estimators=160, imputer__imputer_num__strategy=most_frequent, total=   6.3s\n",
      "[CV] classifier__estimator__learning_rate=0.01, classifier__estimator__n_estimators=160, imputer__imputer_num__strategy=most_frequent \n",
      "[CV]  classifier__estimator__learning_rate=0.01, classifier__estimator__n_estimators=160, imputer__imputer_num__strategy=most_frequent, total=   6.0s\n",
      "[CV] classifier__estimator__learning_rate=0.05, classifier__estimator__n_estimators=100, imputer__imputer_num__strategy=median \n",
      "[CV]  classifier__estimator__learning_rate=0.05, classifier__estimator__n_estimators=100, imputer__imputer_num__strategy=median, total=   3.9s\n",
      "[CV] classifier__estimator__learning_rate=0.05, classifier__estimator__n_estimators=100, imputer__imputer_num__strategy=median \n",
      "[CV]  classifier__estimator__learning_rate=0.05, classifier__estimator__n_estimators=100, imputer__imputer_num__strategy=median, total=   3.9s\n",
      "[CV] classifier__estimator__learning_rate=0.05, classifier__estimator__n_estimators=100, imputer__imputer_num__strategy=median \n",
      "[CV]  classifier__estimator__learning_rate=0.05, classifier__estimator__n_estimators=100, imputer__imputer_num__strategy=median, total=   4.0s\n",
      "[CV] classifier__estimator__learning_rate=0.05, classifier__estimator__n_estimators=100, imputer__imputer_num__strategy=most_frequent \n",
      "[CV]  classifier__estimator__learning_rate=0.05, classifier__estimator__n_estimators=100, imputer__imputer_num__strategy=most_frequent, total=   4.5s\n",
      "[CV] classifier__estimator__learning_rate=0.05, classifier__estimator__n_estimators=100, imputer__imputer_num__strategy=most_frequent \n",
      "[CV]  classifier__estimator__learning_rate=0.05, classifier__estimator__n_estimators=100, imputer__imputer_num__strategy=most_frequent, total=   4.1s\n",
      "[CV] classifier__estimator__learning_rate=0.05, classifier__estimator__n_estimators=100, imputer__imputer_num__strategy=most_frequent \n",
      "[CV]  classifier__estimator__learning_rate=0.05, classifier__estimator__n_estimators=100, imputer__imputer_num__strategy=most_frequent, total=   4.0s\n",
      "[CV] classifier__estimator__learning_rate=0.05, classifier__estimator__n_estimators=120, imputer__imputer_num__strategy=median \n",
      "[CV]  classifier__estimator__learning_rate=0.05, classifier__estimator__n_estimators=120, imputer__imputer_num__strategy=median, total=   4.6s\n",
      "[CV] classifier__estimator__learning_rate=0.05, classifier__estimator__n_estimators=120, imputer__imputer_num__strategy=median \n",
      "[CV]  classifier__estimator__learning_rate=0.05, classifier__estimator__n_estimators=120, imputer__imputer_num__strategy=median, total=   4.6s\n",
      "[CV] classifier__estimator__learning_rate=0.05, classifier__estimator__n_estimators=120, imputer__imputer_num__strategy=median \n",
      "[CV]  classifier__estimator__learning_rate=0.05, classifier__estimator__n_estimators=120, imputer__imputer_num__strategy=median, total=   4.6s\n",
      "[CV] classifier__estimator__learning_rate=0.05, classifier__estimator__n_estimators=120, imputer__imputer_num__strategy=most_frequent \n",
      "[CV]  classifier__estimator__learning_rate=0.05, classifier__estimator__n_estimators=120, imputer__imputer_num__strategy=most_frequent, total=   4.6s\n",
      "[CV] classifier__estimator__learning_rate=0.05, classifier__estimator__n_estimators=120, imputer__imputer_num__strategy=most_frequent \n",
      "[CV]  classifier__estimator__learning_rate=0.05, classifier__estimator__n_estimators=120, imputer__imputer_num__strategy=most_frequent, total=   4.6s\n",
      "[CV] classifier__estimator__learning_rate=0.05, classifier__estimator__n_estimators=120, imputer__imputer_num__strategy=most_frequent \n",
      "[CV]  classifier__estimator__learning_rate=0.05, classifier__estimator__n_estimators=120, imputer__imputer_num__strategy=most_frequent, total=   4.6s\n",
      "[CV] classifier__estimator__learning_rate=0.05, classifier__estimator__n_estimators=140, imputer__imputer_num__strategy=median \n",
      "[CV]  classifier__estimator__learning_rate=0.05, classifier__estimator__n_estimators=140, imputer__imputer_num__strategy=median, total=   5.2s\n",
      "[CV] classifier__estimator__learning_rate=0.05, classifier__estimator__n_estimators=140, imputer__imputer_num__strategy=median \n"
     ]
    },
    {
     "name": "stdout",
     "output_type": "stream",
     "text": [
      "[CV]  classifier__estimator__learning_rate=0.05, classifier__estimator__n_estimators=140, imputer__imputer_num__strategy=median, total=   5.2s\n",
      "[CV] classifier__estimator__learning_rate=0.05, classifier__estimator__n_estimators=140, imputer__imputer_num__strategy=median \n",
      "[CV]  classifier__estimator__learning_rate=0.05, classifier__estimator__n_estimators=140, imputer__imputer_num__strategy=median, total=   5.3s\n",
      "[CV] classifier__estimator__learning_rate=0.05, classifier__estimator__n_estimators=140, imputer__imputer_num__strategy=most_frequent \n",
      "[CV]  classifier__estimator__learning_rate=0.05, classifier__estimator__n_estimators=140, imputer__imputer_num__strategy=most_frequent, total=   5.3s\n",
      "[CV] classifier__estimator__learning_rate=0.05, classifier__estimator__n_estimators=140, imputer__imputer_num__strategy=most_frequent \n",
      "[CV]  classifier__estimator__learning_rate=0.05, classifier__estimator__n_estimators=140, imputer__imputer_num__strategy=most_frequent, total=   5.2s\n",
      "[CV] classifier__estimator__learning_rate=0.05, classifier__estimator__n_estimators=140, imputer__imputer_num__strategy=most_frequent \n",
      "[CV]  classifier__estimator__learning_rate=0.05, classifier__estimator__n_estimators=140, imputer__imputer_num__strategy=most_frequent, total=   5.2s\n",
      "[CV] classifier__estimator__learning_rate=0.05, classifier__estimator__n_estimators=160, imputer__imputer_num__strategy=median \n",
      "[CV]  classifier__estimator__learning_rate=0.05, classifier__estimator__n_estimators=160, imputer__imputer_num__strategy=median, total=   5.9s\n",
      "[CV] classifier__estimator__learning_rate=0.05, classifier__estimator__n_estimators=160, imputer__imputer_num__strategy=median \n",
      "[CV]  classifier__estimator__learning_rate=0.05, classifier__estimator__n_estimators=160, imputer__imputer_num__strategy=median, total=   5.9s\n",
      "[CV] classifier__estimator__learning_rate=0.05, classifier__estimator__n_estimators=160, imputer__imputer_num__strategy=median \n",
      "[CV]  classifier__estimator__learning_rate=0.05, classifier__estimator__n_estimators=160, imputer__imputer_num__strategy=median, total=   5.9s\n",
      "[CV] classifier__estimator__learning_rate=0.05, classifier__estimator__n_estimators=160, imputer__imputer_num__strategy=most_frequent \n",
      "[CV]  classifier__estimator__learning_rate=0.05, classifier__estimator__n_estimators=160, imputer__imputer_num__strategy=most_frequent, total=   5.9s\n",
      "[CV] classifier__estimator__learning_rate=0.05, classifier__estimator__n_estimators=160, imputer__imputer_num__strategy=most_frequent \n",
      "[CV]  classifier__estimator__learning_rate=0.05, classifier__estimator__n_estimators=160, imputer__imputer_num__strategy=most_frequent, total=   5.9s\n",
      "[CV] classifier__estimator__learning_rate=0.05, classifier__estimator__n_estimators=160, imputer__imputer_num__strategy=most_frequent \n",
      "[CV]  classifier__estimator__learning_rate=0.05, classifier__estimator__n_estimators=160, imputer__imputer_num__strategy=most_frequent, total=   5.9s\n",
      "[CV] classifier__estimator__learning_rate=0.1, classifier__estimator__n_estimators=100, imputer__imputer_num__strategy=median \n",
      "[CV]  classifier__estimator__learning_rate=0.1, classifier__estimator__n_estimators=100, imputer__imputer_num__strategy=median, total=   3.9s\n",
      "[CV] classifier__estimator__learning_rate=0.1, classifier__estimator__n_estimators=100, imputer__imputer_num__strategy=median \n",
      "[CV]  classifier__estimator__learning_rate=0.1, classifier__estimator__n_estimators=100, imputer__imputer_num__strategy=median, total=   3.9s\n",
      "[CV] classifier__estimator__learning_rate=0.1, classifier__estimator__n_estimators=100, imputer__imputer_num__strategy=median \n",
      "[CV]  classifier__estimator__learning_rate=0.1, classifier__estimator__n_estimators=100, imputer__imputer_num__strategy=median, total=   3.9s\n",
      "[CV] classifier__estimator__learning_rate=0.1, classifier__estimator__n_estimators=100, imputer__imputer_num__strategy=most_frequent \n",
      "[CV]  classifier__estimator__learning_rate=0.1, classifier__estimator__n_estimators=100, imputer__imputer_num__strategy=most_frequent, total=   3.9s\n",
      "[CV] classifier__estimator__learning_rate=0.1, classifier__estimator__n_estimators=100, imputer__imputer_num__strategy=most_frequent \n",
      "[CV]  classifier__estimator__learning_rate=0.1, classifier__estimator__n_estimators=100, imputer__imputer_num__strategy=most_frequent, total=   3.9s\n",
      "[CV] classifier__estimator__learning_rate=0.1, classifier__estimator__n_estimators=100, imputer__imputer_num__strategy=most_frequent \n",
      "[CV]  classifier__estimator__learning_rate=0.1, classifier__estimator__n_estimators=100, imputer__imputer_num__strategy=most_frequent, total=   3.9s\n",
      "[CV] classifier__estimator__learning_rate=0.1, classifier__estimator__n_estimators=120, imputer__imputer_num__strategy=median \n",
      "[CV]  classifier__estimator__learning_rate=0.1, classifier__estimator__n_estimators=120, imputer__imputer_num__strategy=median, total=   4.5s\n",
      "[CV] classifier__estimator__learning_rate=0.1, classifier__estimator__n_estimators=120, imputer__imputer_num__strategy=median \n",
      "[CV]  classifier__estimator__learning_rate=0.1, classifier__estimator__n_estimators=120, imputer__imputer_num__strategy=median, total=   4.5s\n",
      "[CV] classifier__estimator__learning_rate=0.1, classifier__estimator__n_estimators=120, imputer__imputer_num__strategy=median \n",
      "[CV]  classifier__estimator__learning_rate=0.1, classifier__estimator__n_estimators=120, imputer__imputer_num__strategy=median, total=   4.6s\n",
      "[CV] classifier__estimator__learning_rate=0.1, classifier__estimator__n_estimators=120, imputer__imputer_num__strategy=most_frequent \n",
      "[CV]  classifier__estimator__learning_rate=0.1, classifier__estimator__n_estimators=120, imputer__imputer_num__strategy=most_frequent, total=   4.5s\n",
      "[CV] classifier__estimator__learning_rate=0.1, classifier__estimator__n_estimators=120, imputer__imputer_num__strategy=most_frequent \n",
      "[CV]  classifier__estimator__learning_rate=0.1, classifier__estimator__n_estimators=120, imputer__imputer_num__strategy=most_frequent, total=   4.5s\n",
      "[CV] classifier__estimator__learning_rate=0.1, classifier__estimator__n_estimators=120, imputer__imputer_num__strategy=most_frequent \n",
      "[CV]  classifier__estimator__learning_rate=0.1, classifier__estimator__n_estimators=120, imputer__imputer_num__strategy=most_frequent, total=   4.6s\n",
      "[CV] classifier__estimator__learning_rate=0.1, classifier__estimator__n_estimators=140, imputer__imputer_num__strategy=median \n",
      "[CV]  classifier__estimator__learning_rate=0.1, classifier__estimator__n_estimators=140, imputer__imputer_num__strategy=median, total=   5.2s\n",
      "[CV] classifier__estimator__learning_rate=0.1, classifier__estimator__n_estimators=140, imputer__imputer_num__strategy=median \n",
      "[CV]  classifier__estimator__learning_rate=0.1, classifier__estimator__n_estimators=140, imputer__imputer_num__strategy=median, total=   5.2s\n",
      "[CV] classifier__estimator__learning_rate=0.1, classifier__estimator__n_estimators=140, imputer__imputer_num__strategy=median \n",
      "[CV]  classifier__estimator__learning_rate=0.1, classifier__estimator__n_estimators=140, imputer__imputer_num__strategy=median, total=   5.2s\n",
      "[CV] classifier__estimator__learning_rate=0.1, classifier__estimator__n_estimators=140, imputer__imputer_num__strategy=most_frequent \n",
      "[CV]  classifier__estimator__learning_rate=0.1, classifier__estimator__n_estimators=140, imputer__imputer_num__strategy=most_frequent, total=   5.2s\n",
      "[CV] classifier__estimator__learning_rate=0.1, classifier__estimator__n_estimators=140, imputer__imputer_num__strategy=most_frequent \n",
      "[CV]  classifier__estimator__learning_rate=0.1, classifier__estimator__n_estimators=140, imputer__imputer_num__strategy=most_frequent, total=   5.2s\n",
      "[CV] classifier__estimator__learning_rate=0.1, classifier__estimator__n_estimators=140, imputer__imputer_num__strategy=most_frequent \n",
      "[CV]  classifier__estimator__learning_rate=0.1, classifier__estimator__n_estimators=140, imputer__imputer_num__strategy=most_frequent, total=   5.3s\n",
      "[CV] classifier__estimator__learning_rate=0.1, classifier__estimator__n_estimators=160, imputer__imputer_num__strategy=median \n",
      "[CV]  classifier__estimator__learning_rate=0.1, classifier__estimator__n_estimators=160, imputer__imputer_num__strategy=median, total=   5.9s\n",
      "[CV] classifier__estimator__learning_rate=0.1, classifier__estimator__n_estimators=160, imputer__imputer_num__strategy=median \n"
     ]
    },
    {
     "name": "stdout",
     "output_type": "stream",
     "text": [
      "[CV]  classifier__estimator__learning_rate=0.1, classifier__estimator__n_estimators=160, imputer__imputer_num__strategy=median, total=   5.9s\n",
      "[CV] classifier__estimator__learning_rate=0.1, classifier__estimator__n_estimators=160, imputer__imputer_num__strategy=median \n",
      "[CV]  classifier__estimator__learning_rate=0.1, classifier__estimator__n_estimators=160, imputer__imputer_num__strategy=median, total=   5.9s\n",
      "[CV] classifier__estimator__learning_rate=0.1, classifier__estimator__n_estimators=160, imputer__imputer_num__strategy=most_frequent \n",
      "[CV]  classifier__estimator__learning_rate=0.1, classifier__estimator__n_estimators=160, imputer__imputer_num__strategy=most_frequent, total=   5.9s\n",
      "[CV] classifier__estimator__learning_rate=0.1, classifier__estimator__n_estimators=160, imputer__imputer_num__strategy=most_frequent \n",
      "[CV]  classifier__estimator__learning_rate=0.1, classifier__estimator__n_estimators=160, imputer__imputer_num__strategy=most_frequent, total=   5.9s\n",
      "[CV] classifier__estimator__learning_rate=0.1, classifier__estimator__n_estimators=160, imputer__imputer_num__strategy=most_frequent \n",
      "[CV]  classifier__estimator__learning_rate=0.1, classifier__estimator__n_estimators=160, imputer__imputer_num__strategy=most_frequent, total=   5.9s\n"
     ]
    },
    {
     "name": "stderr",
     "output_type": "stream",
     "text": [
      "[Parallel(n_jobs=1)]: Done  96 out of  96 | elapsed:  7.9min finished\n"
     ]
    },
    {
     "name": "stdout",
     "output_type": "stream",
     "text": [
      "fitting done in 478.30499720573425 sec!\n",
      "the best parameter set is : {'classifier__estimator__learning_rate': 0.1, 'classifier__estimator__n_estimators': 120, 'imputer__imputer_num__strategy': 'most_frequent'}\n",
      "evaluating the model\n",
      "the train set score is 0.8585896553117143\n",
      "the test set score is 0.8539479021327984\n",
      "\n",
      "fitting the model XGBClassifier(base_score=None, booster=None, colsample_bylevel=None,\n",
      "              colsample_bynode=None, colsample_bytree=None, gamma=None,\n",
      "              gpu_id=None, importance_type='gain', interaction_constraints=None,\n",
      "              learning_rate=None, max_delta_step=None, max_depth=None,\n",
      "              min_child_weight=None, missing=nan, monotone_constraints=None,\n",
      "              n_estimators=100, n_jobs=None, num_parallel_tree=None,\n",
      "              objective='binary:logistic', random_state=None, reg_alpha=None,\n",
      "              reg_lambda=None, scale_pos_weight=None, subsample=None,\n",
      "              tree_method=None, validate_parameters=None, verbosity=None)\n",
      "Fitting 3 folds for each of 8 candidates, totalling 24 fits\n",
      "[CV] classifier__estimator__learning_rate=0.001, imputer__imputer_num__strategy=median \n"
     ]
    },
    {
     "name": "stderr",
     "output_type": "stream",
     "text": [
      "[Parallel(n_jobs=1)]: Using backend SequentialBackend with 1 concurrent workers.\n"
     ]
    },
    {
     "name": "stdout",
     "output_type": "stream",
     "text": [
      "[CV]  classifier__estimator__learning_rate=0.001, imputer__imputer_num__strategy=median, total=   2.0s\n",
      "[CV] classifier__estimator__learning_rate=0.001, imputer__imputer_num__strategy=median \n"
     ]
    },
    {
     "name": "stderr",
     "output_type": "stream",
     "text": [
      "[Parallel(n_jobs=1)]: Done   1 out of   1 | elapsed:    2.0s remaining:    0.0s\n"
     ]
    },
    {
     "name": "stdout",
     "output_type": "stream",
     "text": [
      "[CV]  classifier__estimator__learning_rate=0.001, imputer__imputer_num__strategy=median, total=   1.9s\n",
      "[CV] classifier__estimator__learning_rate=0.001, imputer__imputer_num__strategy=median \n",
      "[CV]  classifier__estimator__learning_rate=0.001, imputer__imputer_num__strategy=median, total=   1.9s\n",
      "[CV] classifier__estimator__learning_rate=0.001, imputer__imputer_num__strategy=most_frequent \n",
      "[CV]  classifier__estimator__learning_rate=0.001, imputer__imputer_num__strategy=most_frequent, total=   1.9s\n",
      "[CV] classifier__estimator__learning_rate=0.001, imputer__imputer_num__strategy=most_frequent \n",
      "[CV]  classifier__estimator__learning_rate=0.001, imputer__imputer_num__strategy=most_frequent, total=   2.1s\n",
      "[CV] classifier__estimator__learning_rate=0.001, imputer__imputer_num__strategy=most_frequent \n",
      "[CV]  classifier__estimator__learning_rate=0.001, imputer__imputer_num__strategy=most_frequent, total=   2.3s\n",
      "[CV] classifier__estimator__learning_rate=0.01, imputer__imputer_num__strategy=median \n",
      "[CV]  classifier__estimator__learning_rate=0.01, imputer__imputer_num__strategy=median, total=   2.3s\n",
      "[CV] classifier__estimator__learning_rate=0.01, imputer__imputer_num__strategy=median \n",
      "[CV]  classifier__estimator__learning_rate=0.01, imputer__imputer_num__strategy=median, total=   2.3s\n",
      "[CV] classifier__estimator__learning_rate=0.01, imputer__imputer_num__strategy=median \n",
      "[CV]  classifier__estimator__learning_rate=0.01, imputer__imputer_num__strategy=median, total=   2.3s\n",
      "[CV] classifier__estimator__learning_rate=0.01, imputer__imputer_num__strategy=most_frequent \n",
      "[CV]  classifier__estimator__learning_rate=0.01, imputer__imputer_num__strategy=most_frequent, total=   2.3s\n",
      "[CV] classifier__estimator__learning_rate=0.01, imputer__imputer_num__strategy=most_frequent \n",
      "[CV]  classifier__estimator__learning_rate=0.01, imputer__imputer_num__strategy=most_frequent, total=   2.3s\n",
      "[CV] classifier__estimator__learning_rate=0.01, imputer__imputer_num__strategy=most_frequent \n",
      "[CV]  classifier__estimator__learning_rate=0.01, imputer__imputer_num__strategy=most_frequent, total=   2.3s\n",
      "[CV] classifier__estimator__learning_rate=0.05, imputer__imputer_num__strategy=median \n",
      "[CV]  classifier__estimator__learning_rate=0.05, imputer__imputer_num__strategy=median, total=   2.3s\n",
      "[CV] classifier__estimator__learning_rate=0.05, imputer__imputer_num__strategy=median \n",
      "[CV]  classifier__estimator__learning_rate=0.05, imputer__imputer_num__strategy=median, total=   2.3s\n",
      "[CV] classifier__estimator__learning_rate=0.05, imputer__imputer_num__strategy=median \n",
      "[CV]  classifier__estimator__learning_rate=0.05, imputer__imputer_num__strategy=median, total=   2.3s\n",
      "[CV] classifier__estimator__learning_rate=0.05, imputer__imputer_num__strategy=most_frequent \n",
      "[CV]  classifier__estimator__learning_rate=0.05, imputer__imputer_num__strategy=most_frequent, total=   2.3s\n",
      "[CV] classifier__estimator__learning_rate=0.05, imputer__imputer_num__strategy=most_frequent \n",
      "[CV]  classifier__estimator__learning_rate=0.05, imputer__imputer_num__strategy=most_frequent, total=   2.3s\n",
      "[CV] classifier__estimator__learning_rate=0.05, imputer__imputer_num__strategy=most_frequent \n",
      "[CV]  classifier__estimator__learning_rate=0.05, imputer__imputer_num__strategy=most_frequent, total=   2.3s\n",
      "[CV] classifier__estimator__learning_rate=0.1, imputer__imputer_num__strategy=median \n",
      "[CV]  classifier__estimator__learning_rate=0.1, imputer__imputer_num__strategy=median, total=   2.3s\n",
      "[CV] classifier__estimator__learning_rate=0.1, imputer__imputer_num__strategy=median \n",
      "[CV]  classifier__estimator__learning_rate=0.1, imputer__imputer_num__strategy=median, total=   2.3s\n",
      "[CV] classifier__estimator__learning_rate=0.1, imputer__imputer_num__strategy=median \n",
      "[CV]  classifier__estimator__learning_rate=0.1, imputer__imputer_num__strategy=median, total=   2.3s\n",
      "[CV] classifier__estimator__learning_rate=0.1, imputer__imputer_num__strategy=most_frequent \n",
      "[CV]  classifier__estimator__learning_rate=0.1, imputer__imputer_num__strategy=most_frequent, total=   2.3s\n",
      "[CV] classifier__estimator__learning_rate=0.1, imputer__imputer_num__strategy=most_frequent \n",
      "[CV]  classifier__estimator__learning_rate=0.1, imputer__imputer_num__strategy=most_frequent, total=   2.3s\n",
      "[CV] classifier__estimator__learning_rate=0.1, imputer__imputer_num__strategy=most_frequent \n",
      "[CV]  classifier__estimator__learning_rate=0.1, imputer__imputer_num__strategy=most_frequent, total=   2.3s\n"
     ]
    },
    {
     "name": "stderr",
     "output_type": "stream",
     "text": [
      "[Parallel(n_jobs=1)]: Done  24 out of  24 | elapsed:   53.7s finished\n"
     ]
    },
    {
     "name": "stdout",
     "output_type": "stream",
     "text": [
      "fitting done in 57.28032612800598 sec!\n",
      "the best parameter set is : {'classifier__estimator__learning_rate': 0.05, 'imputer__imputer_num__strategy': 'most_frequent'}\n",
      "evaluating the model\n",
      "the train set score is 0.8816279317625122\n",
      "the test set score is 0.854943127690487\n",
      "\n"
     ]
    }
   ],
   "source": [
    "imputer_cat = SimpleImputer(strategy='most_frequent', copy=False)\n",
    "imputer_num = SimpleImputer(copy=False)\n",
    "\n",
    "for clf, param_grid in zip(clf_algos, param_grid_list):\n",
    "    \n",
    "    initial_time = time.time()\n",
    "    pipeline = create_pipeline(imputer_cat=imputer_cat, imputer_num=imputer_num, clf=clf, \n",
    "                               cat_cols=cat_cols, num_cols=num_cols)\n",
    "    print(\"fitting the model {}\".format(clf))\n",
    "    model = build_model(pipeline=pipeline, param_grid=param_grid, X_train=X_train, y_train=y_train)\n",
    "    elapsed_time = time.time() - initial_time\n",
    "    print('fitting done in {} sec!'.format(elapsed_time))\n",
    "    print(\"the best parameter set is : {}\".format(model.best_params_))\n",
    "  \n",
    "    print('evaluating the model')\n",
    "    model_train_score = model_eval(model, X_train, y_train)\n",
    "    model_test_score = model_eval(model, X_test, y_test)\n",
    "    print(\"the train set score is {}\".format(model_train_score))\n",
    "    print(\"the test set score is {}\".format(model_test_score))\n",
    "    print()"
   ]
  },
  {
   "cell_type": "code",
   "execution_count": 17,
   "metadata": {},
   "outputs": [
    {
     "data": {
      "text/plain": [
       "4"
      ]
     },
     "execution_count": 17,
     "metadata": {},
     "output_type": "execute_result"
    }
   ],
   "source": [
    "batch_size = 5000\n",
    "n_batch = int(len(X_train)/batch_size)\n",
    "n_batch"
   ]
  },
  {
   "cell_type": "code",
   "execution_count": 18,
   "metadata": {},
   "outputs": [],
   "source": [
    "def create_pipeline_batch(imputer_cat, imputer_num, cat_cols, num_cols):\n",
    "    \n",
    "    \"\"\"\n",
    "    \n",
    "    \"\"\"\n",
    "    pipeline = Pipeline([\n",
    "                       ('imputer', Imputer(imputer_cat, imputer_num, cat_cols, num_cols)),\n",
    "                       ('encoder', CreateDummies()),\n",
    "                       ('normalizer', MinMaxScaler(copy=False))\n",
    "                       ])\n",
    "    return pipeline"
   ]
  },
  {
   "cell_type": "code",
   "execution_count": 19,
   "metadata": {},
   "outputs": [],
   "source": [
    "def batch_preprocessing(imputer_cat, imputer_num, cat_cols, num_cols, X_train, X_test, batch_size):\n",
    "    \n",
    "    \"\"\"\n",
    "    \n",
    "    \n",
    "    \"\"\"\n",
    "    X_train_final = []\n",
    "    \n",
    "    for start, end in zip(range(0, len(X_train), batch_size), range(batch_size, len(X_train), batch_size)):\n",
    "        X_train_batch = X_train.iloc[start:end, :]\n",
    "        pipeline = create_pipeline_batch(imputer_cat=imputer_cat, imputer_num=imputer_num, \n",
    "                                 cat_cols=cat_cols, num_cols=num_cols)   \n",
    "        X_train_batch_final = pipeline.fit_transform(X_train_batch)\n",
    "        X_train_final.append(X_train_batch_final)\n",
    "        \n",
    "    X_train_final = pd.DataFrame(np.row_stack(X_train_final)) \n",
    "        \n",
    "    X_test_final = pipeline.transform(X_test)\n",
    "    X_test_final = pd.DataFrame(np.row_stack(X_test_final)) \n",
    "        \n",
    "    return X_train_final, X_test_final"
   ]
  },
  {
   "cell_type": "code",
   "execution_count": 20,
   "metadata": {},
   "outputs": [],
   "source": [
    "def model_compile(clf_algo, param_grid, X_train, y_train, X_test, y_test):\n",
    "    \n",
    "    \"\"\"\n",
    "    \n",
    "    \"\"\"\n",
    "    \n",
    "    clf = OneVsRestClassifier(clf_algo)\n",
    "    initial_time = time.time()\n",
    "    print(\"fitting the model {}\".format(clf))\n",
    "    model = build_model(pipeline=clf, param_grid=param_grid, X_train=X_train, \n",
    "                        y_train=y_train.iloc[:len(X_train), :])\n",
    "    elapsed_time = time.time() - initial_time\n",
    "    print('fitting done in {} sec!'.format(elapsed_time))\n",
    "    print(\"the best parameter set is : {}\".format(model.best_params_))\n",
    "    \n",
    "    print('evaluating the model')\n",
    "    model_train_score = model_eval(model, X_train, y_train.iloc[:len(X_train), :])\n",
    "    model_test_score = model_eval(model, X_test, y_test.iloc[:len(X_test), :])\n",
    "    print(\"the train set score is {}\".format(model_train_score))\n",
    "    print(\"the test set score is {}\".format(model_test_score))\n",
    "    \n",
    "    return model_train_score, model_test_score"
   ]
  },
  {
   "cell_type": "code",
   "execution_count": 21,
   "metadata": {},
   "outputs": [],
   "source": [
    "def result(imputer_cat, impute_num, cat_cols, num_cols, X_train, X_test, batch_size, clf_algo,\n",
    "           param_grid, y_train, y_test):\n",
    "    \n",
    "    \"\"\"\n",
    "    \n",
    "    \"\"\"\n",
    "    \n",
    "    X_train_final, X_test_final = batch_preprocessing(imputer_cat=imputer_cat, imputer_num=imputer_num, \n",
    "                                                  cat_cols=cat_cols, num_cols=num_cols, X_train=X_train, \n",
    "                                                  X_test=X_test, batch_size=batch_size)\n",
    "    \n",
    "    train_score, test_score = model_compile(clf_algo=clf_algo, param_grid=param_grid, X_train=X_train_final,\n",
    "                                            y_train=y_train,  X_test=X_test_final, y_test=y_test)\n",
    "    \n",
    "    return train_score, test_score"
   ]
  },
  {
   "cell_type": "code",
   "execution_count": 25,
   "metadata": {},
   "outputs": [
    {
     "name": "stdout",
     "output_type": "stream",
     "text": [
      "running the model : LogisticRegression(C=1.0, class_weight='balanced', dual=False,\n",
      "                   fit_intercept=True, intercept_scaling=1, l1_ratio=None,\n",
      "                   max_iter=100, multi_class='auto', n_jobs=None, penalty='l2',\n",
      "                   random_state=None, solver='lbfgs', tol=0.0001, verbose=0,\n",
      "                   warm_start=False)\n",
      "running for the parameter set : {'estimator__C': [0.05, 0.1, 0.5]}\n",
      "fitting the model OneVsRestClassifier(estimator=LogisticRegression(C=1.0, class_weight='balanced',\n",
      "                                                 dual=False, fit_intercept=True,\n",
      "                                                 intercept_scaling=1,\n",
      "                                                 l1_ratio=None, max_iter=100,\n",
      "                                                 multi_class='auto',\n",
      "                                                 n_jobs=None, penalty='l2',\n",
      "                                                 random_state=None,\n",
      "                                                 solver='lbfgs', tol=0.0001,\n",
      "                                                 verbose=0, warm_start=False),\n",
      "                    n_jobs=None)\n",
      "Fitting 3 folds for each of 3 candidates, totalling 9 fits\n"
     ]
    },
    {
     "name": "stderr",
     "output_type": "stream",
     "text": [
      "[Parallel(n_jobs=1)]: Using backend SequentialBackend with 1 concurrent workers.\n",
      "[Parallel(n_jobs=1)]: Done   9 out of   9 | elapsed:    2.2s finished\n"
     ]
    },
    {
     "name": "stdout",
     "output_type": "stream",
     "text": [
      "fitting done in 2.5081493854522705 sec!\n",
      "the best parameter set is : {'estimator__C': 0.1}\n",
      "evaluating the model\n",
      "the train set score is 0.8453941022449042\n",
      "the test set score is 0.8391075549269307\n",
      "running the model : KNeighborsClassifier(algorithm='auto', leaf_size=30, metric='minkowski',\n",
      "                     metric_params=None, n_jobs=None, n_neighbors=5, p=2,\n",
      "                     weights='uniform')\n",
      "running for the parameter set : {'estimator__n_neighbors': [10, 30, 50, 70]}\n",
      "fitting the model OneVsRestClassifier(estimator=KNeighborsClassifier(algorithm='auto',\n",
      "                                                   leaf_size=30,\n",
      "                                                   metric='minkowski',\n",
      "                                                   metric_params=None,\n",
      "                                                   n_jobs=None, n_neighbors=5,\n",
      "                                                   p=2, weights='uniform'),\n",
      "                    n_jobs=None)\n",
      "Fitting 3 folds for each of 4 candidates, totalling 12 fits\n"
     ]
    },
    {
     "name": "stderr",
     "output_type": "stream",
     "text": [
      "[Parallel(n_jobs=1)]: Using backend SequentialBackend with 1 concurrent workers.\n",
      "[Parallel(n_jobs=1)]: Done  12 out of  12 | elapsed:  2.7min finished\n"
     ]
    },
    {
     "name": "stdout",
     "output_type": "stream",
     "text": [
      "fitting done in 161.81171417236328 sec!\n",
      "the best parameter set is : {'estimator__n_neighbors': 50}\n",
      "evaluating the model\n",
      "the train set score is 0.8220945835722409\n",
      "the test set score is 0.7938934139785396\n",
      "running the model : RandomForestClassifier(bootstrap=True, ccp_alpha=0.0, class_weight='balanced',\n",
      "                       criterion='gini', max_depth=None, max_features='auto',\n",
      "                       max_leaf_nodes=None, max_samples=None,\n",
      "                       min_impurity_decrease=0.0, min_impurity_split=None,\n",
      "                       min_samples_leaf=1, min_samples_split=2,\n",
      "                       min_weight_fraction_leaf=0.0, n_estimators=100,\n",
      "                       n_jobs=None, oob_score=False, random_state=None,\n",
      "                       verbose=0, warm_start=False)\n",
      "running for the parameter set : {'estimator__n_estimators': [50, 80, 110, 150], 'estimator__criterion': ['gini', 'entropy']}\n",
      "fitting the model OneVsRestClassifier(estimator=RandomForestClassifier(bootstrap=True,\n",
      "                                                     ccp_alpha=0.0,\n",
      "                                                     class_weight='balanced',\n",
      "                                                     criterion='gini',\n",
      "                                                     max_depth=None,\n",
      "                                                     max_features='auto',\n",
      "                                                     max_leaf_nodes=None,\n",
      "                                                     max_samples=None,\n",
      "                                                     min_impurity_decrease=0.0,\n",
      "                                                     min_impurity_split=None,\n",
      "                                                     min_samples_leaf=1,\n",
      "                                                     min_samples_split=2,\n",
      "                                                     min_weight_fraction_leaf=0.0,\n",
      "                                                     n_estimators=100,\n",
      "                                                     n_jobs=None,\n",
      "                                                     oob_score=False,\n",
      "                                                     random_state=None,\n",
      "                                                     verbose=0,\n",
      "                                                     warm_start=False),\n",
      "                    n_jobs=None)\n",
      "Fitting 3 folds for each of 8 candidates, totalling 24 fits\n"
     ]
    },
    {
     "name": "stderr",
     "output_type": "stream",
     "text": [
      "[Parallel(n_jobs=1)]: Using backend SequentialBackend with 1 concurrent workers.\n",
      "[Parallel(n_jobs=1)]: Done  24 out of  24 | elapsed:  1.1min finished\n"
     ]
    },
    {
     "name": "stdout",
     "output_type": "stream",
     "text": [
      "fitting done in 70.53002738952637 sec!\n",
      "the best parameter set is : {'estimator__criterion': 'entropy', 'estimator__n_estimators': 110}\n",
      "evaluating the model\n",
      "the train set score is 1.0\n",
      "the test set score is 0.8435735146347181\n",
      "running the model : AdaBoostClassifier(algorithm='SAMME.R', base_estimator=None, learning_rate=1.0,\n",
      "                   n_estimators=50, random_state=None)\n",
      "running for the parameter set : {'estimator__n_estimators': [50, 80, 110, 150], 'estimator__learning_rate': [0.001, 0.01, 0.05, 0.1]}\n",
      "fitting the model OneVsRestClassifier(estimator=AdaBoostClassifier(algorithm='SAMME.R',\n",
      "                                                 base_estimator=None,\n",
      "                                                 learning_rate=1.0,\n",
      "                                                 n_estimators=50,\n",
      "                                                 random_state=None),\n",
      "                    n_jobs=None)\n",
      "Fitting 3 folds for each of 16 candidates, totalling 48 fits\n"
     ]
    },
    {
     "name": "stderr",
     "output_type": "stream",
     "text": [
      "[Parallel(n_jobs=1)]: Using backend SequentialBackend with 1 concurrent workers.\n",
      "[Parallel(n_jobs=1)]: Done  48 out of  48 | elapsed:  1.7min finished\n"
     ]
    },
    {
     "name": "stdout",
     "output_type": "stream",
     "text": [
      "fitting done in 105.16852164268494 sec!\n",
      "the best parameter set is : {'estimator__learning_rate': 0.1, 'estimator__n_estimators': 150}\n",
      "evaluating the model\n",
      "the train set score is 0.8463807501383116\n",
      "the test set score is 0.842860078689025\n",
      "running the model : GradientBoostingClassifier(ccp_alpha=0.0, criterion='friedman_mse', init=None,\n",
      "                           learning_rate=0.1, loss='deviance', max_depth=3,\n",
      "                           max_features=None, max_leaf_nodes=None,\n",
      "                           min_impurity_decrease=0.0, min_impurity_split=None,\n",
      "                           min_samples_leaf=1, min_samples_split=2,\n",
      "                           min_weight_fraction_leaf=0.0, n_estimators=100,\n",
      "                           n_iter_no_change=None, presort='deprecated',\n",
      "                           random_state=None, subsample=1.0, tol=0.0001,\n",
      "                           validation_fraction=0.1, verbose=0,\n",
      "                           warm_start=False)\n",
      "running for the parameter set : {'estimator__n_estimators': [100, 120, 140, 160], 'estimator__learning_rate': [0.001, 0.01, 0.05, 0.1]}\n",
      "fitting the model OneVsRestClassifier(estimator=GradientBoostingClassifier(ccp_alpha=0.0,\n",
      "                                                         criterion='friedman_mse',\n",
      "                                                         init=None,\n",
      "                                                         learning_rate=0.1,\n",
      "                                                         loss='deviance',\n",
      "                                                         max_depth=3,\n",
      "                                                         max_features=None,\n",
      "                                                         max_leaf_nodes=None,\n",
      "                                                         min_impurity_decrease=0.0,\n",
      "                                                         min_impurity_split=None,\n",
      "                                                         min_samples_leaf=1,\n",
      "                                                         min_samples_split=2,\n",
      "                                                         min_weight_fraction_leaf=0.0,\n",
      "                                                         n_estimators=100,\n",
      "                                                         n_iter_no_change=None,\n",
      "                                                         presort='deprecated',\n",
      "                                                         random_state=None,\n",
      "                                                         subsample=1.0,\n",
      "                                                         tol=0.0001,\n",
      "                                                         validation_fraction=0.1,\n",
      "                                                         verbose=0,\n",
      "                                                         warm_start=False),\n",
      "                    n_jobs=None)\n",
      "Fitting 3 folds for each of 16 candidates, totalling 48 fits\n"
     ]
    },
    {
     "name": "stderr",
     "output_type": "stream",
     "text": [
      "[Parallel(n_jobs=1)]: Using backend SequentialBackend with 1 concurrent workers.\n",
      "[Parallel(n_jobs=1)]: Done  48 out of  48 | elapsed:  3.4min finished\n"
     ]
    },
    {
     "name": "stdout",
     "output_type": "stream",
     "text": [
      "fitting done in 212.2419023513794 sec!\n",
      "the best parameter set is : {'estimator__learning_rate': 0.1, 'estimator__n_estimators': 160}\n",
      "evaluating the model\n",
      "the train set score is 0.8686763180484118\n",
      "the test set score is 0.8524283110567559\n",
      "running the model : XGBClassifier(base_score=None, booster=None, colsample_bylevel=None,\n",
      "              colsample_bynode=None, colsample_bytree=None, gamma=None,\n",
      "              gpu_id=None, importance_type='gain', interaction_constraints=None,\n",
      "              learning_rate=None, max_delta_step=None, max_depth=None,\n",
      "              min_child_weight=None, missing=nan, monotone_constraints=None,\n",
      "              n_estimators=100, n_jobs=None, num_parallel_tree=None,\n",
      "              objective='binary:logistic', random_state=None, reg_alpha=None,\n",
      "              reg_lambda=None, scale_pos_weight=None, subsample=None,\n",
      "              tree_method=None, validate_parameters=None, verbosity=None)\n",
      "running for the parameter set : {'estimator__learning_rate': [0.001, 0.01, 0.05, 0.1]}\n",
      "fitting the model OneVsRestClassifier(estimator=XGBClassifier(base_score=None, booster=None,\n",
      "                                            colsample_bylevel=None,\n",
      "                                            colsample_bynode=None,\n",
      "                                            colsample_bytree=None, gamma=None,\n",
      "                                            gpu_id=None, importance_type='gain',\n",
      "                                            interaction_constraints=None,\n",
      "                                            learning_rate=None,\n",
      "                                            max_delta_step=None, max_depth=None,\n",
      "                                            min_child_weight=None, missing=nan,\n",
      "                                            monotone_constraints=None,\n",
      "                                            n_estimators=100, n_jobs=None,\n",
      "                                            num_parallel_tree=None,\n",
      "                                            objective='binary:logistic',\n",
      "                                            random_state=None, reg_alpha=None,\n",
      "                                            reg_lambda=None,\n",
      "                                            scale_pos_weight=None,\n",
      "                                            subsample=None, tree_method=None,\n",
      "                                            validate_parameters=None,\n",
      "                                            verbosity=None),\n",
      "                    n_jobs=None)\n",
      "Fitting 3 folds for each of 4 candidates, totalling 12 fits\n"
     ]
    },
    {
     "name": "stderr",
     "output_type": "stream",
     "text": [
      "[Parallel(n_jobs=1)]: Using backend SequentialBackend with 1 concurrent workers.\n",
      "[Parallel(n_jobs=1)]: Done  12 out of  12 | elapsed:   20.4s finished\n"
     ]
    },
    {
     "name": "stdout",
     "output_type": "stream",
     "text": [
      "fitting done in 22.853673458099365 sec!\n",
      "the best parameter set is : {'estimator__learning_rate': 0.05}\n",
      "evaluating the model\n",
      "the train set score is 0.8910657375593215\n",
      "the test set score is 0.8521288325724093\n",
      "\n",
      "running the model : LogisticRegression(C=1.0, class_weight='balanced', dual=False,\n",
      "                   fit_intercept=True, intercept_scaling=1, l1_ratio=None,\n",
      "                   max_iter=100, multi_class='auto', n_jobs=None, penalty='l2',\n",
      "                   random_state=None, solver='lbfgs', tol=0.0001, verbose=0,\n",
      "                   warm_start=False)\n",
      "running for the parameter set : {'estimator__C': [0.05, 0.1, 0.5]}\n",
      "fitting the model OneVsRestClassifier(estimator=LogisticRegression(C=1.0, class_weight='balanced',\n",
      "                                                 dual=False, fit_intercept=True,\n",
      "                                                 intercept_scaling=1,\n",
      "                                                 l1_ratio=None, max_iter=100,\n",
      "                                                 multi_class='auto',\n",
      "                                                 n_jobs=None, penalty='l2',\n",
      "                                                 random_state=None,\n",
      "                                                 solver='lbfgs', tol=0.0001,\n",
      "                                                 verbose=0, warm_start=False),\n",
      "                    n_jobs=None)\n",
      "Fitting 3 folds for each of 3 candidates, totalling 9 fits\n"
     ]
    },
    {
     "name": "stderr",
     "output_type": "stream",
     "text": [
      "[Parallel(n_jobs=1)]: Using backend SequentialBackend with 1 concurrent workers.\n",
      "[Parallel(n_jobs=1)]: Done   9 out of   9 | elapsed:    1.7s finished\n"
     ]
    },
    {
     "name": "stdout",
     "output_type": "stream",
     "text": [
      "fitting done in 2.034419298171997 sec!\n",
      "the best parameter set is : {'estimator__C': 0.05}\n",
      "evaluating the model\n",
      "the train set score is 0.8453599768190005\n",
      "the test set score is 0.8396336397087303\n",
      "running the model : KNeighborsClassifier(algorithm='auto', leaf_size=30, metric='minkowski',\n",
      "                     metric_params=None, n_jobs=None, n_neighbors=5, p=2,\n",
      "                     weights='uniform')\n",
      "running for the parameter set : {'estimator__n_neighbors': [10, 30, 50, 70]}\n",
      "fitting the model OneVsRestClassifier(estimator=KNeighborsClassifier(algorithm='auto',\n",
      "                                                   leaf_size=30,\n",
      "                                                   metric='minkowski',\n",
      "                                                   metric_params=None,\n",
      "                                                   n_jobs=None, n_neighbors=5,\n",
      "                                                   p=2, weights='uniform'),\n",
      "                    n_jobs=None)\n",
      "Fitting 3 folds for each of 4 candidates, totalling 12 fits\n"
     ]
    },
    {
     "name": "stderr",
     "output_type": "stream",
     "text": [
      "[Parallel(n_jobs=1)]: Using backend SequentialBackend with 1 concurrent workers.\n",
      "[Parallel(n_jobs=1)]: Done  12 out of  12 | elapsed:  2.6min finished\n"
     ]
    },
    {
     "name": "stdout",
     "output_type": "stream",
     "text": [
      "fitting done in 157.7218599319458 sec!\n",
      "the best parameter set is : {'estimator__n_neighbors': 30}\n",
      "evaluating the model\n",
      "the train set score is 0.8284241330322382\n",
      "the test set score is 0.7905304916279176\n",
      "running the model : RandomForestClassifier(bootstrap=True, ccp_alpha=0.0, class_weight='balanced',\n",
      "                       criterion='gini', max_depth=None, max_features='auto',\n",
      "                       max_leaf_nodes=None, max_samples=None,\n",
      "                       min_impurity_decrease=0.0, min_impurity_split=None,\n",
      "                       min_samples_leaf=1, min_samples_split=2,\n",
      "                       min_weight_fraction_leaf=0.0, n_estimators=100,\n",
      "                       n_jobs=None, oob_score=False, random_state=None,\n",
      "                       verbose=0, warm_start=False)\n",
      "running for the parameter set : {'estimator__n_estimators': [50, 80, 110, 150], 'estimator__criterion': ['gini', 'entropy']}\n",
      "fitting the model OneVsRestClassifier(estimator=RandomForestClassifier(bootstrap=True,\n",
      "                                                     ccp_alpha=0.0,\n",
      "                                                     class_weight='balanced',\n",
      "                                                     criterion='gini',\n",
      "                                                     max_depth=None,\n",
      "                                                     max_features='auto',\n",
      "                                                     max_leaf_nodes=None,\n",
      "                                                     max_samples=None,\n",
      "                                                     min_impurity_decrease=0.0,\n",
      "                                                     min_impurity_split=None,\n",
      "                                                     min_samples_leaf=1,\n",
      "                                                     min_samples_split=2,\n",
      "                                                     min_weight_fraction_leaf=0.0,\n",
      "                                                     n_estimators=100,\n",
      "                                                     n_jobs=None,\n",
      "                                                     oob_score=False,\n",
      "                                                     random_state=None,\n",
      "                                                     verbose=0,\n",
      "                                                     warm_start=False),\n",
      "                    n_jobs=None)\n",
      "Fitting 3 folds for each of 8 candidates, totalling 24 fits\n"
     ]
    },
    {
     "name": "stderr",
     "output_type": "stream",
     "text": [
      "[Parallel(n_jobs=1)]: Using backend SequentialBackend with 1 concurrent workers.\n",
      "[Parallel(n_jobs=1)]: Done  24 out of  24 | elapsed:  1.1min finished\n"
     ]
    },
    {
     "name": "stdout",
     "output_type": "stream",
     "text": [
      "fitting done in 71.7787766456604 sec!\n",
      "the best parameter set is : {'estimator__criterion': 'entropy', 'estimator__n_estimators': 150}\n",
      "evaluating the model\n",
      "the train set score is 1.0\n",
      "the test set score is 0.8487554752756407\n",
      "running the model : AdaBoostClassifier(algorithm='SAMME.R', base_estimator=None, learning_rate=1.0,\n",
      "                   n_estimators=50, random_state=None)\n",
      "running for the parameter set : {'estimator__n_estimators': [50, 80, 110, 150], 'estimator__learning_rate': [0.001, 0.01, 0.05, 0.1]}\n",
      "fitting the model OneVsRestClassifier(estimator=AdaBoostClassifier(algorithm='SAMME.R',\n",
      "                                                 base_estimator=None,\n",
      "                                                 learning_rate=1.0,\n",
      "                                                 n_estimators=50,\n",
      "                                                 random_state=None),\n",
      "                    n_jobs=None)\n",
      "Fitting 3 folds for each of 16 candidates, totalling 48 fits\n"
     ]
    },
    {
     "name": "stderr",
     "output_type": "stream",
     "text": [
      "[Parallel(n_jobs=1)]: Using backend SequentialBackend with 1 concurrent workers.\n",
      "[Parallel(n_jobs=1)]: Done  48 out of  48 | elapsed:  1.7min finished\n"
     ]
    },
    {
     "name": "stdout",
     "output_type": "stream",
     "text": [
      "fitting done in 106.95809745788574 sec!\n",
      "the best parameter set is : {'estimator__learning_rate': 0.1, 'estimator__n_estimators': 150}\n",
      "evaluating the model\n",
      "the train set score is 0.8491666734467662\n",
      "the test set score is 0.8476065855460154\n",
      "running the model : GradientBoostingClassifier(ccp_alpha=0.0, criterion='friedman_mse', init=None,\n",
      "                           learning_rate=0.1, loss='deviance', max_depth=3,\n",
      "                           max_features=None, max_leaf_nodes=None,\n",
      "                           min_impurity_decrease=0.0, min_impurity_split=None,\n",
      "                           min_samples_leaf=1, min_samples_split=2,\n",
      "                           min_weight_fraction_leaf=0.0, n_estimators=100,\n",
      "                           n_iter_no_change=None, presort='deprecated',\n",
      "                           random_state=None, subsample=1.0, tol=0.0001,\n",
      "                           validation_fraction=0.1, verbose=0,\n",
      "                           warm_start=False)\n",
      "running for the parameter set : {'estimator__n_estimators': [100, 120, 140, 160], 'estimator__learning_rate': [0.001, 0.01, 0.05, 0.1]}\n",
      "fitting the model OneVsRestClassifier(estimator=GradientBoostingClassifier(ccp_alpha=0.0,\n",
      "                                                         criterion='friedman_mse',\n",
      "                                                         init=None,\n",
      "                                                         learning_rate=0.1,\n",
      "                                                         loss='deviance',\n",
      "                                                         max_depth=3,\n",
      "                                                         max_features=None,\n",
      "                                                         max_leaf_nodes=None,\n",
      "                                                         min_impurity_decrease=0.0,\n",
      "                                                         min_impurity_split=None,\n",
      "                                                         min_samples_leaf=1,\n",
      "                                                         min_samples_split=2,\n",
      "                                                         min_weight_fraction_leaf=0.0,\n",
      "                                                         n_estimators=100,\n",
      "                                                         n_iter_no_change=None,\n",
      "                                                         presort='deprecated',\n",
      "                                                         random_state=None,\n",
      "                                                         subsample=1.0,\n",
      "                                                         tol=0.0001,\n",
      "                                                         validation_fraction=0.1,\n",
      "                                                         verbose=0,\n",
      "                                                         warm_start=False),\n",
      "                    n_jobs=None)\n",
      "Fitting 3 folds for each of 16 candidates, totalling 48 fits\n"
     ]
    },
    {
     "name": "stderr",
     "output_type": "stream",
     "text": [
      "[Parallel(n_jobs=1)]: Using backend SequentialBackend with 1 concurrent workers.\n",
      "[Parallel(n_jobs=1)]: Done  48 out of  48 | elapsed:  3.5min finished\n"
     ]
    },
    {
     "name": "stdout",
     "output_type": "stream",
     "text": [
      "fitting done in 215.78547620773315 sec!\n",
      "the best parameter set is : {'estimator__learning_rate': 0.1, 'estimator__n_estimators': 120}\n",
      "evaluating the model\n",
      "the train set score is 0.8682604782684958\n",
      "the test set score is 0.8557911991554182\n",
      "running the model : XGBClassifier(base_score=None, booster=None, colsample_bylevel=None,\n",
      "              colsample_bynode=None, colsample_bytree=None, gamma=None,\n",
      "              gpu_id=None, importance_type='gain', interaction_constraints=None,\n",
      "              learning_rate=None, max_delta_step=None, max_depth=None,\n",
      "              min_child_weight=None, missing=nan, monotone_constraints=None,\n",
      "              n_estimators=100, n_jobs=None, num_parallel_tree=None,\n",
      "              objective='binary:logistic', random_state=None, reg_alpha=None,\n",
      "              reg_lambda=None, scale_pos_weight=None, subsample=None,\n",
      "              tree_method=None, validate_parameters=None, verbosity=None)\n",
      "running for the parameter set : {'estimator__learning_rate': [0.001, 0.01, 0.05, 0.1]}\n",
      "fitting the model OneVsRestClassifier(estimator=XGBClassifier(base_score=None, booster=None,\n",
      "                                            colsample_bylevel=None,\n",
      "                                            colsample_bynode=None,\n",
      "                                            colsample_bytree=None, gamma=None,\n",
      "                                            gpu_id=None, importance_type='gain',\n",
      "                                            interaction_constraints=None,\n",
      "                                            learning_rate=None,\n",
      "                                            max_delta_step=None, max_depth=None,\n",
      "                                            min_child_weight=None, missing=nan,\n",
      "                                            monotone_constraints=None,\n",
      "                                            n_estimators=100, n_jobs=None,\n",
      "                                            num_parallel_tree=None,\n",
      "                                            objective='binary:logistic',\n",
      "                                            random_state=None, reg_alpha=None,\n",
      "                                            reg_lambda=None,\n",
      "                                            scale_pos_weight=None,\n",
      "                                            subsample=None, tree_method=None,\n",
      "                                            validate_parameters=None,\n",
      "                                            verbosity=None),\n",
      "                    n_jobs=None)\n",
      "Fitting 3 folds for each of 4 candidates, totalling 12 fits\n"
     ]
    },
    {
     "name": "stderr",
     "output_type": "stream",
     "text": [
      "[Parallel(n_jobs=1)]: Using backend SequentialBackend with 1 concurrent workers.\n",
      "[Parallel(n_jobs=1)]: Done  12 out of  12 | elapsed:   19.6s finished\n"
     ]
    },
    {
     "name": "stdout",
     "output_type": "stream",
     "text": [
      "fitting done in 22.029448986053467 sec!\n",
      "the best parameter set is : {'estimator__learning_rate': 0.05}\n",
      "evaluating the model\n",
      "the train set score is 0.8934552782428724\n",
      "the test set score is 0.8561272717420015\n",
      "\n",
      "running the model : LogisticRegression(C=1.0, class_weight='balanced', dual=False,\n",
      "                   fit_intercept=True, intercept_scaling=1, l1_ratio=None,\n",
      "                   max_iter=100, multi_class='auto', n_jobs=None, penalty='l2',\n",
      "                   random_state=None, solver='lbfgs', tol=0.0001, verbose=0,\n",
      "                   warm_start=False)\n",
      "running for the parameter set : {'estimator__C': [0.05, 0.1, 0.5]}\n",
      "fitting the model OneVsRestClassifier(estimator=LogisticRegression(C=1.0, class_weight='balanced',\n",
      "                                                 dual=False, fit_intercept=True,\n",
      "                                                 intercept_scaling=1,\n",
      "                                                 l1_ratio=None, max_iter=100,\n",
      "                                                 multi_class='auto',\n",
      "                                                 n_jobs=None, penalty='l2',\n",
      "                                                 random_state=None,\n",
      "                                                 solver='lbfgs', tol=0.0001,\n",
      "                                                 verbose=0, warm_start=False),\n",
      "                    n_jobs=None)\n",
      "Fitting 3 folds for each of 3 candidates, totalling 9 fits\n"
     ]
    },
    {
     "name": "stderr",
     "output_type": "stream",
     "text": [
      "[Parallel(n_jobs=1)]: Using backend SequentialBackend with 1 concurrent workers.\n",
      "[Parallel(n_jobs=1)]: Done   9 out of   9 | elapsed:    1.7s finished\n"
     ]
    },
    {
     "name": "stdout",
     "output_type": "stream",
     "text": [
      "fitting done in 1.967515230178833 sec!\n",
      "the best parameter set is : {'estimator__C': 0.05}\n",
      "evaluating the model\n",
      "the train set score is 0.845408232877319\n",
      "the test set score is 0.8395224389556954\n",
      "running the model : KNeighborsClassifier(algorithm='auto', leaf_size=30, metric='minkowski',\n",
      "                     metric_params=None, n_jobs=None, n_neighbors=5, p=2,\n",
      "                     weights='uniform')\n",
      "running for the parameter set : {'estimator__n_neighbors': [10, 30, 50, 70]}\n",
      "fitting the model OneVsRestClassifier(estimator=KNeighborsClassifier(algorithm='auto',\n",
      "                                                   leaf_size=30,\n",
      "                                                   metric='minkowski',\n",
      "                                                   metric_params=None,\n",
      "                                                   n_jobs=None, n_neighbors=5,\n",
      "                                                   p=2, weights='uniform'),\n",
      "                    n_jobs=None)\n",
      "Fitting 3 folds for each of 4 candidates, totalling 12 fits\n"
     ]
    },
    {
     "name": "stderr",
     "output_type": "stream",
     "text": [
      "[Parallel(n_jobs=1)]: Using backend SequentialBackend with 1 concurrent workers.\n",
      "[Parallel(n_jobs=1)]: Done  12 out of  12 | elapsed:  2.7min finished\n"
     ]
    },
    {
     "name": "stdout",
     "output_type": "stream",
     "text": [
      "fitting done in 160.63388562202454 sec!\n",
      "the best parameter set is : {'estimator__n_neighbors': 30}\n",
      "evaluating the model\n",
      "the train set score is 0.8287578423465665\n",
      "the test set score is 0.7901799439553984\n",
      "running the model : RandomForestClassifier(bootstrap=True, ccp_alpha=0.0, class_weight='balanced',\n",
      "                       criterion='gini', max_depth=None, max_features='auto',\n",
      "                       max_leaf_nodes=None, max_samples=None,\n",
      "                       min_impurity_decrease=0.0, min_impurity_split=None,\n",
      "                       min_samples_leaf=1, min_samples_split=2,\n",
      "                       min_weight_fraction_leaf=0.0, n_estimators=100,\n",
      "                       n_jobs=None, oob_score=False, random_state=None,\n",
      "                       verbose=0, warm_start=False)\n",
      "running for the parameter set : {'estimator__n_estimators': [50, 80, 110, 150], 'estimator__criterion': ['gini', 'entropy']}\n",
      "fitting the model OneVsRestClassifier(estimator=RandomForestClassifier(bootstrap=True,\n",
      "                                                     ccp_alpha=0.0,\n",
      "                                                     class_weight='balanced',\n",
      "                                                     criterion='gini',\n",
      "                                                     max_depth=None,\n",
      "                                                     max_features='auto',\n",
      "                                                     max_leaf_nodes=None,\n",
      "                                                     max_samples=None,\n",
      "                                                     min_impurity_decrease=0.0,\n",
      "                                                     min_impurity_split=None,\n",
      "                                                     min_samples_leaf=1,\n",
      "                                                     min_samples_split=2,\n",
      "                                                     min_weight_fraction_leaf=0.0,\n",
      "                                                     n_estimators=100,\n",
      "                                                     n_jobs=None,\n",
      "                                                     oob_score=False,\n",
      "                                                     random_state=None,\n",
      "                                                     verbose=0,\n",
      "                                                     warm_start=False),\n",
      "                    n_jobs=None)\n",
      "Fitting 3 folds for each of 8 candidates, totalling 24 fits\n"
     ]
    },
    {
     "name": "stderr",
     "output_type": "stream",
     "text": [
      "[Parallel(n_jobs=1)]: Using backend SequentialBackend with 1 concurrent workers.\n",
      "[Parallel(n_jobs=1)]: Done  24 out of  24 | elapsed:  1.1min finished\n"
     ]
    },
    {
     "name": "stdout",
     "output_type": "stream",
     "text": [
      "fitting done in 70.1502013206482 sec!\n",
      "the best parameter set is : {'estimator__criterion': 'entropy', 'estimator__n_estimators': 110}\n",
      "evaluating the model\n",
      "the train set score is 1.0\n",
      "the test set score is 0.8493905754316251\n",
      "running the model : AdaBoostClassifier(algorithm='SAMME.R', base_estimator=None, learning_rate=1.0,\n",
      "                   n_estimators=50, random_state=None)\n",
      "running for the parameter set : {'estimator__n_estimators': [50, 80, 110, 150], 'estimator__learning_rate': [0.001, 0.01, 0.05, 0.1]}\n",
      "fitting the model OneVsRestClassifier(estimator=AdaBoostClassifier(algorithm='SAMME.R',\n",
      "                                                 base_estimator=None,\n",
      "                                                 learning_rate=1.0,\n",
      "                                                 n_estimators=50,\n",
      "                                                 random_state=None),\n",
      "                    n_jobs=None)\n",
      "Fitting 3 folds for each of 16 candidates, totalling 48 fits\n"
     ]
    },
    {
     "name": "stderr",
     "output_type": "stream",
     "text": [
      "[Parallel(n_jobs=1)]: Using backend SequentialBackend with 1 concurrent workers.\n",
      "[Parallel(n_jobs=1)]: Done  48 out of  48 | elapsed:  1.7min finished\n"
     ]
    },
    {
     "name": "stdout",
     "output_type": "stream",
     "text": [
      "fitting done in 106.14197826385498 sec!\n",
      "the best parameter set is : {'estimator__learning_rate': 0.1, 'estimator__n_estimators': 150}\n",
      "evaluating the model\n",
      "the train set score is 0.8509957362489529\n",
      "the test set score is 0.8496090445358887\n",
      "running the model : GradientBoostingClassifier(ccp_alpha=0.0, criterion='friedman_mse', init=None,\n",
      "                           learning_rate=0.1, loss='deviance', max_depth=3,\n",
      "                           max_features=None, max_leaf_nodes=None,\n",
      "                           min_impurity_decrease=0.0, min_impurity_split=None,\n",
      "                           min_samples_leaf=1, min_samples_split=2,\n",
      "                           min_weight_fraction_leaf=0.0, n_estimators=100,\n",
      "                           n_iter_no_change=None, presort='deprecated',\n",
      "                           random_state=None, subsample=1.0, tol=0.0001,\n",
      "                           validation_fraction=0.1, verbose=0,\n",
      "                           warm_start=False)\n",
      "running for the parameter set : {'estimator__n_estimators': [100, 120, 140, 160], 'estimator__learning_rate': [0.001, 0.01, 0.05, 0.1]}\n",
      "fitting the model OneVsRestClassifier(estimator=GradientBoostingClassifier(ccp_alpha=0.0,\n",
      "                                                         criterion='friedman_mse',\n",
      "                                                         init=None,\n",
      "                                                         learning_rate=0.1,\n",
      "                                                         loss='deviance',\n",
      "                                                         max_depth=3,\n",
      "                                                         max_features=None,\n",
      "                                                         max_leaf_nodes=None,\n",
      "                                                         min_impurity_decrease=0.0,\n",
      "                                                         min_impurity_split=None,\n",
      "                                                         min_samples_leaf=1,\n",
      "                                                         min_samples_split=2,\n",
      "                                                         min_weight_fraction_leaf=0.0,\n",
      "                                                         n_estimators=100,\n",
      "                                                         n_iter_no_change=None,\n",
      "                                                         presort='deprecated',\n",
      "                                                         random_state=None,\n",
      "                                                         subsample=1.0,\n",
      "                                                         tol=0.0001,\n",
      "                                                         validation_fraction=0.1,\n",
      "                                                         verbose=0,\n",
      "                                                         warm_start=False),\n",
      "                    n_jobs=None)\n",
      "Fitting 3 folds for each of 16 candidates, totalling 48 fits\n"
     ]
    },
    {
     "name": "stderr",
     "output_type": "stream",
     "text": [
      "[Parallel(n_jobs=1)]: Using backend SequentialBackend with 1 concurrent workers.\n",
      "[Parallel(n_jobs=1)]: Done  48 out of  48 | elapsed:  3.5min finished\n"
     ]
    },
    {
     "name": "stdout",
     "output_type": "stream",
     "text": [
      "fitting done in 219.51541233062744 sec!\n",
      "the best parameter set is : {'estimator__learning_rate': 0.1, 'estimator__n_estimators': 140}\n",
      "evaluating the model\n",
      "the train set score is 0.8720739383379675\n",
      "the test set score is 0.8587670962225469\n",
      "running the model : XGBClassifier(base_score=None, booster=None, colsample_bylevel=None,\n",
      "              colsample_bynode=None, colsample_bytree=None, gamma=None,\n",
      "              gpu_id=None, importance_type='gain', interaction_constraints=None,\n",
      "              learning_rate=None, max_delta_step=None, max_depth=None,\n",
      "              min_child_weight=None, missing=nan, monotone_constraints=None,\n",
      "              n_estimators=100, n_jobs=None, num_parallel_tree=None,\n",
      "              objective='binary:logistic', random_state=None, reg_alpha=None,\n",
      "              reg_lambda=None, scale_pos_weight=None, subsample=None,\n",
      "              tree_method=None, validate_parameters=None, verbosity=None)\n",
      "running for the parameter set : {'estimator__learning_rate': [0.001, 0.01, 0.05, 0.1]}\n",
      "fitting the model OneVsRestClassifier(estimator=XGBClassifier(base_score=None, booster=None,\n",
      "                                            colsample_bylevel=None,\n",
      "                                            colsample_bynode=None,\n",
      "                                            colsample_bytree=None, gamma=None,\n",
      "                                            gpu_id=None, importance_type='gain',\n",
      "                                            interaction_constraints=None,\n",
      "                                            learning_rate=None,\n",
      "                                            max_delta_step=None, max_depth=None,\n",
      "                                            min_child_weight=None, missing=nan,\n",
      "                                            monotone_constraints=None,\n",
      "                                            n_estimators=100, n_jobs=None,\n",
      "                                            num_parallel_tree=None,\n",
      "                                            objective='binary:logistic',\n",
      "                                            random_state=None, reg_alpha=None,\n",
      "                                            reg_lambda=None,\n",
      "                                            scale_pos_weight=None,\n",
      "                                            subsample=None, tree_method=None,\n",
      "                                            validate_parameters=None,\n",
      "                                            verbosity=None),\n",
      "                    n_jobs=None)\n",
      "Fitting 3 folds for each of 4 candidates, totalling 12 fits\n"
     ]
    },
    {
     "name": "stderr",
     "output_type": "stream",
     "text": [
      "[Parallel(n_jobs=1)]: Using backend SequentialBackend with 1 concurrent workers.\n",
      "[Parallel(n_jobs=1)]: Done  12 out of  12 | elapsed:   19.5s finished\n"
     ]
    },
    {
     "name": "stdout",
     "output_type": "stream",
     "text": [
      "fitting done in 21.977300882339478 sec!\n",
      "the best parameter set is : {'estimator__learning_rate': 0.05}\n",
      "evaluating the model\n",
      "the train set score is 0.8951749739982643\n",
      "the test set score is 0.858192140674848\n",
      "\n",
      "running the model : LogisticRegression(C=1.0, class_weight='balanced', dual=False,\n",
      "                   fit_intercept=True, intercept_scaling=1, l1_ratio=None,\n",
      "                   max_iter=100, multi_class='auto', n_jobs=None, penalty='l2',\n",
      "                   random_state=None, solver='lbfgs', tol=0.0001, verbose=0,\n",
      "                   warm_start=False)\n",
      "running for the parameter set : {'estimator__C': [0.05, 0.1, 0.5]}\n",
      "fitting the model OneVsRestClassifier(estimator=LogisticRegression(C=1.0, class_weight='balanced',\n",
      "                                                 dual=False, fit_intercept=True,\n",
      "                                                 intercept_scaling=1,\n",
      "                                                 l1_ratio=None, max_iter=100,\n",
      "                                                 multi_class='auto',\n",
      "                                                 n_jobs=None, penalty='l2',\n",
      "                                                 random_state=None,\n",
      "                                                 solver='lbfgs', tol=0.0001,\n",
      "                                                 verbose=0, warm_start=False),\n",
      "                    n_jobs=None)\n",
      "Fitting 3 folds for each of 3 candidates, totalling 9 fits\n"
     ]
    },
    {
     "name": "stderr",
     "output_type": "stream",
     "text": [
      "[Parallel(n_jobs=1)]: Using backend SequentialBackend with 1 concurrent workers.\n",
      "[Parallel(n_jobs=1)]: Done   9 out of   9 | elapsed:    1.7s finished\n"
     ]
    },
    {
     "name": "stdout",
     "output_type": "stream",
     "text": [
      "fitting done in 2.0004310607910156 sec!\n",
      "the best parameter set is : {'estimator__C': 0.5}\n",
      "evaluating the model\n",
      "the train set score is 0.8457528781706772\n",
      "the test set score is 0.8397783456599612\n",
      "running the model : KNeighborsClassifier(algorithm='auto', leaf_size=30, metric='minkowski',\n",
      "                     metric_params=None, n_jobs=None, n_neighbors=5, p=2,\n",
      "                     weights='uniform')\n",
      "running for the parameter set : {'estimator__n_neighbors': [10, 30, 50, 70]}\n",
      "fitting the model OneVsRestClassifier(estimator=KNeighborsClassifier(algorithm='auto',\n",
      "                                                   leaf_size=30,\n",
      "                                                   metric='minkowski',\n",
      "                                                   metric_params=None,\n",
      "                                                   n_jobs=None, n_neighbors=5,\n",
      "                                                   p=2, weights='uniform'),\n",
      "                    n_jobs=None)\n",
      "Fitting 3 folds for each of 4 candidates, totalling 12 fits\n"
     ]
    },
    {
     "name": "stderr",
     "output_type": "stream",
     "text": [
      "[Parallel(n_jobs=1)]: Using backend SequentialBackend with 1 concurrent workers.\n",
      "[Parallel(n_jobs=1)]: Done  12 out of  12 | elapsed:  2.6min finished\n"
     ]
    },
    {
     "name": "stdout",
     "output_type": "stream",
     "text": [
      "fitting done in 156.5972023010254 sec!\n",
      "the best parameter set is : {'estimator__n_neighbors': 30}\n",
      "evaluating the model\n",
      "the train set score is 0.8285294363327285\n",
      "the test set score is 0.7904517243327069\n",
      "running the model : RandomForestClassifier(bootstrap=True, ccp_alpha=0.0, class_weight='balanced',\n",
      "                       criterion='gini', max_depth=None, max_features='auto',\n",
      "                       max_leaf_nodes=None, max_samples=None,\n",
      "                       min_impurity_decrease=0.0, min_impurity_split=None,\n",
      "                       min_samples_leaf=1, min_samples_split=2,\n",
      "                       min_weight_fraction_leaf=0.0, n_estimators=100,\n",
      "                       n_jobs=None, oob_score=False, random_state=None,\n",
      "                       verbose=0, warm_start=False)\n",
      "running for the parameter set : {'estimator__n_estimators': [50, 80, 110, 150], 'estimator__criterion': ['gini', 'entropy']}\n",
      "fitting the model OneVsRestClassifier(estimator=RandomForestClassifier(bootstrap=True,\n",
      "                                                     ccp_alpha=0.0,\n",
      "                                                     class_weight='balanced',\n",
      "                                                     criterion='gini',\n",
      "                                                     max_depth=None,\n",
      "                                                     max_features='auto',\n",
      "                                                     max_leaf_nodes=None,\n",
      "                                                     max_samples=None,\n",
      "                                                     min_impurity_decrease=0.0,\n",
      "                                                     min_impurity_split=None,\n",
      "                                                     min_samples_leaf=1,\n",
      "                                                     min_samples_split=2,\n",
      "                                                     min_weight_fraction_leaf=0.0,\n",
      "                                                     n_estimators=100,\n",
      "                                                     n_jobs=None,\n",
      "                                                     oob_score=False,\n",
      "                                                     random_state=None,\n",
      "                                                     verbose=0,\n",
      "                                                     warm_start=False),\n",
      "                    n_jobs=None)\n",
      "Fitting 3 folds for each of 8 candidates, totalling 24 fits\n"
     ]
    },
    {
     "name": "stderr",
     "output_type": "stream",
     "text": [
      "[Parallel(n_jobs=1)]: Using backend SequentialBackend with 1 concurrent workers.\n",
      "[Parallel(n_jobs=1)]: Done  24 out of  24 | elapsed:  1.1min finished\n"
     ]
    },
    {
     "name": "stdout",
     "output_type": "stream",
     "text": [
      "fitting done in 70.80187654495239 sec!\n",
      "the best parameter set is : {'estimator__criterion': 'gini', 'estimator__n_estimators': 150}\n",
      "evaluating the model\n",
      "the train set score is 1.0\n",
      "the test set score is 0.851084583791888\n",
      "running the model : AdaBoostClassifier(algorithm='SAMME.R', base_estimator=None, learning_rate=1.0,\n",
      "                   n_estimators=50, random_state=None)\n",
      "running for the parameter set : {'estimator__n_estimators': [50, 80, 110, 150], 'estimator__learning_rate': [0.001, 0.01, 0.05, 0.1]}\n",
      "fitting the model OneVsRestClassifier(estimator=AdaBoostClassifier(algorithm='SAMME.R',\n",
      "                                                 base_estimator=None,\n",
      "                                                 learning_rate=1.0,\n",
      "                                                 n_estimators=50,\n",
      "                                                 random_state=None),\n",
      "                    n_jobs=None)\n",
      "Fitting 3 folds for each of 16 candidates, totalling 48 fits\n"
     ]
    },
    {
     "name": "stderr",
     "output_type": "stream",
     "text": [
      "[Parallel(n_jobs=1)]: Using backend SequentialBackend with 1 concurrent workers.\n",
      "[Parallel(n_jobs=1)]: Done  48 out of  48 | elapsed:  1.7min finished\n"
     ]
    },
    {
     "name": "stdout",
     "output_type": "stream",
     "text": [
      "fitting done in 106.764564037323 sec!\n",
      "the best parameter set is : {'estimator__learning_rate': 0.1, 'estimator__n_estimators': 150}\n",
      "evaluating the model\n",
      "the train set score is 0.851644697328772\n",
      "the test set score is 0.8500602288957858\n",
      "running the model : GradientBoostingClassifier(ccp_alpha=0.0, criterion='friedman_mse', init=None,\n",
      "                           learning_rate=0.1, loss='deviance', max_depth=3,\n",
      "                           max_features=None, max_leaf_nodes=None,\n",
      "                           min_impurity_decrease=0.0, min_impurity_split=None,\n",
      "                           min_samples_leaf=1, min_samples_split=2,\n",
      "                           min_weight_fraction_leaf=0.0, n_estimators=100,\n",
      "                           n_iter_no_change=None, presort='deprecated',\n",
      "                           random_state=None, subsample=1.0, tol=0.0001,\n",
      "                           validation_fraction=0.1, verbose=0,\n",
      "                           warm_start=False)\n",
      "running for the parameter set : {'estimator__n_estimators': [100, 120, 140, 160], 'estimator__learning_rate': [0.001, 0.01, 0.05, 0.1]}\n",
      "fitting the model OneVsRestClassifier(estimator=GradientBoostingClassifier(ccp_alpha=0.0,\n",
      "                                                         criterion='friedman_mse',\n",
      "                                                         init=None,\n",
      "                                                         learning_rate=0.1,\n",
      "                                                         loss='deviance',\n",
      "                                                         max_depth=3,\n",
      "                                                         max_features=None,\n",
      "                                                         max_leaf_nodes=None,\n",
      "                                                         min_impurity_decrease=0.0,\n",
      "                                                         min_impurity_split=None,\n",
      "                                                         min_samples_leaf=1,\n",
      "                                                         min_samples_split=2,\n",
      "                                                         min_weight_fraction_leaf=0.0,\n",
      "                                                         n_estimators=100,\n",
      "                                                         n_iter_no_change=None,\n",
      "                                                         presort='deprecated',\n",
      "                                                         random_state=None,\n",
      "                                                         subsample=1.0,\n",
      "                                                         tol=0.0001,\n",
      "                                                         validation_fraction=0.1,\n",
      "                                                         verbose=0,\n",
      "                                                         warm_start=False),\n",
      "                    n_jobs=None)\n",
      "Fitting 3 folds for each of 16 candidates, totalling 48 fits\n"
     ]
    },
    {
     "name": "stderr",
     "output_type": "stream",
     "text": [
      "[Parallel(n_jobs=1)]: Using backend SequentialBackend with 1 concurrent workers.\n",
      "[Parallel(n_jobs=1)]: Done  48 out of  48 | elapsed:  3.5min finished\n"
     ]
    },
    {
     "name": "stdout",
     "output_type": "stream",
     "text": [
      "fitting done in 219.89872574806213 sec!\n",
      "the best parameter set is : {'estimator__learning_rate': 0.1, 'estimator__n_estimators': 140}\n",
      "evaluating the model\n",
      "the train set score is 0.8727969932768225\n",
      "the test set score is 0.8594737703469404\n",
      "running the model : XGBClassifier(base_score=None, booster=None, colsample_bylevel=None,\n",
      "              colsample_bynode=None, colsample_bytree=None, gamma=None,\n",
      "              gpu_id=None, importance_type='gain', interaction_constraints=None,\n",
      "              learning_rate=None, max_delta_step=None, max_depth=None,\n",
      "              min_child_weight=None, missing=nan, monotone_constraints=None,\n",
      "              n_estimators=100, n_jobs=None, num_parallel_tree=None,\n",
      "              objective='binary:logistic', random_state=None, reg_alpha=None,\n",
      "              reg_lambda=None, scale_pos_weight=None, subsample=None,\n",
      "              tree_method=None, validate_parameters=None, verbosity=None)\n",
      "running for the parameter set : {'estimator__learning_rate': [0.001, 0.01, 0.05, 0.1]}\n",
      "fitting the model OneVsRestClassifier(estimator=XGBClassifier(base_score=None, booster=None,\n",
      "                                            colsample_bylevel=None,\n",
      "                                            colsample_bynode=None,\n",
      "                                            colsample_bytree=None, gamma=None,\n",
      "                                            gpu_id=None, importance_type='gain',\n",
      "                                            interaction_constraints=None,\n",
      "                                            learning_rate=None,\n",
      "                                            max_delta_step=None, max_depth=None,\n",
      "                                            min_child_weight=None, missing=nan,\n",
      "                                            monotone_constraints=None,\n",
      "                                            n_estimators=100, n_jobs=None,\n",
      "                                            num_parallel_tree=None,\n",
      "                                            objective='binary:logistic',\n",
      "                                            random_state=None, reg_alpha=None,\n",
      "                                            reg_lambda=None,\n",
      "                                            scale_pos_weight=None,\n",
      "                                            subsample=None, tree_method=None,\n",
      "                                            validate_parameters=None,\n",
      "                                            verbosity=None),\n",
      "                    n_jobs=None)\n",
      "Fitting 3 folds for each of 4 candidates, totalling 12 fits\n"
     ]
    },
    {
     "name": "stderr",
     "output_type": "stream",
     "text": [
      "[Parallel(n_jobs=1)]: Using backend SequentialBackend with 1 concurrent workers.\n",
      "[Parallel(n_jobs=1)]: Done  12 out of  12 | elapsed:   21.3s finished\n"
     ]
    },
    {
     "name": "stdout",
     "output_type": "stream",
     "text": [
      "fitting done in 23.730172157287598 sec!\n",
      "the best parameter set is : {'estimator__learning_rate': 0.1}\n",
      "evaluating the model\n",
      "the train set score is 0.9181050489454313\n",
      "the test set score is 0.8588772072096825\n",
      "\n",
      "running the model : LogisticRegression(C=1.0, class_weight='balanced', dual=False,\n",
      "                   fit_intercept=True, intercept_scaling=1, l1_ratio=None,\n",
      "                   max_iter=100, multi_class='auto', n_jobs=None, penalty='l2',\n",
      "                   random_state=None, solver='lbfgs', tol=0.0001, verbose=0,\n",
      "                   warm_start=False)\n",
      "running for the parameter set : {'estimator__C': [0.05, 0.1, 0.5]}\n",
      "fitting the model OneVsRestClassifier(estimator=LogisticRegression(C=1.0, class_weight='balanced',\n",
      "                                                 dual=False, fit_intercept=True,\n",
      "                                                 intercept_scaling=1,\n",
      "                                                 l1_ratio=None, max_iter=100,\n",
      "                                                 multi_class='auto',\n",
      "                                                 n_jobs=None, penalty='l2',\n",
      "                                                 random_state=None,\n",
      "                                                 solver='lbfgs', tol=0.0001,\n",
      "                                                 verbose=0, warm_start=False),\n",
      "                    n_jobs=None)\n",
      "Fitting 3 folds for each of 3 candidates, totalling 9 fits\n"
     ]
    },
    {
     "name": "stderr",
     "output_type": "stream",
     "text": [
      "[Parallel(n_jobs=1)]: Using backend SequentialBackend with 1 concurrent workers.\n",
      "[Parallel(n_jobs=1)]: Done   9 out of   9 | elapsed:    1.7s finished\n"
     ]
    },
    {
     "name": "stdout",
     "output_type": "stream",
     "text": [
      "fitting done in 1.971111536026001 sec!\n",
      "the best parameter set is : {'estimator__C': 0.5}\n",
      "evaluating the model\n",
      "the train set score is 0.8458676552593641\n",
      "the test set score is 0.8397000305252224\n",
      "running the model : KNeighborsClassifier(algorithm='auto', leaf_size=30, metric='minkowski',\n",
      "                     metric_params=None, n_jobs=None, n_neighbors=5, p=2,\n",
      "                     weights='uniform')\n",
      "running for the parameter set : {'estimator__n_neighbors': [10, 30, 50, 70]}\n",
      "fitting the model OneVsRestClassifier(estimator=KNeighborsClassifier(algorithm='auto',\n",
      "                                                   leaf_size=30,\n",
      "                                                   metric='minkowski',\n",
      "                                                   metric_params=None,\n",
      "                                                   n_jobs=None, n_neighbors=5,\n",
      "                                                   p=2, weights='uniform'),\n",
      "                    n_jobs=None)\n",
      "Fitting 3 folds for each of 4 candidates, totalling 12 fits\n"
     ]
    },
    {
     "name": "stderr",
     "output_type": "stream",
     "text": [
      "[Parallel(n_jobs=1)]: Using backend SequentialBackend with 1 concurrent workers.\n",
      "[Parallel(n_jobs=1)]: Done  12 out of  12 | elapsed:  2.7min finished\n"
     ]
    },
    {
     "name": "stdout",
     "output_type": "stream",
     "text": [
      "fitting done in 164.2252902984619 sec!\n",
      "the best parameter set is : {'estimator__n_neighbors': 30}\n",
      "evaluating the model\n",
      "the train set score is 0.828456664857493\n",
      "the test set score is 0.7899833857262317\n",
      "running the model : RandomForestClassifier(bootstrap=True, ccp_alpha=0.0, class_weight='balanced',\n",
      "                       criterion='gini', max_depth=None, max_features='auto',\n",
      "                       max_leaf_nodes=None, max_samples=None,\n",
      "                       min_impurity_decrease=0.0, min_impurity_split=None,\n",
      "                       min_samples_leaf=1, min_samples_split=2,\n",
      "                       min_weight_fraction_leaf=0.0, n_estimators=100,\n",
      "                       n_jobs=None, oob_score=False, random_state=None,\n",
      "                       verbose=0, warm_start=False)\n",
      "running for the parameter set : {'estimator__n_estimators': [50, 80, 110, 150], 'estimator__criterion': ['gini', 'entropy']}\n",
      "fitting the model OneVsRestClassifier(estimator=RandomForestClassifier(bootstrap=True,\n",
      "                                                     ccp_alpha=0.0,\n",
      "                                                     class_weight='balanced',\n",
      "                                                     criterion='gini',\n",
      "                                                     max_depth=None,\n",
      "                                                     max_features='auto',\n",
      "                                                     max_leaf_nodes=None,\n",
      "                                                     max_samples=None,\n",
      "                                                     min_impurity_decrease=0.0,\n",
      "                                                     min_impurity_split=None,\n",
      "                                                     min_samples_leaf=1,\n",
      "                                                     min_samples_split=2,\n",
      "                                                     min_weight_fraction_leaf=0.0,\n",
      "                                                     n_estimators=100,\n",
      "                                                     n_jobs=None,\n",
      "                                                     oob_score=False,\n",
      "                                                     random_state=None,\n",
      "                                                     verbose=0,\n",
      "                                                     warm_start=False),\n",
      "                    n_jobs=None)\n",
      "Fitting 3 folds for each of 8 candidates, totalling 24 fits\n"
     ]
    },
    {
     "name": "stderr",
     "output_type": "stream",
     "text": [
      "[Parallel(n_jobs=1)]: Using backend SequentialBackend with 1 concurrent workers.\n",
      "[Parallel(n_jobs=1)]: Done  24 out of  24 | elapsed:  1.2min finished\n"
     ]
    },
    {
     "name": "stdout",
     "output_type": "stream",
     "text": [
      "fitting done in 76.4133517742157 sec!\n",
      "the best parameter set is : {'estimator__criterion': 'entropy', 'estimator__n_estimators': 150}\n",
      "evaluating the model\n",
      "the train set score is 1.0\n",
      "the test set score is 0.8515176107725485\n",
      "running the model : AdaBoostClassifier(algorithm='SAMME.R', base_estimator=None, learning_rate=1.0,\n",
      "                   n_estimators=50, random_state=None)\n",
      "running for the parameter set : {'estimator__n_estimators': [50, 80, 110, 150], 'estimator__learning_rate': [0.001, 0.01, 0.05, 0.1]}\n",
      "fitting the model OneVsRestClassifier(estimator=AdaBoostClassifier(algorithm='SAMME.R',\n",
      "                                                 base_estimator=None,\n",
      "                                                 learning_rate=1.0,\n",
      "                                                 n_estimators=50,\n",
      "                                                 random_state=None),\n",
      "                    n_jobs=None)\n",
      "Fitting 3 folds for each of 16 candidates, totalling 48 fits\n"
     ]
    },
    {
     "name": "stderr",
     "output_type": "stream",
     "text": [
      "[Parallel(n_jobs=1)]: Using backend SequentialBackend with 1 concurrent workers.\n",
      "[Parallel(n_jobs=1)]: Done  48 out of  48 | elapsed:  2.0min finished\n"
     ]
    },
    {
     "name": "stdout",
     "output_type": "stream",
     "text": [
      "fitting done in 129.41976404190063 sec!\n",
      "the best parameter set is : {'estimator__learning_rate': 0.1, 'estimator__n_estimators': 150}\n",
      "evaluating the model\n",
      "the train set score is 0.8522214421880039\n",
      "the test set score is 0.8498141120936817\n",
      "running the model : GradientBoostingClassifier(ccp_alpha=0.0, criterion='friedman_mse', init=None,\n",
      "                           learning_rate=0.1, loss='deviance', max_depth=3,\n",
      "                           max_features=None, max_leaf_nodes=None,\n",
      "                           min_impurity_decrease=0.0, min_impurity_split=None,\n",
      "                           min_samples_leaf=1, min_samples_split=2,\n",
      "                           min_weight_fraction_leaf=0.0, n_estimators=100,\n",
      "                           n_iter_no_change=None, presort='deprecated',\n",
      "                           random_state=None, subsample=1.0, tol=0.0001,\n",
      "                           validation_fraction=0.1, verbose=0,\n",
      "                           warm_start=False)\n",
      "running for the parameter set : {'estimator__n_estimators': [100, 120, 140, 160], 'estimator__learning_rate': [0.001, 0.01, 0.05, 0.1]}\n",
      "fitting the model OneVsRestClassifier(estimator=GradientBoostingClassifier(ccp_alpha=0.0,\n",
      "                                                         criterion='friedman_mse',\n",
      "                                                         init=None,\n",
      "                                                         learning_rate=0.1,\n",
      "                                                         loss='deviance',\n",
      "                                                         max_depth=3,\n",
      "                                                         max_features=None,\n",
      "                                                         max_leaf_nodes=None,\n",
      "                                                         min_impurity_decrease=0.0,\n",
      "                                                         min_impurity_split=None,\n",
      "                                                         min_samples_leaf=1,\n",
      "                                                         min_samples_split=2,\n",
      "                                                         min_weight_fraction_leaf=0.0,\n",
      "                                                         n_estimators=100,\n",
      "                                                         n_iter_no_change=None,\n",
      "                                                         presort='deprecated',\n",
      "                                                         random_state=None,\n",
      "                                                         subsample=1.0,\n",
      "                                                         tol=0.0001,\n",
      "                                                         validation_fraction=0.1,\n",
      "                                                         verbose=0,\n",
      "                                                         warm_start=False),\n",
      "                    n_jobs=None)\n",
      "Fitting 3 folds for each of 16 candidates, totalling 48 fits\n"
     ]
    },
    {
     "name": "stderr",
     "output_type": "stream",
     "text": [
      "[Parallel(n_jobs=1)]: Using backend SequentialBackend with 1 concurrent workers.\n",
      "[Parallel(n_jobs=1)]: Done  48 out of  48 | elapsed:  3.6min finished\n"
     ]
    },
    {
     "name": "stdout",
     "output_type": "stream",
     "text": [
      "fitting done in 223.363507270813 sec!\n",
      "the best parameter set is : {'estimator__learning_rate': 0.1, 'estimator__n_estimators': 160}\n",
      "evaluating the model\n",
      "the train set score is 0.8748781711931625\n",
      "the test set score is 0.859744239047166\n",
      "running the model : XGBClassifier(base_score=None, booster=None, colsample_bylevel=None,\n",
      "              colsample_bynode=None, colsample_bytree=None, gamma=None,\n",
      "              gpu_id=None, importance_type='gain', interaction_constraints=None,\n",
      "              learning_rate=None, max_delta_step=None, max_depth=None,\n",
      "              min_child_weight=None, missing=nan, monotone_constraints=None,\n",
      "              n_estimators=100, n_jobs=None, num_parallel_tree=None,\n",
      "              objective='binary:logistic', random_state=None, reg_alpha=None,\n",
      "              reg_lambda=None, scale_pos_weight=None, subsample=None,\n",
      "              tree_method=None, validate_parameters=None, verbosity=None)\n",
      "running for the parameter set : {'estimator__learning_rate': [0.001, 0.01, 0.05, 0.1]}\n",
      "fitting the model OneVsRestClassifier(estimator=XGBClassifier(base_score=None, booster=None,\n",
      "                                            colsample_bylevel=None,\n",
      "                                            colsample_bynode=None,\n",
      "                                            colsample_bytree=None, gamma=None,\n",
      "                                            gpu_id=None, importance_type='gain',\n",
      "                                            interaction_constraints=None,\n",
      "                                            learning_rate=None,\n",
      "                                            max_delta_step=None, max_depth=None,\n",
      "                                            min_child_weight=None, missing=nan,\n",
      "                                            monotone_constraints=None,\n",
      "                                            n_estimators=100, n_jobs=None,\n",
      "                                            num_parallel_tree=None,\n",
      "                                            objective='binary:logistic',\n",
      "                                            random_state=None, reg_alpha=None,\n",
      "                                            reg_lambda=None,\n",
      "                                            scale_pos_weight=None,\n",
      "                                            subsample=None, tree_method=None,\n",
      "                                            validate_parameters=None,\n",
      "                                            verbosity=None),\n",
      "                    n_jobs=None)\n",
      "Fitting 3 folds for each of 4 candidates, totalling 12 fits\n"
     ]
    },
    {
     "name": "stderr",
     "output_type": "stream",
     "text": [
      "[Parallel(n_jobs=1)]: Using backend SequentialBackend with 1 concurrent workers.\n",
      "[Parallel(n_jobs=1)]: Done  12 out of  12 | elapsed:   19.9s finished\n"
     ]
    },
    {
     "name": "stdout",
     "output_type": "stream",
     "text": [
      "fitting done in 22.397730827331543 sec!\n",
      "the best parameter set is : {'estimator__learning_rate': 0.05}\n",
      "evaluating the model\n",
      "the train set score is 0.8963415069955295\n",
      "the test set score is 0.8583510435445809\n",
      "\n",
      "running the model : LogisticRegression(C=1.0, class_weight='balanced', dual=False,\n",
      "                   fit_intercept=True, intercept_scaling=1, l1_ratio=None,\n",
      "                   max_iter=100, multi_class='auto', n_jobs=None, penalty='l2',\n",
      "                   random_state=None, solver='lbfgs', tol=0.0001, verbose=0,\n",
      "                   warm_start=False)\n",
      "running for the parameter set : {'estimator__C': [0.05, 0.1, 0.5]}\n",
      "fitting the model OneVsRestClassifier(estimator=LogisticRegression(C=1.0, class_weight='balanced',\n",
      "                                                 dual=False, fit_intercept=True,\n",
      "                                                 intercept_scaling=1,\n",
      "                                                 l1_ratio=None, max_iter=100,\n",
      "                                                 multi_class='auto',\n",
      "                                                 n_jobs=None, penalty='l2',\n",
      "                                                 random_state=None,\n",
      "                                                 solver='lbfgs', tol=0.0001,\n",
      "                                                 verbose=0, warm_start=False),\n",
      "                    n_jobs=None)\n",
      "Fitting 3 folds for each of 3 candidates, totalling 9 fits\n"
     ]
    },
    {
     "name": "stderr",
     "output_type": "stream",
     "text": [
      "[Parallel(n_jobs=1)]: Using backend SequentialBackend with 1 concurrent workers.\n",
      "[Parallel(n_jobs=1)]: Done   9 out of   9 | elapsed:    1.8s finished\n"
     ]
    },
    {
     "name": "stdout",
     "output_type": "stream",
     "text": [
      "fitting done in 2.1457395553588867 sec!\n",
      "the best parameter set is : {'estimator__C': 0.05}\n",
      "evaluating the model\n",
      "the train set score is 0.845585476751251\n",
      "the test set score is 0.8394471406228907\n",
      "running the model : KNeighborsClassifier(algorithm='auto', leaf_size=30, metric='minkowski',\n",
      "                     metric_params=None, n_jobs=None, n_neighbors=5, p=2,\n",
      "                     weights='uniform')\n",
      "running for the parameter set : {'estimator__n_neighbors': [10, 30, 50, 70]}\n",
      "fitting the model OneVsRestClassifier(estimator=KNeighborsClassifier(algorithm='auto',\n",
      "                                                   leaf_size=30,\n",
      "                                                   metric='minkowski',\n",
      "                                                   metric_params=None,\n",
      "                                                   n_jobs=None, n_neighbors=5,\n",
      "                                                   p=2, weights='uniform'),\n",
      "                    n_jobs=None)\n",
      "Fitting 3 folds for each of 4 candidates, totalling 12 fits\n"
     ]
    },
    {
     "name": "stderr",
     "output_type": "stream",
     "text": [
      "[Parallel(n_jobs=1)]: Using backend SequentialBackend with 1 concurrent workers.\n",
      "[Parallel(n_jobs=1)]: Done  12 out of  12 | elapsed:  2.7min finished\n"
     ]
    },
    {
     "name": "stdout",
     "output_type": "stream",
     "text": [
      "fitting done in 160.00383853912354 sec!\n",
      "the best parameter set is : {'estimator__n_neighbors': 30}\n",
      "evaluating the model\n",
      "the train set score is 0.828691465327747\n",
      "the test set score is 0.7903777379537689\n",
      "running the model : RandomForestClassifier(bootstrap=True, ccp_alpha=0.0, class_weight='balanced',\n",
      "                       criterion='gini', max_depth=None, max_features='auto',\n",
      "                       max_leaf_nodes=None, max_samples=None,\n",
      "                       min_impurity_decrease=0.0, min_impurity_split=None,\n",
      "                       min_samples_leaf=1, min_samples_split=2,\n",
      "                       min_weight_fraction_leaf=0.0, n_estimators=100,\n",
      "                       n_jobs=None, oob_score=False, random_state=None,\n",
      "                       verbose=0, warm_start=False)\n",
      "running for the parameter set : {'estimator__n_estimators': [50, 80, 110, 150], 'estimator__criterion': ['gini', 'entropy']}\n",
      "fitting the model OneVsRestClassifier(estimator=RandomForestClassifier(bootstrap=True,\n",
      "                                                     ccp_alpha=0.0,\n",
      "                                                     class_weight='balanced',\n",
      "                                                     criterion='gini',\n",
      "                                                     max_depth=None,\n",
      "                                                     max_features='auto',\n",
      "                                                     max_leaf_nodes=None,\n",
      "                                                     max_samples=None,\n",
      "                                                     min_impurity_decrease=0.0,\n",
      "                                                     min_impurity_split=None,\n",
      "                                                     min_samples_leaf=1,\n",
      "                                                     min_samples_split=2,\n",
      "                                                     min_weight_fraction_leaf=0.0,\n",
      "                                                     n_estimators=100,\n",
      "                                                     n_jobs=None,\n",
      "                                                     oob_score=False,\n",
      "                                                     random_state=None,\n",
      "                                                     verbose=0,\n",
      "                                                     warm_start=False),\n",
      "                    n_jobs=None)\n",
      "Fitting 3 folds for each of 8 candidates, totalling 24 fits\n"
     ]
    },
    {
     "name": "stderr",
     "output_type": "stream",
     "text": [
      "[Parallel(n_jobs=1)]: Using backend SequentialBackend with 1 concurrent workers.\n",
      "[Parallel(n_jobs=1)]: Done  24 out of  24 | elapsed:  1.1min finished\n"
     ]
    },
    {
     "name": "stdout",
     "output_type": "stream",
     "text": [
      "fitting done in 72.60905027389526 sec!\n",
      "the best parameter set is : {'estimator__criterion': 'entropy', 'estimator__n_estimators': 150}\n",
      "evaluating the model\n",
      "the train set score is 0.9999999999999999\n",
      "the test set score is 0.8524081784119565\n",
      "running the model : AdaBoostClassifier(algorithm='SAMME.R', base_estimator=None, learning_rate=1.0,\n",
      "                   n_estimators=50, random_state=None)\n",
      "running for the parameter set : {'estimator__n_estimators': [50, 80, 110, 150], 'estimator__learning_rate': [0.001, 0.01, 0.05, 0.1]}\n",
      "fitting the model OneVsRestClassifier(estimator=AdaBoostClassifier(algorithm='SAMME.R',\n",
      "                                                 base_estimator=None,\n",
      "                                                 learning_rate=1.0,\n",
      "                                                 n_estimators=50,\n",
      "                                                 random_state=None),\n",
      "                    n_jobs=None)\n",
      "Fitting 3 folds for each of 16 candidates, totalling 48 fits\n"
     ]
    },
    {
     "name": "stderr",
     "output_type": "stream",
     "text": [
      "[Parallel(n_jobs=1)]: Using backend SequentialBackend with 1 concurrent workers.\n",
      "[Parallel(n_jobs=1)]: Done  48 out of  48 | elapsed:  1.7min finished\n"
     ]
    },
    {
     "name": "stdout",
     "output_type": "stream",
     "text": [
      "fitting done in 107.62034106254578 sec!\n",
      "the best parameter set is : {'estimator__learning_rate': 0.1, 'estimator__n_estimators': 150}\n",
      "evaluating the model\n",
      "the train set score is 0.8522216688800442\n",
      "the test set score is 0.850071122714404\n",
      "running the model : GradientBoostingClassifier(ccp_alpha=0.0, criterion='friedman_mse', init=None,\n",
      "                           learning_rate=0.1, loss='deviance', max_depth=3,\n",
      "                           max_features=None, max_leaf_nodes=None,\n",
      "                           min_impurity_decrease=0.0, min_impurity_split=None,\n",
      "                           min_samples_leaf=1, min_samples_split=2,\n",
      "                           min_weight_fraction_leaf=0.0, n_estimators=100,\n",
      "                           n_iter_no_change=None, presort='deprecated',\n",
      "                           random_state=None, subsample=1.0, tol=0.0001,\n",
      "                           validation_fraction=0.1, verbose=0,\n",
      "                           warm_start=False)\n",
      "running for the parameter set : {'estimator__n_estimators': [100, 120, 140, 160], 'estimator__learning_rate': [0.001, 0.01, 0.05, 0.1]}\n",
      "fitting the model OneVsRestClassifier(estimator=GradientBoostingClassifier(ccp_alpha=0.0,\n",
      "                                                         criterion='friedman_mse',\n",
      "                                                         init=None,\n",
      "                                                         learning_rate=0.1,\n",
      "                                                         loss='deviance',\n",
      "                                                         max_depth=3,\n",
      "                                                         max_features=None,\n",
      "                                                         max_leaf_nodes=None,\n",
      "                                                         min_impurity_decrease=0.0,\n",
      "                                                         min_impurity_split=None,\n",
      "                                                         min_samples_leaf=1,\n",
      "                                                         min_samples_split=2,\n",
      "                                                         min_weight_fraction_leaf=0.0,\n",
      "                                                         n_estimators=100,\n",
      "                                                         n_iter_no_change=None,\n",
      "                                                         presort='deprecated',\n",
      "                                                         random_state=None,\n",
      "                                                         subsample=1.0,\n",
      "                                                         tol=0.0001,\n",
      "                                                         validation_fraction=0.1,\n",
      "                                                         verbose=0,\n",
      "                                                         warm_start=False),\n",
      "                    n_jobs=None)\n",
      "Fitting 3 folds for each of 16 candidates, totalling 48 fits\n"
     ]
    },
    {
     "name": "stderr",
     "output_type": "stream",
     "text": [
      "[Parallel(n_jobs=1)]: Using backend SequentialBackend with 1 concurrent workers.\n",
      "[Parallel(n_jobs=1)]: Done  48 out of  48 | elapsed:  3.6min finished\n"
     ]
    },
    {
     "name": "stdout",
     "output_type": "stream",
     "text": [
      "fitting done in 223.21990489959717 sec!\n",
      "the best parameter set is : {'estimator__learning_rate': 0.1, 'estimator__n_estimators': 160}\n",
      "evaluating the model\n",
      "the train set score is 0.8749548991345791\n",
      "the test set score is 0.860567071878523\n",
      "running the model : XGBClassifier(base_score=None, booster=None, colsample_bylevel=None,\n",
      "              colsample_bynode=None, colsample_bytree=None, gamma=None,\n",
      "              gpu_id=None, importance_type='gain', interaction_constraints=None,\n",
      "              learning_rate=None, max_delta_step=None, max_depth=None,\n",
      "              min_child_weight=None, missing=nan, monotone_constraints=None,\n",
      "              n_estimators=100, n_jobs=None, num_parallel_tree=None,\n",
      "              objective='binary:logistic', random_state=None, reg_alpha=None,\n",
      "              reg_lambda=None, scale_pos_weight=None, subsample=None,\n",
      "              tree_method=None, validate_parameters=None, verbosity=None)\n",
      "running for the parameter set : {'estimator__learning_rate': [0.001, 0.01, 0.05, 0.1]}\n",
      "fitting the model OneVsRestClassifier(estimator=XGBClassifier(base_score=None, booster=None,\n",
      "                                            colsample_bylevel=None,\n",
      "                                            colsample_bynode=None,\n",
      "                                            colsample_bytree=None, gamma=None,\n",
      "                                            gpu_id=None, importance_type='gain',\n",
      "                                            interaction_constraints=None,\n",
      "                                            learning_rate=None,\n",
      "                                            max_delta_step=None, max_depth=None,\n",
      "                                            min_child_weight=None, missing=nan,\n",
      "                                            monotone_constraints=None,\n",
      "                                            n_estimators=100, n_jobs=None,\n",
      "                                            num_parallel_tree=None,\n",
      "                                            objective='binary:logistic',\n",
      "                                            random_state=None, reg_alpha=None,\n",
      "                                            reg_lambda=None,\n",
      "                                            scale_pos_weight=None,\n",
      "                                            subsample=None, tree_method=None,\n",
      "                                            validate_parameters=None,\n",
      "                                            verbosity=None),\n",
      "                    n_jobs=None)\n",
      "Fitting 3 folds for each of 4 candidates, totalling 12 fits\n"
     ]
    },
    {
     "name": "stderr",
     "output_type": "stream",
     "text": [
      "[Parallel(n_jobs=1)]: Using backend SequentialBackend with 1 concurrent workers.\n",
      "[Parallel(n_jobs=1)]: Done  12 out of  12 | elapsed:   19.3s finished\n"
     ]
    },
    {
     "name": "stdout",
     "output_type": "stream",
     "text": [
      "fitting done in 21.771085739135742 sec!\n",
      "the best parameter set is : {'estimator__learning_rate': 0.05}\n",
      "evaluating the model\n",
      "the train set score is 0.8968826618174419\n",
      "the test set score is 0.8588938329727344\n",
      "\n",
      "\n"
     ]
    }
   ],
   "source": [
    "imputer_cat = SimpleImputer(strategy='most_frequent', copy=False)\n",
    "param_dict = [{'estimator__C': [0.05, 0.1, 0.5]}, {'estimator__n_neighbors': [10, 30, 50, 70]},\n",
    "              {'estimator__n_estimators': [50, 80, 110, 150], 'estimator__criterion': ['gini', 'entropy']},\n",
    "              {'estimator__n_estimators': [50, 80, 110, 150], 'estimator__learning_rate': [0.001, 0.01, 0.05, 0.1]},\n",
    "              {'estimator__n_estimators': [100, 120, 140, 160], 'estimator__learning_rate': [0.001, 0.01, 0.05, 0.1]},\n",
    "              {'estimator__learning_rate': [0.001, 0.01, 0.05, 0.1]}]\n",
    "\n",
    "score_dict = {}\n",
    "\n",
    "for i in range(5, 65, 10):\n",
    "    print(\"running for n_neighbors={}\".format(i))\n",
    "    imputer_num = KNNImputer(n_neighbors=i, copy=False)\n",
    "    for clf_algo, param_grid in zip(clf_algos, param_dict):\n",
    "        print(\"running the model : {}\".format(clf_algo))\n",
    "        print(\"running for the parameter set : {}\".format(param_grid))\n",
    "            \n",
    "        train_score, test_score = result(imputer_cat=imputer_cat, impute_num=imputer_num, cat_cols=cat_cols, \n",
    "                                         num_cols=num_cols, X_train=X_train, X_test=X_test, batch_size=batch_size, \n",
    "                                         clf_algo=clf_algo, param_grid=param_grid, y_train=y_train, y_test=y_test)\n",
    "        if train_score > max_train_Score:\n",
    "            score_dict[str(clf_algo).split(\"(\")[0]] = [train_score, test_score]\n",
    "            max_train_Score = score_dict[str(clf_algo).split(\"(\")[0]][0]\n",
    "            \n",
    "    print()\n",
    "print()    "
   ]
  },
  {
   "cell_type": "code",
   "execution_count": 48,
   "metadata": {},
   "outputs": [
    {
     "data": {
      "text/plain": [
       "0.845585476751251"
      ]
     },
     "execution_count": 48,
     "metadata": {},
     "output_type": "execute_result"
    }
   ],
   "source": [
    "score_dict['LogisticRegression'][0]"
   ]
  },
  {
   "cell_type": "code",
   "execution_count": 28,
   "metadata": {},
   "outputs": [],
   "source": [
    "score_df = pd.DataFrame.from_dict(score_dict, orient='index', columns=['Train_Score', 'Test_score'])"
   ]
  },
  {
   "cell_type": "code",
   "execution_count": 46,
   "metadata": {},
   "outputs": [
    {
     "data": {
      "text/html": [
       "<div>\n",
       "<style scoped>\n",
       "    .dataframe tbody tr th:only-of-type {\n",
       "        vertical-align: middle;\n",
       "    }\n",
       "\n",
       "    .dataframe tbody tr th {\n",
       "        vertical-align: top;\n",
       "    }\n",
       "\n",
       "    .dataframe thead th {\n",
       "        text-align: right;\n",
       "    }\n",
       "</style>\n",
       "<table border=\"1\" class=\"dataframe\">\n",
       "  <thead>\n",
       "    <tr style=\"text-align: right;\">\n",
       "      <th></th>\n",
       "      <th>Train_Score</th>\n",
       "      <th>Test_score</th>\n",
       "    </tr>\n",
       "  </thead>\n",
       "  <tbody>\n",
       "    <tr>\n",
       "      <th>LogisticRegression</th>\n",
       "      <td>0.845585</td>\n",
       "      <td>0.839447</td>\n",
       "    </tr>\n",
       "    <tr>\n",
       "      <th>KNeighborsClassifier</th>\n",
       "      <td>0.828691</td>\n",
       "      <td>0.790378</td>\n",
       "    </tr>\n",
       "    <tr>\n",
       "      <th>RandomForestClassifier</th>\n",
       "      <td>1.000000</td>\n",
       "      <td>0.852408</td>\n",
       "    </tr>\n",
       "    <tr>\n",
       "      <th>AdaBoostClassifier</th>\n",
       "      <td>0.852222</td>\n",
       "      <td>0.850071</td>\n",
       "    </tr>\n",
       "    <tr>\n",
       "      <th>GradientBoostingClassifier</th>\n",
       "      <td>0.874955</td>\n",
       "      <td>0.860567</td>\n",
       "    </tr>\n",
       "    <tr>\n",
       "      <th>XGBClassifier</th>\n",
       "      <td>0.896883</td>\n",
       "      <td>0.858894</td>\n",
       "    </tr>\n",
       "  </tbody>\n",
       "</table>\n",
       "</div>"
      ],
      "text/plain": [
       "                            Train_Score  Test_score\n",
       "LogisticRegression             0.845585    0.839447\n",
       "KNeighborsClassifier           0.828691    0.790378\n",
       "RandomForestClassifier         1.000000    0.852408\n",
       "AdaBoostClassifier             0.852222    0.850071\n",
       "GradientBoostingClassifier     0.874955    0.860567\n",
       "XGBClassifier                  0.896883    0.858894"
      ]
     },
     "execution_count": 46,
     "metadata": {},
     "output_type": "execute_result"
    }
   ],
   "source": [
    "score_df"
   ]
  },
  {
   "cell_type": "code",
   "execution_count": 44,
   "metadata": {},
   "outputs": [
    {
     "data": {
      "text/plain": [
       "(array([0., 1., 2., 3., 4., 5.]), <a list of 6 Text xticklabel objects>)"
      ]
     },
     "execution_count": 44,
     "metadata": {},
     "output_type": "execute_result"
    },
    {
     "data": {
      "image/png": "[encoded data removed]",
      "text/plain": [
       "<Figure size 720x432 with 1 Axes>"
      ]
     },
     "metadata": {
      "needs_background": "light"
     },
     "output_type": "display_data"
    }
   ],
   "source": [
    "score_df[['Train_Score', 'Test_score']].plot(figsize=(10,6))\n",
    "plt.xticks(rotation=90)"
   ]
  },
  {
   "cell_type": "code",
   "execution_count": 45,
   "metadata": {},
   "outputs": [
    {
     "data": {
      "text/plain": [
       "[0.8522216688800442, 0.850071122714404]"
      ]
     },
     "execution_count": 45,
     "metadata": {},
     "output_type": "execute_result"
    }
   ],
   "source": [
    "score_dict['AdaBoostClassifier']"
   ]
  },
  {
   "cell_type": "code",
   "execution_count": 52,
   "metadata": {},
   "outputs": [],
   "source": [
    "#y_test"
   ]
  },
  {
   "cell_type": "code",
   "execution_count": null,
   "metadata": {},
   "outputs": [],
   "source": []
  },
  {
   "cell_type": "code",
   "execution_count": 58,
   "metadata": {},
   "outputs": [
    {
     "name": "stdout",
     "output_type": "stream",
     "text": [
      "<sklearn.metrics._plot.confusion_matrix.ConfusionMatrixDisplay object at 0x7f8f1b867d90>\n"
     ]
    },
    {
     "data": {
      "image/png": "[encoded data removed]",
      "text/plain": [
       "<Figure size 432x288 with 2 Axes>"
      ]
     },
     "metadata": {
      "needs_background": "light"
     },
     "output_type": "display_data"
    }
   ],
   "source": [
    "imputer_cat = SimpleImputer(strategy='most_frequent', copy=False)\n",
    "imputer_num = KNNImputer(n_neighbors=55, copy=False)\n",
    "\n",
    "model = OneVsRestClassifier(AdaBoostClassifier(n_estimators=150, learning_rate=0.1))\n",
    "X_train_final, X_test_final = batch_preprocessing(imputer_cat=imputer_cat, imputer_num=imputer_num, \n",
    "                                                  cat_cols=cat_cols, num_cols=num_cols, X_train=X_train,\n",
    "                                                  X_test=X_test, batch_size=batch_size)\n",
    "\n",
    "model.fit(X_train_final, y_train.iloc[0:20000, [0]])\n",
    "model_pred = model.predict(X_test_final)\n",
    "\n",
    "conf_mat = plot_confusion_matrix(model, X_test_final, y_test.iloc[0:20000, [0]])\n",
    "print(conf_mat)"
   ]
  },
  {
   "cell_type": "code",
   "execution_count": 74,
   "metadata": {},
   "outputs": [],
   "source": [
    "from tensorflow.keras.layers import Dense, Dropout\n",
    "from tensorflow.keras.models import Sequential\n",
    "from tensorflow.keras.callbacks import EarlyStopping"
   ]
  },
  {
   "cell_type": "code",
   "execution_count": null,
   "metadata": {},
   "outputs": [],
   "source": [
    "Dropout()"
   ]
  },
  {
   "cell_type": "code",
   "execution_count": 111,
   "metadata": {},
   "outputs": [
    {
     "name": "stdout",
     "output_type": "stream",
     "text": [
      "Model: \"sequential_18\"\n",
      "_________________________________________________________________\n",
      "Layer (type)                 Output Shape              Param #   \n",
      "=================================================================\n",
      "dense_39 (Dense)             (None, 28)                1456      \n",
      "_________________________________________________________________\n",
      "dropout (Dropout)            (None, 28)                0         \n",
      "_________________________________________________________________\n",
      "dense_40 (Dense)             (None, 56)                1624      \n",
      "_________________________________________________________________\n",
      "dense_41 (Dense)             (None, 2)                 114       \n",
      "=================================================================\n",
      "Total params: 3,194\n",
      "Trainable params: 3,194\n",
      "Non-trainable params: 0\n",
      "_________________________________________________________________\n"
     ]
    }
   ],
   "source": [
    "model = Sequential()\n",
    "\n",
    "model.add(Dense(28, activation='relu', input_shape=(X_train_final.shape[1],)))\n",
    "model.add(Dropout(0.2))\n",
    "model.add(Dense(56, activation='relu'))\n",
    "model.add(Dense(2, activation='sigmoid'))\n",
    "\n",
    "model.summary()"
   ]
  },
  {
   "cell_type": "code",
   "execution_count": 103,
   "metadata": {},
   "outputs": [],
   "source": [
    "early_stop = EarlyStopping(monitor='val_loss', patience=5, mode='min')"
   ]
  },
  {
   "cell_type": "code",
   "execution_count": 112,
   "metadata": {},
   "outputs": [
    {
     "name": "stdout",
     "output_type": "stream",
     "text": [
      "Epoch 1/50\n",
      "20/20 [==============================] - 0s 7ms/step - loss: 0.7190 - val_loss: 0.6318\n",
      "Epoch 2/50\n",
      "20/20 [==============================] - 0s 6ms/step - loss: 0.6113 - val_loss: 0.5897\n",
      "Epoch 3/50\n",
      "20/20 [==============================] - 0s 6ms/step - loss: 0.5801 - val_loss: 0.5567\n",
      "Epoch 4/50\n",
      "20/20 [==============================] - 0s 6ms/step - loss: 0.5500 - val_loss: 0.5276\n",
      "Epoch 5/50\n",
      "20/20 [==============================] - 0s 6ms/step - loss: 0.5295 - val_loss: 0.5084\n",
      "Epoch 6/50\n",
      "20/20 [==============================] - 0s 6ms/step - loss: 0.5132 - val_loss: 0.4963\n",
      "Epoch 7/50\n",
      "20/20 [==============================] - 0s 6ms/step - loss: 0.5024 - val_loss: 0.4870\n",
      "Epoch 8/50\n",
      "20/20 [==============================] - 0s 6ms/step - loss: 0.4945 - val_loss: 0.4810\n",
      "Epoch 9/50\n",
      "20/20 [==============================] - 0s 6ms/step - loss: 0.4884 - val_loss: 0.4766\n",
      "Epoch 10/50\n",
      "20/20 [==============================] - 0s 6ms/step - loss: 0.4831 - val_loss: 0.4726\n",
      "Epoch 11/50\n",
      "20/20 [==============================] - 0s 6ms/step - loss: 0.4786 - val_loss: 0.4694\n",
      "Epoch 12/50\n",
      "20/20 [==============================] - 0s 6ms/step - loss: 0.4755 - val_loss: 0.4668\n",
      "Epoch 13/50\n",
      "20/20 [==============================] - 0s 6ms/step - loss: 0.4722 - val_loss: 0.4653\n",
      "Epoch 14/50\n",
      "20/20 [==============================] - 0s 6ms/step - loss: 0.4705 - val_loss: 0.4628\n",
      "Epoch 15/50\n",
      "20/20 [==============================] - 0s 6ms/step - loss: 0.4679 - val_loss: 0.4612\n",
      "Epoch 16/50\n",
      "20/20 [==============================] - 0s 6ms/step - loss: 0.4654 - val_loss: 0.4594\n",
      "Epoch 17/50\n",
      "20/20 [==============================] - 0s 6ms/step - loss: 0.4634 - val_loss: 0.4583\n",
      "Epoch 18/50\n",
      "20/20 [==============================] - 0s 6ms/step - loss: 0.4615 - val_loss: 0.4568\n",
      "Epoch 19/50\n",
      "20/20 [==============================] - 0s 6ms/step - loss: 0.4588 - val_loss: 0.4554\n",
      "Epoch 20/50\n",
      "20/20 [==============================] - 0s 6ms/step - loss: 0.4570 - val_loss: 0.4542\n",
      "Epoch 21/50\n",
      "20/20 [==============================] - 0s 6ms/step - loss: 0.4550 - val_loss: 0.4534\n",
      "Epoch 22/50\n",
      "20/20 [==============================] - 0s 6ms/step - loss: 0.4540 - val_loss: 0.4530\n",
      "Epoch 23/50\n",
      "20/20 [==============================] - 0s 7ms/step - loss: 0.4538 - val_loss: 0.4516\n",
      "Epoch 24/50\n",
      "20/20 [==============================] - 0s 6ms/step - loss: 0.4523 - val_loss: 0.4513\n",
      "Epoch 25/50\n",
      "20/20 [==============================] - 0s 6ms/step - loss: 0.4509 - val_loss: 0.4506\n",
      "Epoch 26/50\n",
      "20/20 [==============================] - 0s 6ms/step - loss: 0.4505 - val_loss: 0.4498\n",
      "Epoch 27/50\n",
      "20/20 [==============================] - 0s 6ms/step - loss: 0.4482 - val_loss: 0.4490\n",
      "Epoch 28/50\n",
      "20/20 [==============================] - 0s 6ms/step - loss: 0.4476 - val_loss: 0.4485\n",
      "Epoch 29/50\n",
      "20/20 [==============================] - 0s 7ms/step - loss: 0.4477 - val_loss: 0.4484\n",
      "Epoch 30/50\n",
      "20/20 [==============================] - 0s 6ms/step - loss: 0.4445 - val_loss: 0.4480\n",
      "Epoch 31/50\n",
      "20/20 [==============================] - 0s 5ms/step - loss: 0.4463 - val_loss: 0.4473\n",
      "Epoch 32/50\n",
      "20/20 [==============================] - 0s 5ms/step - loss: 0.4452 - val_loss: 0.4470\n",
      "Epoch 33/50\n",
      "20/20 [==============================] - 0s 6ms/step - loss: 0.4448 - val_loss: 0.4471\n",
      "Epoch 34/50\n",
      "20/20 [==============================] - 0s 6ms/step - loss: 0.4431 - val_loss: 0.4466\n",
      "Epoch 35/50\n",
      "20/20 [==============================] - 0s 6ms/step - loss: 0.4434 - val_loss: 0.4460\n",
      "Epoch 36/50\n",
      "20/20 [==============================] - 0s 6ms/step - loss: 0.4414 - val_loss: 0.4454\n",
      "Epoch 37/50\n",
      "20/20 [==============================] - 0s 7ms/step - loss: 0.4415 - val_loss: 0.4456\n",
      "Epoch 38/50\n",
      "20/20 [==============================] - 0s 6ms/step - loss: 0.4405 - val_loss: 0.4451\n",
      "Epoch 39/50\n",
      "20/20 [==============================] - 0s 5ms/step - loss: 0.4418 - val_loss: 0.4450\n",
      "Epoch 40/50\n",
      "20/20 [==============================] - 0s 5ms/step - loss: 0.4406 - val_loss: 0.4445\n",
      "Epoch 41/50\n",
      "20/20 [==============================] - 0s 6ms/step - loss: 0.4395 - val_loss: 0.4450\n",
      "Epoch 42/50\n",
      "20/20 [==============================] - 0s 6ms/step - loss: 0.4382 - val_loss: 0.4445\n",
      "Epoch 43/50\n",
      "20/20 [==============================] - 0s 6ms/step - loss: 0.4389 - val_loss: 0.4441\n",
      "Epoch 44/50\n",
      "20/20 [==============================] - 0s 5ms/step - loss: 0.4380 - val_loss: 0.4442\n",
      "Epoch 45/50\n",
      "20/20 [==============================] - 0s 6ms/step - loss: 0.4376 - val_loss: 0.4439\n",
      "Epoch 46/50\n",
      "20/20 [==============================] - 0s 6ms/step - loss: 0.4372 - val_loss: 0.4435\n",
      "Epoch 47/50\n",
      "20/20 [==============================] - 0s 6ms/step - loss: 0.4374 - val_loss: 0.4434\n",
      "Epoch 48/50\n",
      "20/20 [==============================] - 0s 6ms/step - loss: 0.4360 - val_loss: 0.4436\n",
      "Epoch 49/50\n",
      "20/20 [==============================] - 0s 7ms/step - loss: 0.4362 - val_loss: 0.4439\n",
      "Epoch 50/50\n",
      "20/20 [==============================] - 0s 6ms/step - loss: 0.4341 - val_loss: 0.4429\n"
     ]
    },
    {
     "data": {
      "text/plain": [
       "<tensorflow.python.keras.callbacks.History at 0x7f8e702aa8d0>"
      ]
     },
     "execution_count": 112,
     "metadata": {},
     "output_type": "execute_result"
    }
   ],
   "source": [
    "model.compile(optimizer='adam', loss='binary_crossentropy')\n",
    "model.fit(X_train_final, y_train.iloc[0:20000, :], validation_data=(X_test_final, y_test.iloc[0:20000, :]),\n",
    "          epochs=50, batch_size=1000, callbacks=[early_stop])"
   ]
  },
  {
   "cell_type": "code",
   "execution_count": 113,
   "metadata": {},
   "outputs": [],
   "source": [
    "model_pred = model.predict(X_test_final)"
   ]
  },
  {
   "cell_type": "code",
   "execution_count": 114,
   "metadata": {},
   "outputs": [
    {
     "data": {
      "text/plain": [
       "array([[0.03674316, 0.07489148],\n",
       "       [0.0702655 , 0.11146212],\n",
       "       [0.03445953, 0.0908398 ],\n",
       "       ...,\n",
       "       [0.2777725 , 0.3473661 ],\n",
       "       [0.1347021 , 0.45694205],\n",
       "       [0.03874811, 0.2234132 ]], dtype=float32)"
      ]
     },
     "execution_count": 114,
     "metadata": {},
     "output_type": "execute_result"
    }
   ],
   "source": [
    "model_pred"
   ]
  },
  {
   "cell_type": "code",
   "execution_count": 115,
   "metadata": {},
   "outputs": [],
   "source": [
    "model_score = roc_auc_score(y_true=y_test.iloc[0:20000, :], y_score=model_pred, average='weighted')"
   ]
  },
  {
   "cell_type": "code",
   "execution_count": 116,
   "metadata": {},
   "outputs": [
    {
     "data": {
      "text/plain": [
       "0.8352571796461876"
      ]
     },
     "execution_count": 116,
     "metadata": {},
     "output_type": "execute_result"
    }
   ],
   "source": [
    "model_score"
   ]
  },
  {
   "cell_type": "code",
   "execution_count": 117,
   "metadata": {},
   "outputs": [
    {
     "data": {
      "text/plain": [
       "0.8516494015555042"
      ]
     },
     "execution_count": 117,
     "metadata": {},
     "output_type": "execute_result"
    }
   ],
   "source": [
    "roc_auc_score(y_true=y_train.iloc[0:20000, :], y_score=model.predict(X_train_final), average='weighted')"
   ]
  },
  {
   "cell_type": "code",
   "execution_count": null,
   "metadata": {},
   "outputs": [],
   "source": []
  }
 ],
 "metadata": {
  "kernelspec": {
   "display_name": "Python 3",
   "language": "python",
   "name": "python3"
  },
  "language_info": {
   "codemirror_mode": {
    "name": "ipython",
    "version": 3
   },
   "file_extension": ".py",
   "mimetype": "text/x-python",
   "name": "python",
   "nbconvert_exporter": "python",
   "pygments_lexer": "ipython3",
   "version": "3.7.4"
  }
 },
 "nbformat": 4,
 "nbformat_minor": 4
}
